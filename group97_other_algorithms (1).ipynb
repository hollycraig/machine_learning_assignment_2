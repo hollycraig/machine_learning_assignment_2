{
  "nbformat": 4,
  "nbformat_minor": 0,
  "metadata": {
    "kernelspec": {
      "display_name": "Python 3",
      "language": "python",
      "name": "python3"
    },
    "language_info": {
      "codemirror_mode": {
        "name": "ipython",
        "version": 3
      },
      "file_extension": ".py",
      "mimetype": "text/x-python",
      "name": "python",
      "nbconvert_exporter": "python",
      "pygments_lexer": "ipython3",
      "version": "3.7.4"
    },
    "colab": {
      "name": "group97_other_algorithms.ipynb",
      "provenance": []
    }
  },
  "cells": [
    {
      "cell_type": "markdown",
      "metadata": {
        "id": "Dcx8PW27A6Fo"
      },
      "source": [
        "# COMP5318 - Machine Learning and Data Mining: Assignment 2\n",
        "<div style=\"text-align: right\"> Due: Wed 18 Nov 2020 11:59PM </div>\n",
        "<div style=\"text-align: right\"> Group 97 </div>\n",
        "\n",
        "## Other Algorithm: Random Forest, Support Vector Machine"
      ]
    },
    {
      "cell_type": "markdown",
      "metadata": {
        "id": "1Yk5Y9scA6Fo"
      },
      "source": [
        "### Imports"
      ]
    },
    {
      "cell_type": "code",
      "metadata": {
        "id": "FCFPlPC-A6Fo"
      },
      "source": [
        "import tensorflow as tf \n",
        "from keras.datasets import cifar100\n",
        "import numpy as np\n",
        "\n",
        "from sklearn.ensemble import RandomForestClassifier\n",
        "from skimage import exposure\n",
        "from skimage import feature\n",
        "\n",
        "from keras.models import Sequential\n",
        "from keras.layers import Dense, Activation\n",
        "from keras.optimizers import Adam, SGD\n",
        "from keras.utils.np_utils import to_categorical\n",
        "from keras.optimizers import Adam\n",
        "from keras.layers import Dense, Activation, Dropout\n",
        "from keras.datasets import cifar100\n",
        "\n",
        "import matplotlib.pyplot as plt\n",
        "import warnings\n",
        "warnings.filterwarnings('ignore')"
      ],
      "execution_count": 15,
      "outputs": []
    },
    {
      "cell_type": "markdown",
      "metadata": {
        "id": "U5g_LjGIA6Fp"
      },
      "source": [
        "### Helper Methods"
      ]
    },
    {
      "cell_type": "markdown",
      "metadata": {
        "id": "Mv42LKTNA6Fp"
      },
      "source": [
        "#### Importing Data"
      ]
    },
    {
      "cell_type": "code",
      "metadata": {
        "id": "K-P9QjjWA6Fp"
      },
      "source": [
        "def import_data() -> ((np.ndarray, np.ndarray), (np.ndarray, np.ndarray)):\n",
        "    return tf.keras.datasets.cifar100.load_data(label_mode=\"coarse\")\n",
        "\n",
        "def load_in_dataset_and_preprocess_validation_testing(explained_variance):\n",
        "    (training_data, training_labels), (testing_data, testing_labels) = (cifar100.load_data(\"coarse\"))\n",
        "    \n",
        "    # reshape the data \n",
        "    training_data = training_data.reshape(50000, 3072)\n",
        "    testing_data = testing_data.reshape(10000, 3072)\n",
        "    \n",
        "    concatenated_training = concatenate_data(training_data, training_labels)\n",
        "    \n",
        "    training_set, validation_set = split_into_validation_training(concatenated_training)\n",
        "    \n",
        "    training_data = training_set[:, :-1]\n",
        "    training_labels = np.squeeze(training_set[:, -1])\n",
        "    \n",
        "    validation_data = validation_set[:, :-1]\n",
        "    validation_labels = np.squeeze(validation_set[:, -1])\n",
        "    \n",
        "    training_data = training_data.astype('float32')\n",
        "    validation_data = validation_data.astype('float32')\n",
        "\n",
        "    # Centre data\n",
        "    training_data, validation_data = centre_data(training_data, validation_data)\n",
        "\n",
        "    # Apply PCA\n",
        "    training_data, validation_data = PCA(explained_variance, training_data, validation_data)\n",
        "    \n",
        "    # Normalization of pixel values (to [0-1] range)\n",
        "    training_data = training_data / 255\n",
        "    validation_data = validation_data / 255\n",
        "    \n",
        "    return training_data, training_labels, validation_data, validation_labels\n"
      ],
      "execution_count": 16,
      "outputs": []
    },
    {
      "cell_type": "code",
      "metadata": {
        "id": "AFSgq3I7A6Fp"
      },
      "source": [
        "## split data into training and validation set with 30:70 split \n",
        "def split_into_validation_training(training_matrix):\n",
        "    \n",
        "    import random\n",
        "    random.shuffle(training_matrix)\n",
        "\n",
        "    training_set = training_matrix[:int(len(training_matrix)*0.7)]\n",
        "    validation_set = training_matrix[int(len(training_matrix)*0.7):]\n",
        "    \n",
        "    return training_set, validation_set"
      ],
      "execution_count": 17,
      "outputs": []
    },
    {
      "cell_type": "code",
      "metadata": {
        "id": "EsvrrmbnA6Fp"
      },
      "source": [
        "## apply PCA \n",
        "def PCA(variance_target, training_data, testing_data):\n",
        "\n",
        "    U, sigma, Vt = np.linalg.svd(training_data, full_matrices=False)\n",
        "    \n",
        "    sum_square_singular = np.sum(sigma**2)\n",
        "    \n",
        "    ratios = sigma**2/sum_square_singular\n",
        "    \n",
        "    n_components = 0\n",
        "    explained_variance = 0\n",
        "    \n",
        "    # determine how many principle components must be retained to maintain the target level of explained variance\n",
        "    for i in range(len(ratios)):\n",
        "        if explained_variance >= variance_target:\n",
        "            break\n",
        "        else: \n",
        "            n_components += 1\n",
        "            explained_variance += ratios[i]\n",
        "    \n",
        "    return training_data.dot(Vt.T[:, :n_components]), testing_data.dot(Vt.T[:, :n_components])\n"
      ],
      "execution_count": 18,
      "outputs": []
    },
    {
      "cell_type": "code",
      "metadata": {
        "id": "WZiRPHmQA6Fp"
      },
      "source": [
        "## helper function for concatenating labels onto their corresponding data points\n",
        "def concatenate_data(training_data, training_labels):\n",
        "    return np.column_stack((training_data, training_labels))"
      ],
      "execution_count": 19,
      "outputs": []
    },
    {
      "cell_type": "code",
      "metadata": {
        "id": "Xo6Pq3FrA6Fp"
      },
      "source": [
        "## centre the data\n",
        "def centre_data(train, test):\n",
        "    \n",
        "    # calculate the means for each attribute of the training data\n",
        "    column_means = np.mean(train, axis=0) \n",
        "    \n",
        "    # centre training data by subtracting training data attribute means\n",
        "    for i in range(len(train)):\n",
        "        train[i] = train[i] - column_means\n",
        "    \n",
        "    # centre testing data by subtracting training data attribute means\n",
        "    for x in range(len(test)):\n",
        "        test[x] = test[x] - column_means\n",
        "        \n",
        "    return train, test"
      ],
      "execution_count": 20,
      "outputs": []
    },
    {
      "cell_type": "markdown",
      "metadata": {
        "id": "Sv92lz3_A6Fp"
      },
      "source": [
        "#### Converting Images to Grayscale"
      ]
    },
    {
      "cell_type": "code",
      "metadata": {
        "id": "uaawgaCiA6Fp"
      },
      "source": [
        "def convert_to_grayscale(train, test):\n",
        "    rgb_weights = [0.2989, 0.5870, 0.1140]\n",
        "    gray_train = np.dot(train[:][...,:3], rgb_weights)\n",
        "    gray_test = np.dot(test[:][...,:3], rgb_weights)\n",
        "    return gray_train.astype(int), gray_test.astype(int)"
      ],
      "execution_count": 21,
      "outputs": []
    },
    {
      "cell_type": "markdown",
      "metadata": {
        "id": "gjfQUwzhA6Fp"
      },
      "source": [
        "#### Increasing Contrast"
      ]
    },
    {
      "cell_type": "code",
      "metadata": {
        "id": "PZSJ4rvlA6Fp"
      },
      "source": [
        "def increase_image_contrast(image, strength):\n",
        "    p_low, p_high = np.percentile(image, (strength, 100 - strength))\n",
        "    return (exposure.rescale_intensity(image, in_range=(p_low, p_high))).astype(int)\n",
        "\n",
        "def increase_all_contrast(train, test, strength=10):\n",
        "    new_train = np.copy(train)\n",
        "    new_test = np.copy(test)\n",
        "    for i in range(len(train)):\n",
        "        new_train[i] = increase_image_contrast(train[i], strength)\n",
        "    for i in range(len(test)):\n",
        "        new_test[i] = increase_image_contrast(test[i], strength)\n",
        "    return new_train, new_test"
      ],
      "execution_count": 44,
      "outputs": []
    },
    {
      "cell_type": "markdown",
      "metadata": {
        "id": "DFhU4mKaA6Fp"
      },
      "source": [
        "#### Histogram Equalization"
      ]
    },
    {
      "cell_type": "code",
      "metadata": {
        "id": "XUZ54YkXA6Fp"
      },
      "source": [
        "def equalize_hist(image):\n",
        "    return (exposure.equalize_hist(image) * 255).astype(int)\n",
        "\n",
        "def equalize_hist_all(train, test):\n",
        "    new_train = np.copy(train)\n",
        "    new_test = np.copy(test)\n",
        "    for i in range(len(train)):\n",
        "        new_train[i] = equalize_hist(train[i])\n",
        "    for i in range(len(test)):\n",
        "        new_test[i] = equalize_hist(test[i])\n",
        "    return new_train, new_test"
      ],
      "execution_count": null,
      "outputs": []
    },
    {
      "cell_type": "markdown",
      "metadata": {
        "id": "oAZqZfPLA6Fp"
      },
      "source": [
        "#### Adaptive Histogram Equalization"
      ]
    },
    {
      "cell_type": "code",
      "metadata": {
        "id": "YCbjEWVSA6Fp"
      },
      "source": [
        "def equalize_adapthist(image, clip_lim):\n",
        "    return (exposure.equalize_adapthist(image, clip_limit=clip_lim) * 255).astype(int)\n",
        "\n",
        "def equalize_adapthist_all(train, test, clip_limit=0.03):\n",
        "    new_train = np.copy(train)\n",
        "    new_test = np.copy(test)\n",
        "    for i in range(len(train)):\n",
        "        new_train[i] = equalize_adapthist(train[i], clip_limit)\n",
        "    for i in range(len(test)):\n",
        "        new_test[i] = equalize_adapthist(test[i], clip_limit)\n",
        "    return new_train, new_test"
      ],
      "execution_count": null,
      "outputs": []
    },
    {
      "cell_type": "markdown",
      "metadata": {
        "id": "zO7HtFacA6Fp"
      },
      "source": [
        "#### Canny Edge Detection"
      ]
    },
    {
      "cell_type": "code",
      "metadata": {
        "id": "devhxWb3A6Fp"
      },
      "source": [
        "def canny_edge_filter_all(train, test, sig=1):\n",
        "    if (len(train.shape) > 3):\n",
        "        train, test = convert_to_grayscale(train, test)\n",
        "    new_train = np.copy(train)\n",
        "    new_test = np.copy(test)\n",
        "    for i in range(len(train)):\n",
        "        new_train[i] = feature.canny(train[i].astype(float), sigma=sig)\n",
        "    for i in range(len(test)):\n",
        "        new_test[i] = feature.canny(test[i].astype(float), sigma=sig)\n",
        "    return new_train, new_test"
      ],
      "execution_count": null,
      "outputs": []
    },
    {
      "cell_type": "markdown",
      "metadata": {
        "id": "7DJwQL0sA6Fp"
      },
      "source": [
        "#### Flattening Images and Labels"
      ]
    },
    {
      "cell_type": "code",
      "metadata": {
        "id": "YKcuhO8dA6Fp"
      },
      "source": [
        "def flatten_data(x_train, y_train, x_test, y_test):\n",
        "    new_image_shape = 1\n",
        "    for dim in range(1, len(x_train.shape)):\n",
        "        new_image_shape *= x_train.shape[dim]\n",
        "        \n",
        "    flat_x_train = x_train.reshape((x_train.shape[0], new_image_shape))\n",
        "    flat_y_train = np.ravel(y_train)\n",
        "    \n",
        "    flat_x_test = x_test.reshape((x_test.shape[0], new_image_shape))\n",
        "    flat_y_test = np.ravel(y_test)\n",
        "    return flat_x_train, flat_y_train, flat_x_test, flat_y_test"
      ],
      "execution_count": null,
      "outputs": []
    },
    {
      "cell_type": "markdown",
      "metadata": {
        "id": "D14bE9nYA6Fp"
      },
      "source": [
        "### Algorithm 2: Multi-Layer Perceptron\n",
        "\n",
        "#### Preprocessing:\n",
        "- Flatten data\n",
        "- Centre Data\n",
        "- Run PCA\n",
        "\n",
        "#### Parameters:\n",
        "- `first activation function = 'relu'`\n",
        "- `second activation function = 'softmax'`\n",
        "- `number of hidden units = 256`\n",
        "- `learning rate = 0.001`\n",
        "- `optimizer = 'Adam'`\n",
        "- `decay = 1e-6`\n",
        "- `momentum = 0.9`\n",
        "- `epochs = 50`\n",
        "- `loss function = 'sparse_categorical_crossentropy'`"
      ]
    },
    {
      "cell_type": "code",
      "metadata": {
        "id": "oONxxaD7A6Fp"
      },
      "source": [
        "def load_in_dataset_and_preprocess_mlp(explained_variance):\n",
        "    (training_data, training_labels), (testing_data, testing_labels) = (cifar100.load_data(\"coarse\"))\n",
        "    \n",
        "    # reshape the data \n",
        "    training_data = training_data.reshape(50000, 3072)\n",
        "    testing_data = testing_data.reshape(10000, 3072)\n",
        "    \n",
        "    training_labels = np.squeeze(training_labels)\n",
        "    testing_labels = np.squeeze(testing_labels)\n",
        "    \n",
        "    training_data = training_data.astype('float32')\n",
        "    testing_data = testing_data.astype('float32')\n",
        "\n",
        "    # Centre data\n",
        "    training_data, testing_data = centre_data(training_data, testing_data)\n",
        "\n",
        "    # Apply PCA\n",
        "    training_data, testing_data = PCA(explained_variance, training_data, testing_data)\n",
        "    \n",
        "    # Normalization of pixel values (to [0-1] range)\n",
        "    training_data = training_data / 255\n",
        "    testing_data = testing_data / 255\n",
        "    \n",
        "    return training_data, training_labels, testing_data, testing_labels"
      ],
      "execution_count": 22,
      "outputs": []
    },
    {
      "cell_type": "code",
      "metadata": {
        "colab": {
          "base_uri": "https://localhost:8080/"
        },
        "id": "PfcMlXvuA6Fp",
        "outputId": "8d865f08-e074-4b54-87e3-b2340c3ad58a"
      },
      "source": [
        "def run_MLP_model(training_data, training_labels, testing_data, testing_labels, first_activation_function, second_activation_function, num_hidden_units, learning_rate, optimiser, decay_level, momentum, epochs, loss_function):\n",
        "\n",
        "    model = Sequential()\n",
        "\n",
        "    model.add(Dense(num_hidden_units, activation=first_activation_function, input_dim=training_data.shape[1]))\n",
        "    model.add(Dropout(0.5))\n",
        "    model.add(Dense(num_hidden_units, activation=first_activation_function))\n",
        "    model.add(Dropout(0.5))\n",
        "    model.add(Dense(20, activation=second_activation_function))\n",
        "\n",
        "    if (optimiser == 'SGD'):\n",
        "        op = SGD(lr=learning_rate, decay=decay_level, momentum=momentum, nesterov=True)\n",
        "    else:\n",
        "        op = Adam(lr=learning_rate, decay=decay_level)\n",
        "\n",
        "    model.compile(optimizer=op,\n",
        "                  loss=loss_function,\n",
        "                  metrics=['accuracy'])\n",
        "\n",
        "    history = model.fit(training_data, training_labels, epochs=epochs, batch_size=32, verbose=0, validation_split=0.2)\n",
        "\n",
        "    score = model.evaluate(testing_data, testing_labels, batch_size=128, verbose=0)\n",
        "    \n",
        "    return score[1], model\n",
        "\n",
        "training_data, training_labels, testing_data, testing_labels = load_in_dataset_and_preprocess_mlp(0.9)\n",
        "score, model = run_MLP_model(training_data, training_labels, testing_data, testing_labels, 'relu', 'softmax', 256, 0.001, 'Adam', 1e-6, 0.9, 50, 'sparse_categorical_crossentropy')\n",
        "print(score)\n"
      ],
      "execution_count": 23,
      "outputs": [
        {
          "output_type": "stream",
          "text": [
            "0.3630000054836273\n"
          ],
          "name": "stdout"
        }
      ]
    },
    {
      "cell_type": "markdown",
      "metadata": {
        "id": "yrjkNd8NBDp0"
      },
      "source": [
        "### Confusion Matrix"
      ]
    },
    {
      "cell_type": "code",
      "metadata": {
        "colab": {
          "base_uri": "https://localhost:8080/"
        },
        "id": "xAnBCZfmBLZs",
        "outputId": "fc00f406-3f68-4789-e006-3e6efa94ea17"
      },
      "source": [
        "conf_matrix = np.zeros((20, 20))\n",
        "predictions = model.predict(testing_data)\n",
        "correct_predictions = 0\n",
        "print(predictions.shape)\n",
        "\n",
        "for index, value in enumerate(predictions):\n",
        "    prediction_class = np.argmax(value)\n",
        "    conf_matrix[testing_labels[index]][prediction_class] += 1\n",
        "    if testing_labels[index] == prediction_class:\n",
        "        correct_predictions += 1\n",
        "\n",
        "print(\"Accuracy: {}\".format(correct_predictions / float(len(testing_data))))\n",
        "print(\"Confusion Matrix:\")\n",
        "print(conf_matrix)"
      ],
      "execution_count": 32,
      "outputs": [
        {
          "output_type": "stream",
          "text": [
            "(10000, 20)\n",
            "Accuracy: 0.363\n",
            "Confusion Matrix:\n",
            "[[206.  21.   2.   1.   1.   8.  14.  28.  67.  15.   8.  15.  36.   8.\n",
            "   17.  15.   9.   1.  16.  12.]\n",
            " [ 79. 128.  25.   2.  18.  13.  15.  16.  44.  17.  10.   3.  29.   5.\n",
            "   39.  29.   7.   3.  11.   7.]\n",
            " [  4.   4. 289.   2.  60.   4.   8.  28.  32.   4.   1.   4.   5.   1.\n",
            "   32.   6.   5.   5.   4.   2.]\n",
            " [ 13.   5.  12. 141.  35.  43.  38.  19.  54.  10.   2.   7.  12.   4.\n",
            "   56.  10.   7.   5.  14.  13.]\n",
            " [  5.   8.  66.   2. 228.   4.  16.  45.  55.   2.   1.   8.   4.   3.\n",
            "   32.   5.   3.   5.   5.   3.]\n",
            " [ 22.  13.  14.  33.  12. 119.  37.  15.  53.  12.   6.   7.  18.   3.\n",
            "   53.  12.  11.   6.  38.  16.]\n",
            " [ 11.   4.   5.   7.  26.  18. 189.  13.  68.  16.   9.   5.   9.   4.\n",
            "   62.   5.   5.   8.  26.  10.]\n",
            " [ 26.   9.  17.   7.  13.   3.  11. 242.  62.   5.   2.  14.  18.   5.\n",
            "   26.  14.  11.   4.   5.   6.]\n",
            " [ 32.   1.   3.   2.   4.   7.  15.  25. 256.   6.   3.  29.  40.   5.\n",
            "   37.   8.  10.   5.   7.   5.]\n",
            " [ 21.   3.   1.   2.   1.   1.   9.   1.  29. 278.  56.  12.   2.   1.\n",
            "   18.   5.   2.  17.  23.  18.]\n",
            " [ 19.  10.   2.   4.   4.   4.   9.   6.  20.  68. 282.   5.   5.   1.\n",
            "   10.   6.   3.  24.   5.  13.]\n",
            " [ 22.   2.   2.   4.   3.   4.  14.  35. 125.  31.   5. 113.  40.   3.\n",
            "   41.   8.   6.  15.  16.  11.]\n",
            " [ 30.   5.   6.   2.   5.  10.  14.  35. 152.   2.   2.  19. 127.   4.\n",
            "   32.  10.  15.   2.  19.   9.]\n",
            " [ 44.  13.  21.   8.  26.   9.  32.  63.  93.  11.   9.  10.  33.  33.\n",
            "   40.  17.  19.   7.   6.   6.]\n",
            " [  7.   1.  11.  11.  19.  13.  27.  10.  82.  13.   0.   8.   3.   1.\n",
            "  259.   7.   9.   2.  13.   4.]\n",
            " [ 55.  12.   3.   3.   3.  11.  17.  47.  95.  10.   6.  18.  57.  13.\n",
            "   29.  72.  11.   8.  14.  16.]\n",
            " [ 26.   4.   7.  10.   5.   7.  16.  46. 154.   6.   2.  20.  57.   5.\n",
            "   51.  22.  46.   3.  10.   3.]\n",
            " [ 15.   1.   4.   2.   6.   5.   5.  14.  25.  33.  14.   5.   2.   2.\n",
            "   11.  13.   4. 312.  10.  17.]\n",
            " [ 27.   7.   5.   1.  13.  18.  19.   4.  42.  70.  10.  13.  22.   3.\n",
            "   28.   2.   0.  25. 150.  41.]\n",
            " [ 27.   2.   3.   6.   7.   4.  11.  20.  48.  60.  12.  18.  19.   3.\n",
            "   13.   9.   1.  20.  57. 160.]]\n"
          ],
          "name": "stdout"
        }
      ]
    },
    {
      "cell_type": "markdown",
      "metadata": {
        "id": "6KnVpRkjHz0v"
      },
      "source": [
        "###Precision and Recall"
      ]
    },
    {
      "cell_type": "code",
      "metadata": {
        "id": "_sjjXpI5Hy_o",
        "colab": {
          "base_uri": "https://localhost:8080/"
        },
        "outputId": "899ab3c8-0fdd-4d0c-95ee-b94f38dbea4f"
      },
      "source": [
        "false_positive = conf_matrix.sum(axis=0) - np.diag(conf_matrix)  \n",
        "false_negative = conf_matrix.sum(axis=1) - np.diag(conf_matrix)\n",
        "true_positive = np.diag(conf_matrix)\n",
        "true_negative = conf_matrix.sum() - (false_positive + false_negative + true_positive)\n",
        "\n",
        "# Sensitivity, hit rate, recall, or true positive rate\n",
        "recall = true_positive/(true_positive+false_negative)\n",
        "\n",
        "# Precision or positive predictive valuep\n",
        "precision = true_positive/(true_positive+false_positive)\n",
        "\n",
        "# Overall accuracy\n",
        "#ACC = (TP+TN)/(TP+FP+FN+TN)\n",
        "\n",
        "print(recall)\n",
        "print(precision)"
      ],
      "execution_count": 28,
      "outputs": [
        {
          "output_type": "stream",
          "text": [
            "[0.412 0.256 0.578 0.282 0.456 0.238 0.378 0.484 0.512 0.556 0.564 0.226\n",
            " 0.254 0.066 0.518 0.144 0.092 0.624 0.3   0.32 ]\n",
            "[0.29811867 0.50592885 0.58032129 0.564      0.46625767 0.39016393\n",
            " 0.36627907 0.33988764 0.16452442 0.41554559 0.64090909 0.33933934\n",
            " 0.23605948 0.30841121 0.29232506 0.26181818 0.25       0.65408805\n",
            " 0.33407572 0.43010753]\n"
          ],
          "name": "stdout"
        }
      ]
    },
    {
      "cell_type": "markdown",
      "metadata": {
        "id": "TeZ_1QQaA6Fp"
      },
      "source": [
        "### Algorithm 3: Support Vector Machine\n",
        "\n",
        "#### Preprocessing:\n",
        "- Flatten data\n",
        "- Centre Data\n",
        "- Run PCA\n",
        "\n",
        "#### Parameters:\n",
        "- `learning_rate = 0.00000001`\n",
        "- `regularisation_param = 1000`\n",
        "- `iterations = 20000`\n",
        "- `batch_size = 200`\n",
        "- `num_classes = 20`"
      ]
    },
    {
      "cell_type": "code",
      "metadata": {
        "id": "v0ZEE39NA6Fp",
        "colab": {
          "base_uri": "https://localhost:8080/"
        },
        "outputId": "45ab0412-e936-4445-82c4-aec9fe484990"
      },
      "source": [
        "class SVM:\n",
        "\n",
        "    training_data=[]\n",
        "    testing_data=[]\n",
        "\n",
        "    def __init__(self, training_data, testing_data):\n",
        "        self.training_data= training_data\n",
        "        self.testing_data= testing_data\n",
        "\n",
        "    def __len__(self, data):\n",
        "        return len(data)\n",
        "\n",
        "    def calculate_linear_output(self, data, weights):\n",
        "        return np.dot(data, weights)\n",
        "\n",
        "    def calculate_distance(self, X, w):\n",
        "        return  y * (np.dot(X, w)) - 1\n",
        "\n",
        "    # calculate gradient, use L2 regularisation \n",
        "    def calculate_gradient(self, weights, regularisation_param, training_data, training_labels, num_classes):\n",
        "        \n",
        "        num_training_samples, num_training_features = training_data.shape\n",
        "        \n",
        "        gradient = np.zeros((num_training_features, num_classes))\n",
        "        \n",
        "        # w^Tx\n",
        "        linear_output = self.calculate_linear_output(training_data, weights)\n",
        "\n",
        "        linear_output_y_i = linear_output[np.arange(num_training_samples),training_labels]\n",
        "        delta = linear_output - linear_output_y_i[:,np.newaxis] + 1\n",
        "        \n",
        "        ones_and_zeros = np.zeros(delta.shape)\n",
        "        \n",
        "        # With lagrange multiplier considered, if on the support vector: 𝛼 = 1, else 𝛼 = 0\n",
        "        ones_and_zeros = np.where(delta > 0, 1, 0)\n",
        "        \n",
        "        # calculate the sum of each row \n",
        "        sum_of_each_row = np.sum(ones_and_zeros, axis=1)\n",
        "        \n",
        "        ones_and_zeros[np.arange(num_training_samples), training_labels] = - sum_of_each_row\n",
        "\n",
        "        gradient = (1/num_training_samples) * np.dot((training_data.T), ones_and_zeros)\n",
        "        \n",
        "        # controls the influence of each individual support vector \n",
        "        gradient = gradient + (2* regularisation_param * weights)\n",
        "        \n",
        "        return gradient \n",
        "\n",
        "    # train model using stochastic gradient descent \n",
        "    def train_model(self, training_data, training_labels, weights, learning_rate, regularisation_param, iterations, batch_size, num_classes):\n",
        "      \n",
        "        num_training_samples = len(training_data)\n",
        "        weights = weights\n",
        "\n",
        "        for i in range(iterations):\n",
        "        # create batch\n",
        "            batch = np.random.choice(5000, batch_size) #change this to num_training_samples \n",
        "            gradient = self.calculate_gradient(weights, regularisation_param, training_data[batch], training_labels[batch], num_classes)\n",
        "            weights = weights - learning_rate * gradient\n",
        "\n",
        "        return weights\n",
        "\n",
        "    # calculate accuracy of model \n",
        "    def calculate_accuracy (self, data, labels, weights):\n",
        "        \n",
        "        accuracy = 0\n",
        "        prediction = np.zeros(len(data))\n",
        "\n",
        "        #w^Tx\n",
        "        linear_output= self.calculate_linear_output(data, weights)\n",
        "\n",
        "        # returns the indices of the maximum values along an axis\n",
        "        prediction = np.argmax(linear_output, axis=1)\n",
        "\n",
        "        # count the number of predictions that are correct \n",
        "        total_correct_predictions = (prediction == labels).sum()\n",
        "        num_data_points = len(data)\n",
        "        accuracy = (total_correct_predictions/num_data_points)*100\n",
        "\n",
        "        return accuracy, prediction\n",
        "\n",
        "def preprocess_data(x_train, y_train, x_test, y_test):\n",
        "    x_train = x_train.reshape(50000, 3072).astype('float32')\n",
        "    x_test = x_test.reshape(10000, 3072).astype('float32')\n",
        "\n",
        "    y_train = np.squeeze(y_train)\n",
        "    y_test = np.squeeze(y_test)\n",
        "\n",
        "    x_train = np.reshape(x_train, (len(x_train), -1))\n",
        "    x_test = np.reshape(x_test, (len(x_test), -1))\n",
        "\n",
        "    x_train, x_test = centre_data(x_train, x_test)\n",
        "    x_train, x_test = PCA(0.9, x_train, x_test)\n",
        "    \n",
        "    return x_train, y_train, x_test, y_test\n",
        "\n",
        "(x_train, y_train), (x_test, y_test) = import_data()\n",
        "\n",
        "x_train, y_train, x_test, y_test = preprocess_data(x_train, y_train, x_test, y_test)\n",
        "\n",
        "svm = SVM(x_train, x_test)\n",
        "weights = np.ones((len(x_train[0]), np.max(y_train) + 1))\n",
        "trained_weights = svm.train_model(x_train, y_train, weights, 0.00000001, 1000, 20000, 200, 20)\n",
        "\n",
        "\n",
        "total_accuracy, predictions2 = svm.calculate_accuracy(x_test, y_test, trained_weights)\n",
        "%time print('Accuracy: {}'.format(total_accuracy))"
      ],
      "execution_count": 38,
      "outputs": [
        {
          "output_type": "stream",
          "text": [
            "Accuracy: 22.25\n",
            "CPU times: user 478 µs, sys: 21 µs, total: 499 µs\n",
            "Wall time: 255 µs\n"
          ],
          "name": "stdout"
        }
      ]
    },
    {
      "cell_type": "markdown",
      "metadata": {
        "id": "Foknr896DIFo"
      },
      "source": [
        "### Confusion Matrix"
      ]
    },
    {
      "cell_type": "code",
      "metadata": {
        "id": "W3oeSAuzDKUU",
        "colab": {
          "base_uri": "https://localhost:8080/"
        },
        "outputId": "4eb51718-940c-4b59-c874-35c5c20b134a"
      },
      "source": [
        "conf_matrix = np.zeros((20, 20))\n",
        "correct_predictions = 0\n",
        "print(predictions2.shape)\n",
        "\n",
        "for index, value in enumerate(predictions2):\n",
        "    prediction_class = np.argmax(value)\n",
        "    conf_matrix[y_test[index]][value] += 1\n",
        "    if y_test[index] == value:\n",
        "        correct_predictions += 1\n",
        "\n",
        "print(\"Accuracy: {}\".format(correct_predictions / float(len(testing_data))))\n",
        "print(\"Confusion Matrix:\")\n",
        "print(conf_matrix)"
      ],
      "execution_count": 43,
      "outputs": [
        {
          "output_type": "stream",
          "text": [
            "(10000,)\n",
            "Accuracy: 0.2225\n",
            "Confusion Matrix:\n",
            "[[155.  61.   6.  18.   9.  17.  13.  26.  10.  15.  28.  26.  32.   6.\n",
            "   11.  12.  12.  12.  14.  17.]\n",
            " [ 73. 109.  25.  17.  48.  14.  11.  11.  11.  22.  26.  12.  19.   6.\n",
            "   26.   9.  21.   9.  19.  12.]\n",
            " [  8.  12. 168.  14. 124.   6.  26.  21.   9.   4.  12.   9.   7.   7.\n",
            "   43.   1.   6.  14.   5.   4.]\n",
            " [ 31.  13.  29.  91.  35.  43.  28.  23.  15.   8.  28.  20.  29.   6.\n",
            "   22.  10.  26.  17.  18.   8.]\n",
            " [  6.   7.  82.  16. 244.   5.  18.  20.  10.   3.   3.  16.   8.   8.\n",
            "   22.   4.   8.  12.   4.   4.]\n",
            " [ 44.  18.  19.  60.  20.  69.  40.  13.  13.  12.  23.  17.  17.   4.\n",
            "   25.  11.  12.  11.  53.  19.]\n",
            " [ 18.  15.  34.  38.  65.  34.  89.  17.   8.   5.  18.  17.  15.  10.\n",
            "   44.  10.  13.   9.  30.  11.]\n",
            " [ 27.  23.  14.  20.  62.  13.  21. 146.  12.   3.   4.  50.  34.   8.\n",
            "    9.  13.  19.  10.   6.   6.]\n",
            " [ 30.  17.  23.  28.  48.  22.  25.  36.  38.   7.   7.  25.  78.  10.\n",
            "   29.   9.  30.  18.  15.   5.]\n",
            " [ 30.  21.   5.   7.   3.  10.   6.   5.   7. 119. 143.  13.  10.   1.\n",
            "    9.   3.   6.  52.  26.  24.]\n",
            " [ 30.  32.  21.  14.  20.  13.   6.   6.   6. 111. 161.  19.  10.   0.\n",
            "    8.   3.   6.  14.   7.  13.]\n",
            " [ 31.  13.  16.  18.  24.  20.  15.  44.  17.  20.  16.  69.  42.   6.\n",
            "    9.  23.  29.  39.  28.  21.]\n",
            " [ 38.  17.  16.  16.  28.  11.  24.  36.  26.   2.   9.  36. 120.   8.\n",
            "   22.  10.  41.   3.  25.  12.]\n",
            " [ 50.  34.  44.  24.  53.  28.  37.  41.  25.  10.  11.  23.  31.   5.\n",
            "   28.   5.  30.   3.  10.   8.]\n",
            " [ 13.  19.  40.  28.  46.  22.  46.   9.  16.   7.  12.  12.  25.  11.\n",
            "  131.   5.  32.  11.  10.   5.]\n",
            " [ 39.  42.  12.  39.  32.  23.  30.  30.  23.  12.  14.  28.  56.  17.\n",
            "   17.  20.  25.  14.  13.  14.]\n",
            " [ 18.  17.  33.  37.  36.  16.  34.  47.  14.   6.  12.  25.  67.   7.\n",
            "   40.  14.  46.  12.  15.   4.]\n",
            " [ 20.   9.  22.   6.  19.   3.   3.  20.   9.  11.  15.  25.   9.   0.\n",
            "    3.   9.   5. 285.  14.  13.]\n",
            " [ 36.  13.  11.   9.  26.  28.  20.  10.   6.  55.  28.  20.  35.   5.\n",
            "   18.   7.  17.  31.  90.  35.]\n",
            " [ 39.  15.  11.  19.  38.  17.  13.   8.   2.  41.  36.  23.  41.  11.\n",
            "   10.  17.   7.  38.  44.  70.]]\n"
          ],
          "name": "stdout"
        }
      ]
    },
    {
      "cell_type": "markdown",
      "metadata": {
        "id": "H_rQXsY6I3BR"
      },
      "source": [
        "###Precision and Recall"
      ]
    },
    {
      "cell_type": "code",
      "metadata": {
        "id": "gjSdQcVkI5b0",
        "colab": {
          "base_uri": "https://localhost:8080/"
        },
        "outputId": "6268c012-ab26-4f9c-b7e5-131add3e8ddb"
      },
      "source": [
        "false_positive = conf_matrix.sum(axis=0) - np.diag(conf_matrix)  \n",
        "false_negative = conf_matrix.sum(axis=1) - np.diag(conf_matrix)\n",
        "true_positive = np.diag(conf_matrix)\n",
        "true_negative = conf_matrix.sum() - (false_positive + false_negative + true_positive)\n",
        "\n",
        "# Sensitivity, hit rate, recall, or true positive rate\n",
        "recall = true_positive/(true_positive+false_negative)\n",
        "\n",
        "# Precision or positive predictive valuep\n",
        "precision = true_positive/(true_positive+false_positive)\n",
        "\n",
        "# Overall accuracy\n",
        "#ACC = (TP+TN)/(TP+FP+FN+TN)\n",
        "\n",
        "print(recall)\n",
        "print(precision)"
      ],
      "execution_count": 44,
      "outputs": [
        {
          "output_type": "stream",
          "text": [
            "[0.31  0.218 0.336 0.182 0.488 0.138 0.178 0.292 0.076 0.238 0.322 0.138\n",
            " 0.24  0.01  0.262 0.04  0.092 0.57  0.18  0.14 ]\n",
            "[0.21059783 0.21499014 0.26624406 0.17533719 0.24897959 0.16666667\n",
            " 0.17623762 0.25659051 0.13718412 0.25158562 0.26567657 0.14226804\n",
            " 0.17518248 0.03676471 0.24904943 0.1025641  0.11764706 0.46416938\n",
            " 0.20179372 0.2295082 ]\n"
          ],
          "name": "stdout"
        }
      ]
    },
    {
      "cell_type": "markdown",
      "metadata": {
        "id": "_AdO17tRA6Fq"
      },
      "source": [
        "### Testing"
      ]
    },
    {
      "cell_type": "markdown",
      "metadata": {
        "id": "b7MhyYvfA6Fq"
      },
      "source": [
        "#### Imports and Helpers"
      ]
    },
    {
      "cell_type": "code",
      "metadata": {
        "id": "pQJtfIwMA6Fq"
      },
      "source": [
        "import time\n",
        "import csv\n",
        "\n",
        "def nano_to_seconds(nanoseconds):\n",
        "    \"\"\"Converts nanoseconds to seconds rounded to the nearest 5 decimal places.\n",
        "    \n",
        "    Parameters\n",
        "    ----------\n",
        "    nanoseconds : int\n",
        "        The nanoseconds to convert\n",
        "    \"\"\"\n",
        "\n",
        "    return np.round((nanoseconds / 1e+9), 5)"
      ],
      "execution_count": null,
      "outputs": []
    },
    {
      "cell_type": "markdown",
      "metadata": {
        "id": "RQzqcogSA6Fq"
      },
      "source": [
        "#### Random Forest"
      ]
    },
    {
      "cell_type": "code",
      "metadata": {
        "id": "PyDrCivdA6Fq"
      },
      "source": [
        "def test_random_forest_estimators():\n",
        "    num_estimators = list(range(100, 1001, 100)) + [1250, 1500, 1750, 2000]\n",
        "    (raw_x_train, raw_y_train), (raw_x_test, raw_y_test) = import_data()\n",
        "    with open('rf_estimators.csv', mode='w', newline='') as csv_file:\n",
        "        result_writer = csv.writer(csv_file, delimiter=',', quotechar='\"', quoting=csv.QUOTE_MINIMAL)\n",
        "        result_writer.writerow(['Number Estimators', 'Max Features', 'Criterion', 'Bootstrap', 'Average Accuracy', 'Average Runtime'])\n",
        "        max_features = 'log2'\n",
        "        criterion = 'gini'\n",
        "        bootstrap = False\n",
        "        for n_estimators in num_estimators:\n",
        "            num_tests = 0\n",
        "            total_accuracy = 0\n",
        "            total_runtime = 0\n",
        "            x_train, y_train, x_test, y_test = flatten_data(raw_x_train, raw_y_train, raw_x_test, raw_y_test)\n",
        "            for i in range(2):\n",
        "                model = RandomForestClassifier(\n",
        "                            n_jobs=-1, \n",
        "                            verbose=0,\n",
        "                            n_estimators=n_estimators,\n",
        "                            bootstrap=bootstrap, \n",
        "                            max_features=max_features, \n",
        "                            criterion=criterion)\n",
        "                start_time = time.time_ns()\n",
        "                model.fit(x_train, y_train)\n",
        "                total_accuracy += model.score(x_test, y_test)\n",
        "                end_time = time.time_ns()\n",
        "                total_runtime += nano_to_seconds(end_time - start_time)\n",
        "                num_tests += 1\n",
        "            avg_accuracy = np.round(total_accuracy / float(num_tests), 5)\n",
        "            avg_runtime = np.round(total_runtime / float(num_tests), 5)\n",
        "            result_writer.writerow([n_estimators, max_features, criterion, bootstrap, avg_accuracy, avg_runtime])\n",
        "            print(\"Finished n_estimators: {}\".format(n_estimators))\n",
        "            \n",
        "def test_random_forest_max_features():\n",
        "    max_features_list = ['sqrt', 'log2', 0.1, 0.2, 0.3, 0.4, 0.5, 0.6, 0.7, 0.8, 0.9, 1.0]\n",
        "    (raw_x_train, raw_y_train), (raw_x_test, raw_y_test) = import_data()\n",
        "    with open('rf_features.csv', mode='w', newline='') as csv_file:\n",
        "        result_writer = csv.writer(csv_file, delimiter=',', quotechar='\"', quoting=csv.QUOTE_MINIMAL)\n",
        "        result_writer.writerow(['Number Estimators', 'Max Features', 'Criterion', 'Bootstrap', 'Average Accuracy', 'Average Runtime'])\n",
        "        n_estimators = 100\n",
        "        criterion = 'gini'\n",
        "        bootstrap = False\n",
        "        for max_features in max_features_list:\n",
        "            num_tests = 0\n",
        "            total_accuracy = 0\n",
        "            total_runtime = 0\n",
        "            iterations = 1\n",
        "            if max_features == \"sqrt\" or max_features == \"log2\":\n",
        "                iterations = 5\n",
        "            for i in range(iterations):\n",
        "                x_train, y_train, x_test, y_test = flatten_data(raw_x_train, raw_y_train, raw_x_test, raw_y_test)\n",
        "                model = RandomForestClassifier(\n",
        "                            n_jobs=-1, \n",
        "                            verbose=0,\n",
        "                            n_estimators=n_estimators,\n",
        "                            bootstrap=bootstrap, \n",
        "                            max_features=max_features, \n",
        "                            criterion=criterion)\n",
        "                start_time = time.time_ns()\n",
        "                model.fit(x_train, y_train)\n",
        "                total_accuracy += model.score(x_test, y_test)\n",
        "                end_time = time.time_ns()\n",
        "                total_runtime += nano_to_seconds(end_time - start_time)\n",
        "                num_tests += 1\n",
        "            avg_accuracy = np.round(total_accuracy / float(num_tests), 5)\n",
        "            avg_runtime = np.round(total_runtime / float(num_tests), 5)\n",
        "            result_writer.writerow([n_estimators, max_features, criterion, bootstrap, avg_accuracy, avg_runtime])\n",
        "            print(\"Finished max_features: {}\".format(max_features))\n",
        "            \n",
        "def test_random_forest_criterion():\n",
        "    criterion_list = ['gini', 'entropy']\n",
        "    (raw_x_train, raw_y_train), (raw_x_test, raw_y_test) = import_data()\n",
        "    with open('rf_criterion.csv', mode='w', newline='') as csv_file:\n",
        "        result_writer = csv.writer(csv_file, delimiter=',', quotechar='\"', quoting=csv.QUOTE_MINIMAL)\n",
        "        result_writer.writerow(['Number Estimators', 'Max Features', 'Criterion', 'Bootstrap', 'Average Accuracy', 'Average Runtime'])\n",
        "        n_estimators = 100\n",
        "        max_features = 'log2'\n",
        "        bootstrap = False\n",
        "        for criterion in criterion_list:\n",
        "            num_tests = 0\n",
        "            total_accuracy = 0\n",
        "            total_runtime = 0\n",
        "            for i in range(5):\n",
        "                x_train, y_train, x_test, y_test = flatten_data(raw_x_train, raw_y_train, raw_x_test, raw_y_test)\n",
        "                model = RandomForestClassifier(\n",
        "                            n_jobs=-1, \n",
        "                            verbose=0,\n",
        "                            n_estimators=n_estimators,\n",
        "                            bootstrap=bootstrap, \n",
        "                            max_features=max_features, \n",
        "                            criterion=criterion)\n",
        "                start_time = time.time_ns()\n",
        "                model.fit(x_train, y_train)\n",
        "                total_accuracy += model.score(x_test, y_test)\n",
        "                end_time = time.time_ns()\n",
        "                total_runtime += nano_to_seconds(end_time - start_time)\n",
        "                num_tests += 1\n",
        "            avg_accuracy = np.round(total_accuracy / float(num_tests), 5)\n",
        "            avg_runtime = np.round(total_runtime / float(num_tests), 5)\n",
        "            result_writer.writerow([n_estimators, max_features, criterion, bootstrap, avg_accuracy, avg_runtime])\n",
        "            print(\"Finished criterion: {}\".format(criterion))\n",
        "            \n",
        "def test_random_forest_bootstrap():\n",
        "    max_samples_list = [0.1, 0.2, 0.3, 0.4, 0.5, 0.6, 0.7, 0.8, 0.9, 0.99]\n",
        "    bootstrap_list = [False, True]\n",
        "    (raw_x_train, raw_y_train), (raw_x_test, raw_y_test) = import_data()\n",
        "    with open('rf_bootstrap.csv', mode='w', newline='') as csv_file:\n",
        "        result_writer = csv.writer(csv_file, delimiter=',', quotechar='\"', quoting=csv.QUOTE_MINIMAL)\n",
        "        result_writer.writerow(['Number Estimators', 'Max Features', 'Criterion', 'Bootstrap', 'Max Samples', 'Average Accuracy', 'Average Runtime'])\n",
        "        n_estimators = 100\n",
        "        criterion = 'gini'\n",
        "        max_features = 'log2'\n",
        "        max_samples = 1.0\n",
        "        for bootstrap in bootstrap_list:\n",
        "            if not bootstrap:\n",
        "                num_tests = 0\n",
        "                total_accuracy = 0\n",
        "                total_runtime = 0\n",
        "                for i in range(5):\n",
        "                    x_train, y_train, x_test, y_test = flatten_data(raw_x_train, raw_y_train, raw_x_test, raw_y_test)\n",
        "                    model = RandomForestClassifier(\n",
        "                                n_jobs=-1, \n",
        "                                verbose=0,\n",
        "                                n_estimators=n_estimators,\n",
        "                                bootstrap=bootstrap, \n",
        "                                max_features=max_features, \n",
        "                                criterion=criterion)\n",
        "                    start_time = time.time_ns()\n",
        "                    model.fit(x_train, y_train)\n",
        "                    total_accuracy += model.score(x_test, y_test)\n",
        "                    end_time = time.time_ns()\n",
        "                    total_runtime += nano_to_seconds(end_time - start_time)\n",
        "                    num_tests += 1\n",
        "                avg_accuracy = np.round(total_accuracy / float(num_tests), 5)\n",
        "                avg_runtime = np.round(total_runtime / float(num_tests), 5)\n",
        "                result_writer.writerow([n_estimators, max_features, criterion, bootstrap, max_samples, avg_accuracy, avg_runtime])\n",
        "                print(\"Finished bootstrap: {}\".format(bootstrap))\n",
        "            else:\n",
        "                for item in max_samples_list:\n",
        "                    max_samples = item\n",
        "                    num_tests = 0\n",
        "                    total_accuracy = 0\n",
        "                    total_runtime = 0\n",
        "                    for i in range(5):\n",
        "                        x_train, y_train, x_test, y_test = flatten_data(raw_x_train, raw_y_train, raw_x_test, raw_y_test)\n",
        "                        model = RandomForestClassifier(\n",
        "                                    n_jobs=-1, \n",
        "                                    verbose=0,\n",
        "                                    n_estimators=n_estimators,\n",
        "                                    bootstrap=bootstrap,\n",
        "                                    max_samples=max_samples,\n",
        "                                    max_features=max_features, \n",
        "                                    criterion=criterion)\n",
        "                        start_time = time.time_ns()\n",
        "                        model.fit(x_train, y_train)\n",
        "                        total_accuracy += model.score(x_test, y_test)\n",
        "                        end_time = time.time_ns()\n",
        "                        total_runtime += nano_to_seconds(end_time - start_time)\n",
        "                        num_tests += 1\n",
        "                    avg_accuracy = np.round(total_accuracy / float(num_tests), 5)\n",
        "                    avg_runtime = np.round(total_runtime / float(num_tests), 5)\n",
        "                    result_writer.writerow([n_estimators, max_features, criterion, bootstrap, max_samples, avg_accuracy, avg_runtime])\n",
        "                    print(\"Finished bootstrap - max_samples: {} - {}\".format(bootstrap, max_samples))\n",
        "                    \n",
        "def test_random_forest_image_filter():\n",
        "    techniques = ['none', 'grayscale', 'hist equalization', 'adaptive equalization', 'canny']\n",
        "    (raw_x_train, raw_y_train), (raw_x_test, raw_y_test) = import_data()\n",
        "    with open('rf_filter.csv', mode='w', newline='') as csv_file:\n",
        "        result_writer = csv.writer(csv_file, delimiter=',', quotechar='\"', quoting=csv.QUOTE_MINIMAL)\n",
        "        result_writer.writerow(['Number Estimators', 'Max Features', 'Criterion', 'Bootstrap', 'Technique', 'Average Accuracy', 'Average Runtime'])\n",
        "        n_estimators = 100\n",
        "        max_features = 'log2'\n",
        "        bootstrap = False\n",
        "        criterion = 'gini'\n",
        "        for technique in techniques:\n",
        "            num_tests = 0\n",
        "            total_accuracy = 0\n",
        "            total_runtime = 0\n",
        "            x_train = np.copy(raw_x_train)\n",
        "            y_train = np.copy(raw_y_train)\n",
        "            x_test = np.copy(raw_x_test)\n",
        "            y_test = np.copy(raw_y_test)\n",
        "            if technique == 'grayscale':\n",
        "                x_train, x_test = convert_to_grayscale(raw_x_train, raw_x_test)\n",
        "            elif technique == 'hist equalization':\n",
        "                x_train, x_test = equalize_hist_all(raw_x_train, raw_x_test)\n",
        "            elif technique == 'adaptive equalization':\n",
        "                x_train, x_test = equalize_adapthist_all(raw_x_train, raw_x_test)\n",
        "            elif technique == 'canny':\n",
        "                x_train, x_test = canny_edge_filter_all(raw_x_train, raw_x_test, 0)\n",
        "            x_train, y_train, x_test, y_test = flatten_data(x_train, y_train, x_test, y_test)\n",
        "            for i in range(5):\n",
        "                model = RandomForestClassifier(\n",
        "                            n_jobs=-1, \n",
        "                            verbose=0,\n",
        "                            n_estimators=n_estimators,\n",
        "                            bootstrap=bootstrap, \n",
        "                            max_features=max_features, \n",
        "                            criterion=criterion)\n",
        "                start_time = time.time_ns()\n",
        "                model.fit(x_train, y_train)\n",
        "                total_accuracy += model.score(x_test, y_test)\n",
        "                end_time = time.time_ns()\n",
        "                total_runtime += nano_to_seconds(end_time - start_time)\n",
        "                num_tests += 1\n",
        "            avg_accuracy = np.round(total_accuracy / float(num_tests), 5)\n",
        "            avg_runtime = np.round(total_runtime / float(num_tests), 5)\n",
        "            result_writer.writerow([n_estimators, max_features, criterion, bootstrap, technique, avg_accuracy, avg_runtime])\n",
        "            print(\"Finished technique: {}\".format(technique))\n",
        "            \n",
        "def test_random_forest_contrast_stretching():\n",
        "    stretch_factor = list(range(0, 46, 5))\n",
        "    (raw_x_train, raw_y_train), (raw_x_test, raw_y_test) = import_data()\n",
        "    with open('rf_contrast.csv', mode='w', newline='') as csv_file:\n",
        "        result_writer = csv.writer(csv_file, delimiter=',', quotechar='\"', quoting=csv.QUOTE_MINIMAL)\n",
        "        result_writer.writerow(['Number Estimators', 'Max Features', 'Criterion', 'Bootstrap', 'Contrast Strength', 'Average Accuracy', 'Average Runtime'])\n",
        "        n_estimators = 100\n",
        "        max_features = 'log2'\n",
        "        bootstrap = False\n",
        "        criterion = 'gini'\n",
        "        for strength in stretch_factor:\n",
        "            num_tests = 0\n",
        "            total_accuracy = 0\n",
        "            total_runtime = 0\n",
        "            x_train, x_test = increase_all_contrast(raw_x_train, raw_x_test, strength)\n",
        "            x_train, y_train, x_test, y_test = flatten_data(x_train, raw_y_train, x_test, raw_y_test)\n",
        "            for i in range(5):\n",
        "                model = RandomForestClassifier(\n",
        "                            n_jobs=-1, \n",
        "                            verbose=0,\n",
        "                            n_estimators=n_estimators,\n",
        "                            bootstrap=bootstrap, \n",
        "                            max_features=max_features, \n",
        "                            criterion=criterion)\n",
        "                start_time = time.time_ns()\n",
        "                model.fit(x_train, y_train)\n",
        "                total_accuracy += model.score(x_test, y_test)\n",
        "                end_time = time.time_ns()\n",
        "                total_runtime += nano_to_seconds(end_time - start_time)\n",
        "                num_tests += 1\n",
        "            avg_accuracy = np.round(total_accuracy / float(num_tests), 5)\n",
        "            avg_runtime = np.round(total_runtime / float(num_tests), 5)\n",
        "            result_writer.writerow([n_estimators, max_features, criterion, bootstrap, strength, avg_accuracy, avg_runtime])\n",
        "            print(\"Finished strength: {}\".format(strength))"
      ],
      "execution_count": null,
      "outputs": []
    },
    {
      "cell_type": "code",
      "metadata": {
        "id": "dgyu_bsdA6Fq"
      },
      "source": [
        "# Uncomment any of the below method calls to generate accuracy and runtime data as a csv.\n",
        "# Note: some may take a significant amount of time to run.\n",
        "\n",
        "# test_random_forest_estimators()\n",
        "# test_random_forest_max_features()\n",
        "# test_random_forest_criterion()\n",
        "# test_random_forest_bootstrap()\n",
        "# test_random_forest_image_filter()\n",
        "# test_random_forest_contrast_stretching()"
      ],
      "execution_count": null,
      "outputs": []
    },
    {
      "cell_type": "markdown",
      "metadata": {
        "id": "3G2UMO9oA6Fq"
      },
      "source": [
        "#### Multi-Layer Perceptron"
      ]
    },
    {
      "cell_type": "code",
      "metadata": {
        "id": "k8aTGUrbA6Fq"
      },
      "source": [
        "def test_mlp_first_activation_functions():\n",
        "    activation_functions = ['elu', 'relu', 'tanh']\n",
        "    training_data, training_labels, testing_data, testing_labels, validation_data, validation_labels = load_in_dataset_and_preprocess(0.8)\n",
        "    with open('mlp_first_activation_function.csv', mode='w', newline='') as csv_file:\n",
        "        result_writer = csv.writer(csv_file, delimiter=',', quotechar='\"', quoting=csv.QUOTE_MINIMAL)\n",
        "        result_writer.writerow(['1st Activation Function', '2nd Activation Function', 'Loss Function', 'Learning Rate', 'Optimiser', 'Momentum', 'Decay', 'Epochs', 'Number Hidden Units', 'Average Accuracy', 'Average Runtime'])\n",
        "        momentum = 0.9\n",
        "        decay=1e-6\n",
        "        learning_rate = 0.001\n",
        "        first_activation_function = 'relu'\n",
        "        second_activation_function = 'softmax'\n",
        "        loss = 'sparse_categorical_crossentropy'\n",
        "        optimiser = 'Adam'\n",
        "        epochs = 20\n",
        "        num_hidden_units = 256\n",
        "        for activation_function in activation_functions:\n",
        "            num_tests = 0\n",
        "            total_accuracy = 0\n",
        "            total_runtime = 0\n",
        "            for i in range(2):\n",
        "                start_time = time.time_ns()\n",
        "                total_accuracy += run_MLP_model(training_data, training_labels, validation_data, validation_labels, activation_function, second_activation_function, num_hidden_units, learning_rate, optimiser, decay, momentum, epochs, loss)\n",
        "                end_time = time.time_ns()\n",
        "                total_runtime += nano_to_seconds(end_time - start_time)\n",
        "                num_tests += 1\n",
        "            avg_accuracy = np.round(total_accuracy / float(num_tests), 5)\n",
        "            avg_runtime = np.round(total_runtime / float(num_tests), 5)\n",
        "            result_writer.writerow([activation_function, second_activation_function, loss, learning_rate, optimiser, momentum, decay, epochs, num_hidden_units, avg_accuracy, avg_runtime])\n",
        "\n",
        "def test_mlp_second_activation_functions():\n",
        "    activation_functions = ['tanh', 'softmax']\n",
        "    training_data, training_labels, testing_data, testing_labels, validation_data, validation_labels = load_in_dataset_and_preprocess(0.8)\n",
        "    with open('mlp_second_activation_function.csv', mode='w', newline='') as csv_file:\n",
        "        result_writer = csv.writer(csv_file, delimiter=',', quotechar='\"', quoting=csv.QUOTE_MINIMAL)\n",
        "        result_writer.writerow(['1st Activation Function', '2nd Activation Function', 'Loss Function', 'Learning Rate', 'Optimiser', 'Momentum', 'Decay', 'Epochs', 'Number Hidden Units', 'Average Accuracy', 'Average Runtime'])\n",
        "        momentum = 0.9\n",
        "        decay=1e-6\n",
        "        learning_rate = 0.001\n",
        "        first_activation_function = 'relu'\n",
        "        second_activation_function = 'softmax'\n",
        "        loss = 'sparse_categorical_crossentropy'\n",
        "        optimiser = 'Adam'\n",
        "        epochs = 20\n",
        "        num_hidden_units = 256\n",
        "        for activation_function in activation_functions:\n",
        "            num_tests = 0\n",
        "            total_accuracy = 0\n",
        "            total_runtime = 0\n",
        "            for i in range(2):\n",
        "                start_time = time.time_ns()\n",
        "                total_accuracy += run_MLP_model(training_data, training_labels, validation_data, validation_labels, first_activation_function, activation_function, num_hidden_units, learning_rate, optimiser, decay, momentum, epochs, loss)\n",
        "                end_time = time.time_ns()\n",
        "                total_runtime += nano_to_seconds(end_time - start_time)\n",
        "                num_tests += 1\n",
        "            avg_accuracy = np.round(total_accuracy / float(num_tests), 5)\n",
        "            avg_runtime = np.round(total_runtime / float(num_tests), 5)\n",
        "            result_writer.writerow([first_activation_function, activation_function, loss, learning_rate, optimiser, momentum, decay, epochs, num_hidden_units, avg_accuracy, avg_runtime])\n",
        "\n",
        "def test_mlp_learning_rates():\n",
        "    learning_rates = [0.01, 0.05, 0.001]\n",
        "    training_data, training_labels, testing_data, testing_labels, validation_data, validation_labels = load_in_dataset_and_preprocess(0.8)\n",
        "    with open('mlp_learning_rates.csv', mode='w', newline='') as csv_file:\n",
        "        result_writer = csv.writer(csv_file, delimiter=',', quotechar='\"', quoting=csv.QUOTE_MINIMAL)\n",
        "        result_writer.writerow(['1st Activation Function', '2nd Activation Function', 'Loss Function', 'Learning Rate', 'Optimiser', 'Momentum', 'Decay', 'Epochs', 'Number Hidden Units', 'Average Accuracy', 'Average Runtime'])\n",
        "        momentum = 0.9\n",
        "        decay=1e-6\n",
        "        learning_rate = 0.001\n",
        "        first_activation_function = 'relu'\n",
        "        second_activation_function = 'softmax'\n",
        "        loss = 'sparse_categorical_crossentropy'\n",
        "        optimiser = 'Adam'\n",
        "        epochs = 20\n",
        "        num_hidden_units = 256\n",
        "        for lr in learning_rates:\n",
        "            num_tests = 0\n",
        "            total_accuracy = 0\n",
        "            total_runtime = 0\n",
        "            for i in range(2):\n",
        "                start_time = time.time_ns()\n",
        "                total_accuracy += run_MLP_model(training_data, training_labels, validation_data, validation_labels, first_activation_function, second_activation_function, num_hidden_units, lr, optimiser, decay, momentum, epochs, loss)\n",
        "                end_time = time.time_ns()\n",
        "                total_runtime += nano_to_seconds(end_time - start_time)\n",
        "                num_tests += 1\n",
        "            avg_accuracy = np.round(total_accuracy / float(num_tests), 5)\n",
        "            avg_runtime = np.round(total_runtime / float(num_tests), 5)\n",
        "            result_writer.writerow([first_activation_function, second_activation_function, loss, lr, optimiser, momentum, decay, epochs, num_hidden_units, avg_accuracy, avg_runtime])\n",
        "\n",
        "def test_mlp_hidden_units():\n",
        "    hidden_units_numbers = [50, 256, 500]\n",
        "    training_data, training_labels, testing_data, testing_labels, validation_data, validation_labels = load_in_dataset_and_preprocess(0.8)\n",
        "    with open('mlp_hidden_units.csv', mode='w', newline='') as csv_file:\n",
        "        result_writer = csv.writer(csv_file, delimiter=',', quotechar='\"', quoting=csv.QUOTE_MINIMAL)\n",
        "        result_writer.writerow(['1st Activation Function', '2nd Activation Function', 'Loss Function', 'Learning Rate', 'Optimiser', 'Momentum', 'Decay', 'Epochs', 'Number Hidden Units', 'Average Accuracy', 'Average Runtime'])\n",
        "        momentum = 0.9\n",
        "        decay=1e-6\n",
        "        learning_rate = 0.001\n",
        "        first_activation_function = 'relu'\n",
        "        second_activation_function = 'softmax'\n",
        "        loss = 'sparse_categorical_crossentropy'\n",
        "        optimiser = 'Adam'\n",
        "        epochs = 20\n",
        "        num_hidden_units = 256\n",
        "        for hu in hidden_units_numbers:\n",
        "            num_tests = 0\n",
        "            total_accuracy = 0\n",
        "            total_runtime = 0\n",
        "            for i in range(2):\n",
        "                start_time = time.time_ns()\n",
        "                total_accuracy += run_MLP_model(training_data, training_labels, validation_data, validation_labels, first_activation_function, second_activation_function, hu, learning_rate, optimiser, decay, momentum, epochs, loss)\n",
        "                end_time = time.time_ns()\n",
        "                total_runtime += nano_to_seconds(end_time - start_time)\n",
        "                num_tests += 1\n",
        "            avg_accuracy = np.round(total_accuracy / float(num_tests), 5)\n",
        "            avg_runtime = np.round(total_runtime / float(num_tests), 5)\n",
        "            result_writer.writerow([first_activation_function, second_activation_function, loss, learning_rate, optimiser, momentum, decay, epochs, hu, avg_accuracy, avg_runtime])\n",
        "\n",
        "def test_mlp_decay_rates():\n",
        "    decay_rates = [0.00001, 0.000001, 0.0000001]\n",
        "    training_data, training_labels, testing_data, testing_labels, validation_data, validation_labels = load_in_dataset_and_preprocess(0.8)\n",
        "    with open('mlp_decay_rates.csv', mode='w', newline='') as csv_file:\n",
        "        result_writer = csv.writer(csv_file, delimiter=',', quotechar='\"', quoting=csv.QUOTE_MINIMAL)\n",
        "        result_writer.writerow(['1st Activation Function', '2nd Activation Function', 'Loss Function', 'Learning Rate', 'Optimiser', 'Momentum', 'Decay', 'Epochs', 'Number Hidden Units', 'Average Accuracy', 'Average Runtime'])\n",
        "        momentum = 0.9\n",
        "        decay=1e-6\n",
        "        learning_rate = 0.001\n",
        "        first_activation_function = 'relu'\n",
        "        second_activation_function = 'softmax'\n",
        "        loss = 'sparse_categorical_crossentropy'\n",
        "        optimiser = 'Adam'\n",
        "        epochs = 20\n",
        "        num_hidden_units = 256\n",
        "        for dr in decay_rates:\n",
        "            num_tests = 0\n",
        "            total_accuracy = 0\n",
        "            total_runtime = 0\n",
        "            for i in range(2):\n",
        "                start_time = time.time_ns()\n",
        "                total_accuracy += run_MLP_model(training_data, training_labels, validation_data, validation_labels, first_activation_function, second_activation_function, num_hidden_units, learning_rate, optimiser, dr, momentum, epochs, loss)\n",
        "                end_time = time.time_ns()\n",
        "                total_runtime += nano_to_seconds(end_time - start_time)\n",
        "                num_tests += 1\n",
        "            avg_accuracy = np.round(total_accuracy / float(num_tests), 5)\n",
        "            avg_runtime = np.round(total_runtime / float(num_tests), 5)\n",
        "            result_writer.writerow([first_activation_function, second_activation_function, loss, learning_rate, optimiser, momentum, dr, epochs, num_hidden_units, avg_accuracy, avg_runtime])\n",
        "\n",
        "def test_mlp_momentums():\n",
        "    momentums = [0.5, 0.7, 0.9]\n",
        "    training_data, training_labels, testing_data, testing_labels, validation_data, validation_labels = load_in_dataset_and_preprocess(0.8)\n",
        "    with open('mlp_momentums.csv', mode='w', newline='') as csv_file:\n",
        "        result_writer = csv.writer(csv_file, delimiter=',', quotechar='\"', quoting=csv.QUOTE_MINIMAL)\n",
        "        result_writer.writerow(['1st Activation Function', '2nd Activation Function', 'Loss Function', 'Learning Rate', 'Optimiser', 'Momentum', 'Decay', 'Epochs', 'Number Hidden Units', 'Average Accuracy', 'Average Runtime'])\n",
        "        decay=1e-6\n",
        "        learning_rate = 0.001\n",
        "        first_activation_function = 'relu'\n",
        "        second_activation_function = 'softmax'\n",
        "        loss = 'sparse_categorical_crossentropy'\n",
        "        optimiser = 'SGD'\n",
        "        epochs = 20\n",
        "        num_hidden_units = 256\n",
        "        for momentum in momentums:\n",
        "            num_tests = 0\n",
        "            total_accuracy = 0\n",
        "            total_runtime = 0\n",
        "            for i in range(2):\n",
        "                start_time = time.time_ns()\n",
        "                total_accuracy += run_MLP_model(training_data, training_labels, validation_data, validation_labels, first_activation_function, second_activation_function, num_hidden_units, learning_rate, optimiser, decay, momentum, epochs, loss)\n",
        "                end_time = time.time_ns()\n",
        "                total_runtime += nano_to_seconds(end_time - start_time)\n",
        "                num_tests += 1\n",
        "            avg_accuracy = np.round(total_accuracy / float(num_tests), 5)\n",
        "            avg_runtime = np.round(total_runtime / float(num_tests), 5)\n",
        "            result_writer.writerow([first_activation_function, second_activation_function, loss, learning_rate, optimiser, momentum, decay, epochs, num_hidden_units, avg_accuracy, avg_runtime])\n",
        "\n",
        "def test_mlp_epochs():\n",
        "    diff_epochs = [20, 50, 100]\n",
        "    training_data, training_labels, testing_data, testing_labels, validation_data, validation_labels = load_in_dataset_and_preprocess(0.8)\n",
        "    with open('mlp_epochs.csv', mode='w', newline='') as csv_file:\n",
        "        result_writer = csv.writer(csv_file, delimiter=',', quotechar='\"', quoting=csv.QUOTE_MINIMAL)\n",
        "        result_writer.writerow(['1st Activation Function', '2nd Activation Function', 'Loss Function', 'Learning Rate', 'Optimiser', 'Momentum', 'Decay', 'Epochs', 'Number Hidden Units', 'Average Accuracy', 'Average Runtime'])\n",
        "        momentum = 0.9\n",
        "        decay=1e-6\n",
        "        learning_rate = 0.001\n",
        "        first_activation_function = 'relu'\n",
        "        second_activation_function = 'softmax'\n",
        "        loss = 'sparse_categorical_crossentropy'\n",
        "        optimiser = 'Adam'\n",
        "        num_hidden_units = 256\n",
        "        for epochs in diff_epochs:\n",
        "            num_tests = 0\n",
        "            total_accuracy = 0\n",
        "            total_runtime = 0\n",
        "            for i in range(2):\n",
        "                start_time = time.time_ns()\n",
        "                total_accuracy += run_MLP_model(training_data, training_labels, validation_data, validation_labels, first_activation_function, second_activation_function, num_hidden_units, learning_rate, optimiser, decay, momentum, epochs, loss)\n",
        "                end_time = time.time_ns()\n",
        "                total_runtime += nano_to_seconds(end_time - start_time)\n",
        "                num_tests += 1\n",
        "            avg_accuracy = np.round(total_accuracy / float(num_tests), 5)\n",
        "            avg_runtime = np.round(total_runtime / float(num_tests), 5)\n",
        "            result_writer.writerow([first_activation_function, second_activation_function, loss, learning_rate, optimiser, momentum, decay, epochs, num_hidden_units, avg_accuracy, avg_runtime])\n",
        "\n",
        "def test_mlp_optimisers():\n",
        "    optimisers = ['Adam', 'SGD']\n",
        "    training_data, training_labels, testing_data, testing_labels, validation_data, validation_labels = load_in_dataset_and_preprocess(0.8)\n",
        "    with open('mlp_optimisers.csv', mode='w', newline='') as csv_file:\n",
        "        result_writer = csv.writer(csv_file, delimiter=',', quotechar='\"', quoting=csv.QUOTE_MINIMAL)\n",
        "        result_writer.writerow(['1st Activation Function', '2nd Activation Function', 'Loss Function', 'Learning Rate', 'Optimiser', 'Momentum', 'Decay', 'Epochs', 'Number Hidden Units', 'Average Accuracy', 'Average Runtime'])\n",
        "        momentum = 0.9\n",
        "        decay=1e-6\n",
        "        learning_rate = 0.001\n",
        "        first_activation_function = 'relu'\n",
        "        second_activation_function = 'softmax'\n",
        "        loss = 'sparse_categorical_crossentropy'\n",
        "        epochs = 20\n",
        "        num_hidden_units = 256\n",
        "        for optimiser in optimisers:\n",
        "            num_tests = 0\n",
        "            total_accuracy = 0\n",
        "            total_runtime = 0\n",
        "            for i in range(2):\n",
        "                start_time = time.time_ns()\n",
        "                total_accuracy += run_MLP_model(training_data, training_labels, validation_data, validation_labels, first_activation_function, second_activation_function, num_hidden_units, learning_rate, optimiser, decay, momentum, epochs, loss)\n",
        "                end_time = time.time_ns()\n",
        "                total_runtime += nano_to_seconds(end_time - start_time)\n",
        "                num_tests += 1\n",
        "            avg_accuracy = np.round(total_accuracy / float(num_tests), 5)\n",
        "            avg_runtime = np.round(total_runtime / float(num_tests), 5)\n",
        "            result_writer.writerow([first_activation_function, second_activation_function, loss, learning_rate, optimiser, momentum, decay, epochs, num_hidden_units, avg_accuracy, avg_runtime])\n",
        "\n",
        "def test_mlp_loss_functions():\n",
        "    loss_functions = ['categorical_crossentropy']\n",
        "    training_data, training_labels, testing_data, testing_labels, validation_data, validation_labels = load_in_dataset_and_preprocess(0.8)\n",
        "    with open('mlp_loss_functions2.csv', mode='w', newline='') as csv_file:\n",
        "        result_writer = csv.writer(csv_file, delimiter=',', quotechar='\"', quoting=csv.QUOTE_MINIMAL)\n",
        "        result_writer.writerow(['1st Activation Function', '2nd Activation Function', 'Loss Function', 'Learning Rate', 'Optimiser', 'Momentum', 'Decay', 'Epochs', 'Number Hidden Units', 'Average Accuracy', 'Average Runtime'])\n",
        "        momentum = 0.9\n",
        "        decay=1e-6\n",
        "        learning_rate = 0.001\n",
        "        first_activation_function = 'relu'\n",
        "        second_activation_function = 'softmax'\n",
        "        optimiser = 'Adam'\n",
        "        epochs = 20\n",
        "        num_hidden_units = 256\n",
        "        training_labels = to_categorical(training_labels, 20)\n",
        "        testing_labels = to_categorical(testing_labels, 20)\n",
        "        for loss in loss_functions:\n",
        "            num_tests = 0\n",
        "            total_accuracy = 0\n",
        "            total_runtime = 0\n",
        "            for i in range(2):\n",
        "                start_time = time.time_ns()\n",
        "                total_accuracy += run_MLP_model(training_data, training_labels, validation_data, validation_labels, first_activation_function, second_activation_function, num_hidden_units, learning_rate, optimiser, decay, momentum, epochs, loss)\n",
        "                end_time = time.time_ns()\n",
        "                total_runtime += nano_to_seconds(end_time - start_time)\n",
        "                num_tests += 1\n",
        "            avg_accuracy = np.round(total_accuracy / float(num_tests), 5)\n",
        "            avg_runtime = np.round(total_runtime / float(num_tests), 5)\n",
        "            result_writer.writerow([first_activation_function, second_activation_function, loss, learning_rate, optimiser, momentum, decay, epochs, num_hidden_units, avg_accuracy, avg_runtime])\n",
        "\n",
        "def test_mlp_contrast_stretching_functions():\n",
        "    training_data, training_labels, testing_data, testing_labels, validation_data, validation_labels = load_in_dataset_and_preprocess(0.8)\n",
        "    stretch_factors = list(range(0, 46, 5))\n",
        "    with open('mlp_contrast_stretching.csv', mode='w', newline='') as csv_file:\n",
        "        result_writer = csv.writer(csv_file, delimiter=',', quotechar='\"', quoting=csv.QUOTE_MINIMAL)\n",
        "        result_writer.writerow(['1st Activation Function', '2nd Activation Function', 'Loss Function', 'Learning Rate', 'Optimiser', 'Momentum', 'Decay', 'Epochs', 'Number Hidden Units', 'Average Accuracy', 'Average Runtime'])\n",
        "        momentum = 0.9\n",
        "        decay=1e-6\n",
        "        learning_rate = 0.001\n",
        "        first_activation_function = 'relu'\n",
        "        second_activation_function = 'softmax'\n",
        "        loss = 'sparse_categorical_crossentropy'\n",
        "        optimiser = 'Adam'\n",
        "        epochs = 20\n",
        "        num_hidden_units = 256\n",
        "        for stretch in stretch_factors:\n",
        "            num_tests = 0\n",
        "            total_accuracy = 0\n",
        "            total_runtime = 0\n",
        "            training_data, testing_data = increase_all_contrast(training_data, validation_data, strength)\n",
        "            for i in range(2):\n",
        "                start_time = time.time_ns()\n",
        "                total_accuracy += run_MLP_model(training_data, training_labels, validation_data, validation_labels, first_activation_function, second_activation_function, num_hidden_units, learning_rate, optimiser, decay, momentum, epochs, loss)\n",
        "                end_time = time.time_ns()\n",
        "                total_runtime += nano_to_seconds(end_time - start_time)\n",
        "                num_tests += 1\n",
        "            avg_accuracy = np.round(total_accuracy / float(num_tests), 5)\n",
        "            avg_runtime = np.round(total_runtime / float(num_tests), 5)\n",
        "            result_writer.writerow([first_activation_function, second_activation_function, loss, learning_rate, optimiser, momentum, decay, epochs, num_hidden_units, avg_accuracy, avg_runtime])\n",
        "\n",
        "def test_mlp_preprocessing_functions():\n",
        "    training_data, training_labels, testing_data, testing_labels, validation_data, validation_labels = load_in_dataset_and_preprocess(0.8)\n",
        "    techniques = ['none', 'grayscale', 'hist equalization', 'adaptive equalization', 'canny']\n",
        "    with open('mlp_preprocessing.csv', mode='w', newline='') as csv_file:\n",
        "        result_writer = csv.writer(csv_file, delimiter=',', quotechar='\"', quoting=csv.QUOTE_MINIMAL)\n",
        "        result_writer.writerow(['1st Activation Function', '2nd Activation Function', 'Loss Function', 'Learning Rate', 'Optimiser', 'Momentum', 'Decay', 'Epochs', 'Number Hidden Units', 'Average Accuracy', 'Average Runtime'])\n",
        "        momentum = 0.9\n",
        "        decay=1e-6\n",
        "        learning_rate = 0.001\n",
        "        first_activation_function = 'relu'\n",
        "        second_activation_function = 'softmax'\n",
        "        loss = 'sparse_categorical_crossentropy'\n",
        "        optimiser = 'Adam'\n",
        "        epochs = 20\n",
        "        num_hidden_units = 256\n",
        "        for technique in techniques:\n",
        "            num_tests = 0\n",
        "            total_accuracy = 0\n",
        "            total_runtime = 0\n",
        "            if technique == 'grayscale':\n",
        "                training_data, validation_data = convert_to_grayscale(training_data, validation_data)\n",
        "            elif technique == 'hist equalization':\n",
        "                training_data, validation_data = equalize_hist_all(training_data, validation_data)\n",
        "            elif technique == 'adaptive equalization':\n",
        "                training_data, validation_data = equalize_adapthist_all(training_data, validation_data)\n",
        "            elif technique == 'canny':\n",
        "                training_data, validation_data = canny_edge_filter_all(training_data, validation_data, 0)\n",
        "            for i in range(2):\n",
        "                start_time = time.time_ns()\n",
        "                total_accuracy += run_MLP_model(training_data, training_labels, validation_data, validation_labels, first_activation_function, second_activation_function, num_hidden_units, learning_rate, optimiser, decay, momentum, epochs, loss)\n",
        "                end_time = time.time_ns()\n",
        "                total_runtime += nano_to_seconds(end_time - start_time)\n",
        "                num_tests += 1\n",
        "            avg_accuracy = np.round(total_accuracy / float(num_tests), 5)\n",
        "            avg_runtime = np.round(total_runtime / float(num_tests), 5)\n",
        "            result_writer.writerow([first_activation_function, second_activation_function, loss, learning_rate, optimiser, momentum, decay, epochs, num_hidden_units, avg_accuracy, avg_runtime])\n",
        "\n",
        "def test_mlp_pca():\n",
        "    explained_variances = [0.6, 0.7, 0.8, 0.9]\n",
        "    with open('mlp_pca.csv', mode='w', newline='') as csv_file:\n",
        "        result_writer = csv.writer(csv_file, delimiter=',', quotechar='\"', quoting=csv.QUOTE_MINIMAL)\n",
        "        result_writer.writerow(['1st Activation Function', '2nd Activation Function', 'Loss Function', 'Learning Rate', 'Optimiser', 'Momentum', 'Decay', 'Epochs', 'Number Hidden Units', 'Average Accuracy', 'Average Runtime'])\n",
        "        momentum = 0.9\n",
        "        decay=1e-6\n",
        "        learning_rate = 0.001\n",
        "        first_activation_function = 'relu'\n",
        "        second_activation_function = 'softmax'\n",
        "        loss = 'sparse_categorical_crossentropy'\n",
        "        optimiser = 'Adam'\n",
        "        epochs = 20\n",
        "        num_hidden_units = 256\n",
        "        for explained_variance in explained_variances:\n",
        "            training_data, training_labels, testing_data, testing_labels, validation_data, validation_labels = load_in_dataset_and_preprocess(explained_variance)\n",
        "            num_tests = 0\n",
        "            total_accuracy = 0\n",
        "            total_runtime = 0\n",
        "            for i in range(2):\n",
        "                start_time = time.time_ns()\n",
        "                total_accuracy += run_MLP_model(training_data, training_labels, validation_data, validation_labels, first_activation_function, second_activation_function, num_hidden_units, learning_rate, optimiser, decay, momentum, epochs, loss)\n",
        "                end_time = time.time_ns()\n",
        "                total_runtime += nano_to_seconds(end_time - start_time)\n",
        "                num_tests += 1\n",
        "            avg_accuracy = np.round(total_accuracy / float(num_tests), 5)\n",
        "            avg_runtime = np.round(total_runtime / float(num_tests), 5)\n",
        "            result_writer.writerow([first_activation_function, second_activation_function, loss, learning_rate, optimiser, momentum, decay, epochs, num_hidden_units, avg_accuracy, avg_runtime])\n",
        "\n",
        "def test_mlp_pca_centre():\n",
        "    explained_variances = [0.6, 0.7, 0.8, 0.9]\n",
        "    with open('mlp_pca_centre.csv', mode='w', newline='') as csv_file:\n",
        "        result_writer = csv.writer(csv_file, delimiter=',', quotechar='\"', quoting=csv.QUOTE_MINIMAL)\n",
        "        result_writer.writerow(['1st Activation Function', '2nd Activation Function', 'Loss Function', 'Learning Rate', 'Optimiser', 'Momentum', 'Decay', 'Epochs', 'Number Hidden Units', 'Average Accuracy', 'Average Runtime'])\n",
        "        momentum = 0.9\n",
        "        decay=1e-6\n",
        "        learning_rate = 0.001\n",
        "        first_activation_function = 'relu'\n",
        "        second_activation_function = 'softmax'\n",
        "        loss = 'sparse_categorical_crossentropy'\n",
        "        optimiser = 'Adam'\n",
        "        epochs = 20\n",
        "        num_hidden_units = 256\n",
        "        for explained_variance in explained_variances:\n",
        "            training_data, training_labels, testing_data, testing_labels, validation_data, validation_labels = load_in_dataset_and_preprocess(explained_variance)\n",
        "            num_tests = 0\n",
        "            total_accuracy = 0\n",
        "            total_runtime = 0\n",
        "            for i in range(2):\n",
        "                start_time = time.time_ns()\n",
        "                total_accuracy += run_MLP_model(training_data, training_labels, validation_data, validation_labels, first_activation_function, second_activation_function, num_hidden_units, learning_rate, optimiser, decay, momentum, epochs, loss)\n",
        "                end_time = time.time_ns()\n",
        "                total_runtime += nano_to_seconds(end_time - start_time)\n",
        "                num_tests += 1\n",
        "            avg_accuracy = np.round(total_accuracy / float(num_tests), 5)\n",
        "            avg_runtime = np.round(total_runtime / float(num_tests), 5)\n",
        "            result_writer.writerow([first_activation_function, second_activation_function, loss, learning_rate, optimiser, momentum, decay, epochs, num_hidden_units, avg_accuracy, avg_runtime])\n",
        "\n",
        "def test_mlp_centre():\n",
        "    explained_variances = [0.9]\n",
        "    with open('mlp_centre.csv', mode='w', newline='') as csv_file:\n",
        "        result_writer = csv.writer(csv_file, delimiter=',', quotechar='\"', quoting=csv.QUOTE_MINIMAL)\n",
        "        result_writer.writerow(['1st Activation Function', '2nd Activation Function', 'Loss Function', 'Learning Rate', 'Optimiser', 'Momentum', 'Decay', 'Epochs', 'Number Hidden Units', 'Average Accuracy', 'Average Runtime'])\n",
        "        momentum = 0.9\n",
        "        decay=1e-6\n",
        "        learning_rate = 0.001\n",
        "        first_activation_function = 'relu'\n",
        "        second_activation_function = 'softmax'\n",
        "        loss = 'sparse_categorical_crossentropy'\n",
        "        optimiser = 'Adam'\n",
        "        epochs = 20\n",
        "        num_hidden_units = 256\n",
        "        for explained_variance in explained_variances:\n",
        "            training_data, training_labels, testing_data, testing_labels, validation_data, validation_labels = load_in_dataset_and_preprocess(explained_variance)\n",
        "            num_tests = 0\n",
        "            total_accuracy = 0\n",
        "            total_runtime = 0\n",
        "            for i in range(2):\n",
        "                start_time = time.time_ns()\n",
        "                total_accuracy += run_MLP_model(training_data, training_labels, validation_data, validation_labels, first_activation_function, second_activation_function, num_hidden_units, learning_rate, optimiser, decay, momentum, epochs, loss)\n",
        "                end_time = time.time_ns()\n",
        "                total_runtime += nano_to_seconds(end_time - start_time)\n",
        "                num_tests += 1\n",
        "            avg_accuracy = np.round(total_accuracy / float(num_tests), 5)\n",
        "            avg_runtime = np.round(total_runtime / float(num_tests), 5)\n",
        "            result_writer.writerow([first_activation_function, second_activation_function, loss, learning_rate, optimiser, momentum, decay, epochs, num_hidden_units, avg_accuracy, avg_runtime])"
      ],
      "execution_count": null,
      "outputs": []
    },
    {
      "cell_type": "code",
      "metadata": {
        "id": "MB0j13uIA6Fq"
      },
      "source": [
        "# Uncomment any of the below method calls to generate accuracy and runtime data as a csv.\n",
        "# Note: some may take a significant amount of time to run.\n",
        "\n",
        "# test_mlp_first_activation_functions()\n",
        "# test_mlp_second_activation_functions()\n",
        "# test_mlp_learning_rates()\n",
        "# test_mlp_hidden_units()\n",
        "# test_mlp_decay_rates()\n",
        "# test_mlp_momentums()\n",
        "# test_mlp_epochs()\n",
        "# test_mlp_optimisers()\n",
        "# test_mlp_loss_functions()\n",
        "# test_mlp_contrast_stretching_functions()\n",
        "# test_mlp_preprocessing_functions()\n",
        "# test_mlp_pca()\n",
        "# test_mlp_pca_centre()\n",
        "# test_mlp_centre()"
      ],
      "execution_count": null,
      "outputs": []
    },
    {
      "cell_type": "markdown",
      "metadata": {
        "id": "s_coPcsrA6Fq"
      },
      "source": [
        "#### Support Vector Machine"
      ]
    },
    {
      "cell_type": "code",
      "metadata": {
        "id": "XK2qTtBxA6Fq"
      },
      "source": [
        "def test_svm_weights():\n",
        "    training_data, training_labels, testing_data, testing_labels, validation_data, validation_labels = load_in_dataset_and_preprocess(0.8)\n",
        "    num_classes = np.max(training_labels) + 1\n",
        "    weights1 = np.ones((len(training_data[0]), num_classes))\n",
        "    weights2 = np.ones((len(training_data[1]), num_classes))\n",
        "    weights3 = np.ones((len(training_data[2]), num_classes))\n",
        "    weights_list = [weights1, weights2, weights3]\n",
        "    with open('svm_learning_rates.csv', mode='w', newline='') as csv_file:\n",
        "        result_writer = csv.writer(csv_file, delimiter=',', quotechar='\"', quoting=csv.QUOTE_MINIMAL)\n",
        "        result_writer.writerow(['Weights', 'Learning Rate', 'Regularisation Parameters', 'Iterations', 'Batch Size', 'Average Accuracy', 'Average Runtime'])\n",
        "        reg_param= 50000\n",
        "        iterations= 15000\n",
        "        batch_size=200\n",
        "        learning_rate= 0.00000001\n",
        "        for n_weight in weights_list:\n",
        "            i=0\n",
        "            num_tests = 0\n",
        "            total_accuracy = 0\n",
        "            total_runtime = 0\n",
        "            for i in range(2):\n",
        "                start_time = time.time()\n",
        "                res_weights = train_model(training_data, training_labels, n_weight, learning_rate, reg_param, iterations,batch_size, num_classes)\n",
        "                total_accuracy += calculate_accuracy(validation_data, validation_labels, res_weights)\n",
        "                print(total_accuracy)\n",
        "                training_time = time.time() - startTime\n",
        "                total_runtime += nano_to_seconds(training_time)\n",
        "                num_tests += 1\n",
        "            avg_accuracy = np.round(total_accuracy / float(num_tests), 5)\n",
        "            avg_runtime = np.round(total_runtime / float(num_tests), 5)\n",
        "            result_writer.writerow([i, learning_rate, reg_param, iterations, batch_size, avg_accuracy, avg_runtime])\n",
        "            i += 1\n",
        "\n",
        "def test_svm_learning_rate():\n",
        "    training_data, training_labels, testing_data, testing_labels, validation_data, validation_labels = load_in_dataset_and_preprocess(0.8)\n",
        "    num_classes = np.max(training_labels) + 1\n",
        "    learning_rates = [0.00001, 0.00000001, 0.0000000001, 0.00000000001]\n",
        "    weights = np.ones((len(training_data[0]), num_classes))\n",
        "    with open('svm_learning_rates.csv', mode='w', newline='') as csv_file:\n",
        "        result_writer = csv.writer(csv_file, delimiter=',', quotechar='\"', quoting=csv.QUOTE_MINIMAL)\n",
        "        result_writer.writerow(['Weights', 'Learning Rate', 'Regularisation Parameters', 'Iterations', 'Batch Size', 'Average Accuracy', 'Average Runtime'])\n",
        "        reg_param= 50000\n",
        "        iterations= 15000\n",
        "        batch_size=200\n",
        "        for n_learning_rate in learning_rates:\n",
        "                num_tests = 0\n",
        "                total_accuracy = 0\n",
        "                total_runtime = 0\n",
        "                for i in range(2):\n",
        "                    start_time = time.time()\n",
        "                    res_weights = train_model(training_data, training_labels, weights, n_learning_rate, reg_param, iterations,batch_size, num_classes)\n",
        "                    total_accuracy += calculate_accuracy(validation_data, validation_labels, res_weights)\n",
        "                    print(total_accuracy)\n",
        "                    training_time = time.time() - startTime\n",
        "                    total_runtime += nano_to_seconds(training_time)\n",
        "                    num_tests += 1\n",
        "                avg_accuracy = np.round(total_accuracy / float(num_tests), 5)\n",
        "                avg_runtime = np.round(total_runtime / float(num_tests), 5)\n",
        "                result_writer.writerow(['Weight Set', n_learning_rate, reg_param, iterations, batch_size, avg_accuracy, avg_runtime])\n",
        "\n",
        "def test_svm_reg_param():\n",
        "    training_data, training_labels, testing_data, testing_labels, validation_data, validation_labels = load_in_dataset_and_preprocess(0.8)\n",
        "    num_classes = np.max(training_labels) + 1\n",
        "    reg_params = [1000,5000,7000,9000]\n",
        "    weights = np.ones((len(training_data[0]), num_classes))\n",
        "    with open('svm_reg_param.csv', mode='w', newline='') as csv_file:\n",
        "        result_writer = csv.writer(csv_file, delimiter=',', quotechar='\"', quoting=csv.QUOTE_MINIMAL)\n",
        "        result_writer.writerow(['Weights', 'Learning Rate', 'Regularisation Parameters', 'Iterations', 'Batch Size', 'Average Accuracy', 'Average Runtime'])\n",
        "        iterations= 15000\n",
        "        learning_rate= 0.00000001\n",
        "        batch_size=200\n",
        "        for n_reg_param in reg_params:\n",
        "                num_tests = 0\n",
        "                total_accuracy = 0\n",
        "                total_runtime = 0\n",
        "                for i in range(2):\n",
        "                    start_time = time.time()\n",
        "                    res_weights = train_model(training_data, training_labels, weights, learning_rate, n_reg_param, iterations,batch_size, num_classes)\n",
        "                    total_accuracy += calculate_accuracy(validation_data, validation_labels, res_weights)\n",
        "                    print(total_accuracy)\n",
        "                    training_time = time.time() - startTime\n",
        "                    total_runtime += nano_to_seconds(training_time)\n",
        "                    num_tests += 1\n",
        "                avg_accuracy = np.round(total_accuracy / float(num_tests), 5)\n",
        "                avg_runtime = np.round(total_runtime / float(num_tests), 5)\n",
        "                result_writer.writerow(['Weight Set', learning_rate, n_reg_param, iterations, batch_size, avg_accuracy, avg_runtime])\n",
        "\n",
        "def test_svm_iterations():\n",
        "    training_data, training_labels, testing_data, testing_labels, validation_data, validation_labels = load_in_dataset_and_preprocess(0.8)\n",
        "    num_classes = np.max(training_labels) + 1\n",
        "    iterations= [15000, 20000, 30000, 40000]\n",
        "    weights = np.ones((len(training_data[0]), num_classes))\n",
        "    with open('svm_iterations.csv', mode='w', newline='') as csv_file:\n",
        "        result_writer = csv.writer(csv_file, delimiter=',', quotechar='\"', quoting=csv.QUOTE_MINIMAL)\n",
        "        result_writer.writerow(['Weights', 'Learning Rate', 'Regularisation Parameters', 'Iterations', 'Batch Size', 'Average Accuracy', 'Average Runtime'])\n",
        "        reg_param= 50000\n",
        "        batch_size=200\n",
        "        learning_rate= 0.00000001\n",
        "        for n_iteration in iterations:\n",
        "                num_tests = 0\n",
        "                total_accuracy = 0\n",
        "                total_runtime = 0\n",
        "                for i in range(2):\n",
        "                    start_time = time.time()\n",
        "                    res_weights = train_model(training_data, training_labels, weights, learning_rate, reg_param, n_iteration,batch_size, num_classes)\n",
        "                    total_accuracy += calculate_accuracy(validation_data, validation_labels, res_weights)\n",
        "                    print(total_accuracy)\n",
        "                    training_time = time.time() - startTime\n",
        "                    total_runtime += nano_to_seconds(training_time)\n",
        "                    num_tests += 1\n",
        "                avg_accuracy = np.round(total_accuracy / float(num_tests), 5)\n",
        "                avg_runtime = np.round(total_runtime / float(num_tests), 5)\n",
        "                result_writer.writerow(['Weight Set', learning_rate, reg_param, n_iteration, batch_size, avg_accuracy, avg_runtime])\n",
        "\n",
        "def test_svm_batch_size():\n",
        "    training_data, training_labels, testing_data, testing_labels, validation_data, validation_labels = load_in_dataset_and_preprocess(0.8)\n",
        "    num_classes = np.max(training_labels) + 1\n",
        "    batch_sizes= [200, 400, 600]\n",
        "    weights = np.ones((len(training_data[0]), num_classes))\n",
        "    with open('svm_batch_size.csv', mode='w', newline='') as csv_file:\n",
        "        result_writer = csv.writer(csv_file, delimiter=',', quotechar='\"', quoting=csv.QUOTE_MINIMAL)\n",
        "        result_writer.writerow(['Weights', 'Learning Rate', 'Regularisation Parameters', 'Iterations', 'Batch Size', 'Average Accuracy', 'Average Runtime'])\n",
        "        reg_param= 50000\n",
        "        iterations= 15000\n",
        "        learning_rate= 0.00000001\n",
        "        for n_batch_size in batch_sizes:\n",
        "                num_tests = 0\n",
        "                total_accuracy = 0\n",
        "                total_runtime = 0\n",
        "                for i in range(2):\n",
        "                    start_time = time.time()\n",
        "                    res_weights = train_model(training_data, training_labels, weights, learning_rate, reg_param, iterations,n_batch_size, num_classes)\n",
        "                    total_accuracy += calculate_accuracy(validation_data, validation_labels, res_weights)\n",
        "                    print(total_accuracy)\n",
        "                    training_time = time.time() - startTime\n",
        "                    total_runtime += nano_to_seconds(training_time)\n",
        "                    num_tests += 1\n",
        "                avg_accuracy = np.round(total_accuracy / float(num_tests), 5)\n",
        "                avg_runtime = np.round(total_runtime / float(num_tests), 5)\n",
        "                result_writer.writerow(['Weight Set', learning_rate, reg_param, iterations, n_batch_size, avg_accuracy, avg_runtime])\n",
        "\n",
        "def test_svm_preprocessing_functions():\n",
        "    training_data, training_labels, testing_data, testing_labels, validation_data, validation_labels = load_in_dataset_and_preprocess(0.8)\n",
        "    num_classes = np.max(training_labels) + 1\n",
        "    techniques = ['none', 'hist equalization','adaptive equalisation', 'autoencoder' ] \n",
        "    weights = np.ones((len(training_data[0]), num_classes))\n",
        "    with open('svm_preprocessing.csv', mode='w', newline='') as csv_file:\n",
        "        result_writer = csv.writer(csv_file, delimiter=',', quotechar='\"', quoting=csv.QUOTE_MINIMAL)\n",
        "        result_writer.writerow(['Weights', 'Learning Rate', 'Regularisation Parameters', 'Iterations', 'Batch Size', 'Average Accuracy', 'Average Runtime'])\n",
        "        reg_param= 50000\n",
        "        iterations= 15000\n",
        "        learning_rate= 0.00000001\n",
        "        batch_size=200\n",
        "        for technique in techniques:\n",
        "            num_tests = 0\n",
        "            total_accuracy = 0\n",
        "            total_runtime = 0\n",
        "            if technique == 'grayscale':\n",
        "                training_data, validation_data = convert_to_grayscale(training_data, validation_data)\n",
        "            elif technique == 'hist equalization':\n",
        "                training_data, validation_data = equalize_hist_all(training_data, validation_data)\n",
        "            elif technique == 'adaptive equalization':\n",
        "                training_data, validation_data = equalize_adapthist_all(training_data, validation_data)\n",
        "            elif technique == 'canny':\n",
        "                training_data, validation_data = canny_edge_filter_all(training_data, validation_data, 0)\n",
        "            elif technique == 'autoencoder':\n",
        "                training_data, validation_data = autoencoder(training_data, validation_data)\n",
        "        for i in range(2):\n",
        "            start_time = time.time()\n",
        "            res_weights = train_model(training_data, training_labels, weights, learning_rate, reg_param, iterations, batch_size, num_classes)\n",
        "            total_accuracy += calculate_accuracy(validation_data, validation_labels, res_weights)\n",
        "            print(total_accuracy)\n",
        "            training_time = time.time() - startTime\n",
        "            total_runtime += nano_to_seconds(training_time)\n",
        "            num_tests += 1\n",
        "        avg_accuracy = np.round(total_accuracy / float(num_tests), 5)\n",
        "        avg_runtime = np.round(total_runtime / float(num_tests), 5)\n",
        "        result_writer.writerow([weights, learning_rate, reg_param, iterations, batch_size, avg_accuracy, avg_runtime])\n",
        "\n",
        "def test_svm_pca():\n",
        "    explained_variances = [0.6, 0.7, 0.8, 0.9]  \n",
        "    with open('svm_pca.csv', mode='w', newline='') as csv_file:\n",
        "        result_writer = csv.writer(csv_file, delimiter=',', quotechar='\"', quoting=csv.QUOTE_MINIMAL)\n",
        "        result_writer.writerow(['Weights', 'Learning Rate', 'Regularisation Parameters', 'Iterations', 'Batch Size', 'Average Accuracy', 'Average Runtime'])\n",
        "        iterations= 15000\n",
        "        learning_rate= 0.00000001\n",
        "        batch_size=200\n",
        "        reg_param=5000\n",
        "        for n_variance in explained_variances:\n",
        "            num_tests = 0\n",
        "            total_accuracy = 0\n",
        "            total_runtime = 0\n",
        "            for i in range(2):\n",
        "                training_data, training_labels, testing_data, testing_labels, validation_data, validation_labels = load_in_dataset_and_preprocess(n_variance)\n",
        "                num_classes = np.max(training_labels) + 1\n",
        "                weights = np.ones((len(training_data[0]), num_classes))\n",
        "                start_time = time.time()\n",
        "                res_weights = train_model(training_data, training_labels, weights, learning_rate, reg_param, iterations,batch_size, num_classes)\n",
        "                total_accuracy += calculate_accuracy(validation_data, validation_labels, res_weights)\n",
        "                print(total_accuracy)\n",
        "                training_time = time.time() - startTime\n",
        "                total_runtime += nano_to_seconds(training_time)\n",
        "                num_tests += 1\n",
        "            avg_accuracy = np.round(total_accuracy / float(num_tests), 5)\n",
        "            avg_runtime = np.round(total_runtime / float(num_tests), 5)\n",
        "            result_writer.writerow(['Weights Set', learning_rate, reg_param, iterations, batch_size, avg_accuracy, avg_runtime])"
      ],
      "execution_count": null,
      "outputs": []
    },
    {
      "cell_type": "code",
      "metadata": {
        "id": "6peQI4k5A6Fr"
      },
      "source": [
        "# Uncomment any of the below method calls to generate accuracy and runtime data as a csv.\n",
        "# Note: some may take a significant amount of time to run.\n",
        "\n",
        "# test_svm_weights()\n",
        "# test_svm_learning_rate()\n",
        "# test_svm_reg_param()\n",
        "# test_svm_iterations()\n",
        "# test_svm_batch_size()\n",
        "# test_svm_preprocessing_functions()\n",
        "# test_svm_pca()"
      ],
      "execution_count": null,
      "outputs": []
    },
    {
      "cell_type": "markdown",
      "metadata": {
        "id": "gv1tw6lmA6Fr"
      },
      "source": [
        "### Generating Plots\n",
        "In order to generate plots, run the test methods above and place the resulting csv files into a sub-directory named `test_results/`."
      ]
    },
    {
      "cell_type": "markdown",
      "metadata": {
        "id": "i3MFU6MLA6Fr"
      },
      "source": [
        "#### Imports"
      ]
    },
    {
      "cell_type": "code",
      "metadata": {
        "id": "cBKaS_c0A6Fr"
      },
      "source": [
        "import math"
      ],
      "execution_count": null,
      "outputs": []
    },
    {
      "cell_type": "markdown",
      "metadata": {
        "id": "zYUdBJENA6Fr"
      },
      "source": [
        "#### Image Filter Techniques"
      ]
    },
    {
      "cell_type": "code",
      "metadata": {
        "id": "LxXradiQA6Fr",
        "outputId": "b8b2683c-5bc4-4d1f-8b23-1946cec170f4"
      },
      "source": [
        "from mpl_toolkits.axes_grid1 import ImageGrid\n",
        "\n",
        "(x_train, y_train), (x_test, y_test) = import_data()\n",
        "\n",
        "image = np.copy(x_train[0])\n",
        "image_grayscale, _ = convert_to_grayscale(np.array([image]), np.array([image]))\n",
        "image_grayscale = image_grayscale[0]\n",
        "image_contrast = increase_image_contrast(image, 20)\n",
        "image_hist = equalize_hist(image)\n",
        "image_adapt = equalize_adapthist(image, 0.02)\n",
        "image_canny, _ = canny_edge_filter_all(np.array([image]), np.array([image]))\n",
        "image_canny = image_canny[0]\n",
        "\n",
        "image_list = [image, image_grayscale, image_contrast, image_hist, image_adapt, image_canny]\n",
        "\n",
        "fig = plt.figure(figsize=(15., 10.))\n",
        "grid = ImageGrid(fig, 111,  # similar to subplot(111)\n",
        "                 nrows_ncols=(3, 2),  # creates 2x2 grid of axes\n",
        "                 axes_pad=0.5,  # pad between axes in inch. \n",
        "                 )\n",
        "\n",
        "index = 0\n",
        "for ax, im in zip(grid, image_list):\n",
        "    label = ''\n",
        "    if index == 0:\n",
        "        label = \"No Filter\"\n",
        "    elif index == 1:\n",
        "        label = \"Grayscale\"\n",
        "    elif index == 2:\n",
        "        label = \"Contrast Stretching\"\n",
        "    elif index == 3:\n",
        "        label = \"Histogram Equalization\"\n",
        "    elif index == 4:\n",
        "        label = \"Adaptive Histogram Equalization\"\n",
        "    elif index == 5:\n",
        "        label = \"Canny Edge Detection\"\n",
        "    ax.set_title(label)\n",
        "    \n",
        "    if index == 1 or index == 5:\n",
        "        ax.imshow(im, cmap=\"gray\")\n",
        "    else:\n",
        "        ax.imshow(im)\n",
        "    index += 1\n",
        "\n",
        "plt.show()"
      ],
      "execution_count": null,
      "outputs": [
        {
          "output_type": "display_data",
          "data": {
            "image/png": "[encoded data removed]",
            "text/plain": [
              "<Figure size 1080x720 with 12 Axes>"
            ]
          },
          "metadata": {
            "tags": [],
            "needs_background": "light"
          }
        }
      ]
    },
    {
      "cell_type": "markdown",
      "metadata": {
        "id": "tM8BA5ZLA6Fr"
      },
      "source": [
        "#### Random Forest"
      ]
    },
    {
      "cell_type": "code",
      "metadata": {
        "id": "m__QkqTbA6Fr",
        "outputId": "ccc76e3a-9185-4a76-dfb8-eb327d08e903"
      },
      "source": [
        "with open('test_results/rf_estimators.csv') as csv_file:\n",
        "    csv_reader = csv.reader(csv_file, delimiter=',')\n",
        "    line_count = 0\n",
        "    results = []\n",
        "    for row in csv_reader:\n",
        "        if line_count != 0:\n",
        "            results.append({\n",
        "                'n_estimators' : int(row[0]),\n",
        "                'max_features' : row[1],\n",
        "                'criterion' : row[2],\n",
        "                'bootstrap' : row[3],\n",
        "                'accuracy' : float(row[4]),\n",
        "                'runtime' : float(row[5])\n",
        "            })\n",
        "        line_count += 1\n",
        "    \n",
        "    n_estimators_list = []\n",
        "    accuracies = []\n",
        "    runtimes = []\n",
        "    \n",
        "    for result in results:\n",
        "        n_estimators_list.append(result['n_estimators'])\n",
        "        accuracies.append(result['accuracy'])\n",
        "        runtimes.append(result['runtime'])\n",
        "    \n",
        "    plt.plot(n_estimators_list, accuracies, 'ro')\n",
        "    \n",
        "    plt.title('Number of Estimators to Accuracy')\n",
        "    plt.xlabel('Number of Estimators')\n",
        "    plt.ylabel('Accuracy')\n",
        "    plt.annotate('Maximum Accuracy: 0.3724', xy=(1500, 0.37235), xytext=(1150, 0.36),\n",
        "                 arrowprops=dict(facecolor='black', shrink=0.05, width=0.5, headwidth=8))\n",
        "    plt.show()\n",
        "    \n",
        "    plt.plot(n_estimators_list, runtimes, 'bo')\n",
        "    \n",
        "    plt.title('Number of Estimators to Runtime')\n",
        "    plt.xlabel('Number of Estimators')\n",
        "    plt.ylabel('Runtime')\n",
        "    plt.show()"
      ],
      "execution_count": null,
      "outputs": [
        {
          "output_type": "display_data",
          "data": {
            "image/png": "[encoded data removed]",
            "text/plain": [
              "<Figure size 432x288 with 1 Axes>"
            ]
          },
          "metadata": {
            "tags": [],
            "needs_background": "light"
          }
        },
        {
          "output_type": "display_data",
          "data": {
            "image/png": "[encoded data removed]",
            "text/plain": [
              "<Figure size 432x288 with 1 Axes>"
            ]
          },
          "metadata": {
            "tags": [],
            "needs_background": "light"
          }
        }
      ]
    },
    {
      "cell_type": "code",
      "metadata": {
        "id": "26goyPhrA6Fr",
        "outputId": "144178d3-0cec-4389-8509-6b7fcbf70ec0"
      },
      "source": [
        "with open('test_results/rf_features.csv') as csv_file:\n",
        "    csv_reader = csv.reader(csv_file, delimiter=',')\n",
        "    line_count = 0\n",
        "    results = []\n",
        "    for row in csv_reader:\n",
        "        if line_count > 2:\n",
        "            results.append({\n",
        "                'n_estimators' : int(row[0]),\n",
        "                'max_features' : float(row[1]),\n",
        "                'criterion' : row[2],\n",
        "                'bootstrap' : row[3],\n",
        "                'accuracy' : float(row[4]),\n",
        "                'runtime' : float(row[5])\n",
        "            })\n",
        "        elif line_count > 0:\n",
        "            features = 0\n",
        "            if row[1] == 'sqrt':\n",
        "                features = math.sqrt(32*32*3) / (32*32*3)\n",
        "            elif row[1] == 'log2':\n",
        "                features = math.log((32*32*3), 2) / (32*32*3)\n",
        "            results.append({\n",
        "                'n_estimators' : int(row[0]),\n",
        "                'max_features' : features,\n",
        "                'criterion' : row[2],\n",
        "                'bootstrap' : row[3],\n",
        "                'accuracy' : float(row[4]),\n",
        "                'runtime' : float(row[5])\n",
        "            })\n",
        "                \n",
        "        line_count += 1\n",
        "    \n",
        "    max_features_list = []\n",
        "    accuracies = []\n",
        "    runtimes = []\n",
        "    \n",
        "    for result in results:\n",
        "        max_features_list.append(result['max_features'])\n",
        "        accuracies.append(result['accuracy'])\n",
        "        runtimes.append(result['runtime'])\n",
        "    \n",
        "    plt.plot(max_features_list, accuracies, 'ro')\n",
        "    \n",
        "    plt.title('Max Features to Accuracy')\n",
        "    plt.xlabel('Max Features')\n",
        "    plt.ylabel('Accuracy')\n",
        "    plt.annotate('Maximum Accuracy: 0.352', xy=(0.1, 0.35154), xytext=(0.1, 0.31),\n",
        "                 arrowprops=dict(facecolor='black', shrink=0.05, width=0.5, headwidth=8))\n",
        "    plt.show()\n",
        "    \n",
        "    plt.plot(max_features_list, runtimes, 'bo')\n",
        "    \n",
        "    plt.title('Max Features to Runtime')\n",
        "    plt.xlabel('Max Features')\n",
        "    plt.ylabel('Runtime')\n",
        "    plt.show()"
      ],
      "execution_count": null,
      "outputs": [
        {
          "output_type": "display_data",
          "data": {
            "image/png": "[encoded data removed]",
            "text/plain": [
              "<Figure size 432x288 with 1 Axes>"
            ]
          },
          "metadata": {
            "tags": [],
            "needs_background": "light"
          }
        },
        {
          "output_type": "display_data",
          "data": {
            "image/png": "[encoded data removed]",
            "text/plain": [
              "<Figure size 432x288 with 1 Axes>"
            ]
          },
          "metadata": {
            "tags": [],
            "needs_background": "light"
          }
        }
      ]
    },
    {
      "cell_type": "code",
      "metadata": {
        "id": "tMEjwvDyA6Fr",
        "outputId": "ad741cb2-56f2-463e-bb96-2136448c037e"
      },
      "source": [
        "with open('test_results/rf_criterion.csv') as csv_file:\n",
        "    csv_reader = csv.reader(csv_file, delimiter=',')\n",
        "    line_count = 0\n",
        "    results = []\n",
        "    for row in csv_reader:\n",
        "        if line_count != 0:\n",
        "            results.append({\n",
        "                'n_estimators' : int(row[0]),\n",
        "                'max_features' : row[1],\n",
        "                'criterion' : row[2],\n",
        "                'bootstrap' : row[3],\n",
        "                'accuracy' : float(row[4]),\n",
        "                'runtime' : float(row[5])\n",
        "            })\n",
        "        line_count += 1\n",
        "  \n",
        "    gini_accuracy = []\n",
        "    entropy_accuracy = []\n",
        "    \n",
        "    gini_runtime = []\n",
        "    entropy_runtime = []\n",
        "    \n",
        "    for result in results:\n",
        "        if result['criterion'] == 'gini':\n",
        "            gini_accuracy.append(result['accuracy'])\n",
        "            gini_runtime.append(result['runtime'])\n",
        "        elif result['criterion'] == 'entropy':\n",
        "            entropy_accuracy.append(result['accuracy'])\n",
        "            entropy_runtime.append(result['runtime'])\n",
        "            \n",
        "    plt.plot(gini_runtime, gini_accuracy, 'ro', label=\"Gini\")\n",
        "    plt.plot(entropy_runtime, entropy_accuracy, 'go', label=\"Entropy\")\n",
        "    \n",
        "    plt.title('Criterion to Accuracy and Runtime')\n",
        "    plt.xlabel('Runtime')\n",
        "    plt.ylabel('Accuracy')\n",
        "    plt.annotate('Maximum Accuracy: 0.338', xy=(10.59134, 0.3376), xytext=(11, 0.336),\n",
        "                 arrowprops=dict(facecolor='black', shrink=0.05, width=0.5, headwidth=8))\n",
        "    plt.legend(bbox_to_anchor=(1.05, 1), loc=\"upper left\")\n",
        "    plt.show()"
      ],
      "execution_count": null,
      "outputs": [
        {
          "output_type": "display_data",
          "data": {
            "image/png": "[encoded data removed]",
            "text/plain": [
              "<Figure size 432x288 with 1 Axes>"
            ]
          },
          "metadata": {
            "tags": [],
            "needs_background": "light"
          }
        }
      ]
    },
    {
      "cell_type": "code",
      "metadata": {
        "id": "B4YblItoA6Fr",
        "outputId": "40783fe5-a70a-4f7c-8166-0b35e18c1af1"
      },
      "source": [
        "with open('test_results/rf_bootstrap.csv') as csv_file:\n",
        "    csv_reader = csv.reader(csv_file, delimiter=',')\n",
        "    line_count = 0\n",
        "    results = []\n",
        "    for row in csv_reader:\n",
        "        if line_count != 0:\n",
        "            results.append({\n",
        "                'n_estimators' : int(row[0]),\n",
        "                'max_features' : row[1],\n",
        "                'criterion' : row[2],\n",
        "                'bootstrap' : row[3],\n",
        "                'max_samples' : float(row[4]),\n",
        "                'accuracy' : float(row[5]),\n",
        "                'runtime' : float(row[6])\n",
        "            })\n",
        "        line_count += 1\n",
        "    \n",
        "    bootstrap_false_sample = []\n",
        "    bootstrap_samples = []\n",
        "    \n",
        "    bootstrap_false_accuracy = []\n",
        "    accuracies = []\n",
        "    \n",
        "    bootstrap_false_runtime = []\n",
        "    runtimes = []\n",
        "    \n",
        "    for result in results:\n",
        "        if result['bootstrap'] == 'True':\n",
        "            bootstrap_samples.append(result['max_samples'])\n",
        "            accuracies.append(result['accuracy'])\n",
        "            runtimes.append(result['runtime'])\n",
        "        else:\n",
        "            bootstrap_false_sample.append(result['max_samples'])\n",
        "            bootstrap_false_accuracy.append(result['accuracy'])\n",
        "            bootstrap_false_runtime.append(result['runtime'])\n",
        "    \n",
        "    plt.plot(bootstrap_samples, accuracies, 'ro', label='Bootstrapping')\n",
        "    plt.plot(bootstrap_false_sample, bootstrap_false_accuracy, 'go', label='Not Bootstrapping')\n",
        "    \n",
        "    plt.title('Number of Samples to Accuracy')\n",
        "    plt.xlabel('Number of Samples')\n",
        "    plt.ylabel('Accuracy')\n",
        "    plt.legend(bbox_to_anchor=(1.05, 1), loc=\"upper left\")\n",
        "    plt.annotate('Maximum Accuracy: 0.340', xy=(1, 0.33968), xytext=(0.55, 0.33),\n",
        "                 arrowprops=dict(facecolor='black', shrink=0.05, width=0.5, headwidth=8))\n",
        "    plt.show()\n",
        "    \n",
        "    plt.plot(bootstrap_samples, runtimes, 'bo', label='Bootstrapping')\n",
        "    plt.plot(bootstrap_false_sample, bootstrap_false_runtime, 'mo', label='Not Bootstrapping')\n",
        "    \n",
        "    plt.title('Number of Samples to Runtime')\n",
        "    plt.xlabel('Number of Samples')\n",
        "    plt.ylabel('Runtime')\n",
        "    plt.legend(bbox_to_anchor=(1.05, 1), loc=\"upper left\")\n",
        "    plt.show()"
      ],
      "execution_count": null,
      "outputs": [
        {
          "output_type": "display_data",
          "data": {
            "image/png": "[encoded data removed]",
            "text/plain": [
              "<Figure size 432x288 with 1 Axes>"
            ]
          },
          "metadata": {
            "tags": [],
            "needs_background": "light"
          }
        },
        {
          "output_type": "display_data",
          "data": {
            "image/png": "[encoded data removed]",
            "text/plain": [
              "<Figure size 432x288 with 1 Axes>"
            ]
          },
          "metadata": {
            "tags": [],
            "needs_background": "light"
          }
        }
      ]
    },
    {
      "cell_type": "code",
      "metadata": {
        "id": "cEmDimdvA6Fr",
        "outputId": "b5a7e91b-03b0-48eb-c8f3-d319750b3758"
      },
      "source": [
        "with open('test_results/rf_filter.csv') as csv_file:\n",
        "    csv_reader = csv.reader(csv_file, delimiter=',')\n",
        "    line_count = 0\n",
        "    results = []\n",
        "    for row in csv_reader:\n",
        "        if line_count != 0:\n",
        "            results.append({\n",
        "                'n_estimators' : int(row[0]),\n",
        "                'max_features' : row[1],\n",
        "                'criterion' : row[2],\n",
        "                'bootstrap' : row[3],\n",
        "                'technique' : row[4],\n",
        "                'accuracy' : float(row[5]),\n",
        "                'runtime' : float(row[6])\n",
        "            })\n",
        "        line_count += 1\n",
        "    \n",
        "    none_accuracy = []\n",
        "    none_runtime = []\n",
        "    \n",
        "    gray_accuracy = []\n",
        "    gray_runtime = []\n",
        "    \n",
        "    hist_accuracy = []\n",
        "    hist_runtime = []\n",
        "    \n",
        "    adapt_accuracy = []\n",
        "    adapt_runtime = []\n",
        "    \n",
        "    canny_accuracy = []\n",
        "    canny_runtime = []\n",
        "    \n",
        "    for result in results:\n",
        "        if result['technique'] == 'none':\n",
        "            none_accuracy.append(result['accuracy'])\n",
        "            none_runtime.append(result['runtime'])\n",
        "        elif result['technique'] == 'grayscale':\n",
        "            gray_accuracy.append(result['accuracy'])\n",
        "            gray_runtime.append(result['runtime'])\n",
        "        elif result['technique'] == 'hist equalization':\n",
        "            hist_accuracy.append(result['accuracy'])\n",
        "            hist_runtime.append(result['runtime'])\n",
        "        elif result['technique'] == 'adaptive equalization':\n",
        "            adapt_accuracy.append(result['accuracy'])\n",
        "            adapt_runtime.append(result['runtime'])\n",
        "        elif result['technique'] == 'canny':\n",
        "            canny_accuracy.append(result['accuracy'])\n",
        "            canny_runtime.append(result['runtime'])\n",
        "    \n",
        "    plt.plot(none_runtime, none_accuracy, 'ro', label=\"No Filter\")\n",
        "    plt.plot(gray_runtime, gray_accuracy, 'bo', label=\"Grayscale\")\n",
        "    plt.plot(hist_runtime, hist_accuracy, 'go', label=\"Histogram Equalization\")\n",
        "    plt.plot(adapt_runtime, adapt_accuracy, 'yo', label=\"Adaptive Histogram Equalization\")\n",
        "    plt.plot(canny_runtime, canny_accuracy, 'mo', label=\"Canny Edge Detection\")\n",
        "    \n",
        "    plt.title('Different Filters to Runtime and Accuracy')\n",
        "    plt.xlabel('Runtime')\n",
        "    plt.ylabel('Accuracy')\n",
        "    plt.annotate('Maximum Accuracy: 0.338', xy=(10.80175, 0.3376), xytext=(7.0, 0.32),\n",
        "                 arrowprops=dict(facecolor='black', shrink=0.05, width=0.5, headwidth=8))\n",
        "    \n",
        "    plt.legend(bbox_to_anchor=(1.05, 1), loc=\"upper left\")\n",
        "    plt.show()"
      ],
      "execution_count": null,
      "outputs": [
        {
          "output_type": "display_data",
          "data": {
            "image/png": "[encoded data removed]",
            "text/plain": [
              "<Figure size 432x288 with 1 Axes>"
            ]
          },
          "metadata": {
            "tags": [],
            "needs_background": "light"
          }
        }
      ]
    },
    {
      "cell_type": "code",
      "metadata": {
        "id": "ynOL8_YmA6Fr",
        "outputId": "0bbf0082-e601-4c9d-b2eb-846f0ac0c733"
      },
      "source": [
        "with open('test_results/rf_contrast.csv') as csv_file:\n",
        "    csv_reader = csv.reader(csv_file, delimiter=',')\n",
        "    line_count = 0\n",
        "    results = []\n",
        "    for row in csv_reader:\n",
        "        if line_count != 0:\n",
        "            results.append({\n",
        "                'n_estimators' : int(row[0]),\n",
        "                'max_features' : row[1],\n",
        "                'criterion' : row[2],\n",
        "                'bootstrap' : row[3],\n",
        "                'contrast' : int(row[4]),\n",
        "                'accuracy' : float(row[5]),\n",
        "                'runtime' : float(row[6])\n",
        "            })\n",
        "        line_count += 1\n",
        "    \n",
        "    contrast_list = []\n",
        "    accuracies = []\n",
        "    runtimes = []\n",
        "    \n",
        "    for result in results:\n",
        "        contrast_list.append(result['contrast'])\n",
        "        accuracies.append(result['accuracy'])\n",
        "        runtimes.append(result['runtime'])\n",
        "    \n",
        "    plt.plot(contrast_list, accuracies, 'ro')\n",
        "    \n",
        "    plt.title('Contrast Factor to Accuracy')\n",
        "    plt.xlabel('Contrast Factor')\n",
        "    plt.ylabel('Accuracy')\n",
        "    plt.annotate('Maximum Accuracy: 0.3426', xy=(0, 0.3426), xytext=(10, 0.34),\n",
        "                 arrowprops=dict(facecolor='black', shrink=0.05, width=0.5, headwidth=8))\n",
        "    plt.show()\n",
        "    \n",
        "    plt.plot(contrast_list, runtimes, 'bo')\n",
        "    \n",
        "    plt.title('Contrast Factor to Runtime')\n",
        "    plt.xlabel('Contrast Factor')\n",
        "    plt.ylabel('Runtime')\n",
        "    plt.show()"
      ],
      "execution_count": null,
      "outputs": [
        {
          "output_type": "display_data",
          "data": {
            "image/png": "[encoded data removed]",
            "text/plain": [
              "<Figure size 432x288 with 1 Axes>"
            ]
          },
          "metadata": {
            "tags": [],
            "needs_background": "light"
          }
        },
        {
          "output_type": "display_data",
          "data": {
            "image/png": "[encoded data removed]",
            "text/plain": [
              "<Figure size 432x288 with 1 Axes>"
            ]
          },
          "metadata": {
            "tags": [],
            "needs_background": "light"
          }
        }
      ]
    },
    {
      "cell_type": "markdown",
      "metadata": {
        "id": "2I2DOOoXA6Fr"
      },
      "source": [
        "#### Multi-Layer Perceptron"
      ]
    },
    {
      "cell_type": "code",
      "metadata": {
        "id": "OKH5PtKcA6Fr",
        "outputId": "7e845685-44db-45ed-beeb-d0796948d53b"
      },
      "source": [
        "with open('test_results/mlp_epochs.csv') as csv_file:\n",
        "    csv_reader = csv.reader(csv_file, delimiter=',')\n",
        "    line_count = 0\n",
        "    results = []\n",
        "    for row in csv_reader:\n",
        "        if line_count != 0:\n",
        "            results.append({\n",
        "                '1st est func' : row[0],\n",
        "                '2nd est func' : row[1],\n",
        "                'loss func' : row[2],\n",
        "                'learning rate' : float(row[3]),\n",
        "                'optimiser' : row[4],\n",
        "                'momentum' : float(row[5]),\n",
        "                'decay' : float(row[6]),\n",
        "                'epochs' : int(row[7]),\n",
        "                'hidden units' : int(row[8]),\n",
        "                'accuracy' : float(row[9]),\n",
        "                'runtime' : float(row[10])\n",
        "            })\n",
        "        line_count += 1\n",
        "    \n",
        "    epochs_list = []\n",
        "    accuracies = []\n",
        "    runtimes = []\n",
        "    \n",
        "    for result in results:\n",
        "        epochs_list.append(result['epochs'])\n",
        "        accuracies.append(result['accuracy'])\n",
        "        runtimes.append(result['runtime'])\n",
        "    \n",
        "    plt.plot(epochs_list, accuracies, 'ro')\n",
        "    \n",
        "    plt.title('Epochs to Accuracy')\n",
        "    plt.xlabel('Epochs')\n",
        "    plt.ylabel('Accuracy')\n",
        "    plt.annotate('Maximum Accuracy: 0.101', xy=(50, 0.10087), xytext=(40, 0.0995),\n",
        "                 arrowprops=dict(facecolor='black', shrink=0.05, width=0.5, headwidth=8))\n",
        "    plt.show()\n",
        "    \n",
        "    plt.plot(epochs_list, runtimes, 'bo')\n",
        "    \n",
        "    plt.title('Epochs to Runtime')\n",
        "    plt.xlabel('Epochs')\n",
        "    plt.ylabel('Runtime')\n",
        "    plt.show()"
      ],
      "execution_count": null,
      "outputs": [
        {
          "output_type": "display_data",
          "data": {
            "image/png": "[encoded data removed]",
            "text/plain": [
              "<Figure size 432x288 with 1 Axes>"
            ]
          },
          "metadata": {
            "tags": [],
            "needs_background": "light"
          }
        },
        {
          "output_type": "display_data",
          "data": {
            "image/png": "[encoded data removed]",
            "text/plain": [
              "<Figure size 432x288 with 1 Axes>"
            ]
          },
          "metadata": {
            "tags": [],
            "needs_background": "light"
          }
        }
      ]
    },
    {
      "cell_type": "code",
      "metadata": {
        "id": "fz0bVvZQA6Fr",
        "outputId": "3afabc06-5d95-4d9a-f15d-e7ae5bb4c9a0"
      },
      "source": [
        "with open('test_results/mlp_first_activation_function.csv') as csv_file:\n",
        "    csv_reader = csv.reader(csv_file, delimiter=',')\n",
        "    line_count = 0\n",
        "    results = []\n",
        "    for row in csv_reader:\n",
        "        if line_count != 0:\n",
        "            results.append({\n",
        "                '1st est func' : row[0],\n",
        "                '2nd est func' : row[1],\n",
        "                'loss func' : row[2],\n",
        "                'learning rate' : float(row[3]),\n",
        "                'optimiser' : row[4],\n",
        "                'momentum' : float(row[5]),\n",
        "                'decay' : float(row[6]),\n",
        "                'epochs' : int(row[7]),\n",
        "                'hidden units' : int(row[8]),\n",
        "                'accuracy' : float(row[9]),\n",
        "                'runtime' : float(row[10])\n",
        "            })\n",
        "        line_count += 1\n",
        "    \n",
        "    func_list = []\n",
        "    accuracies = []\n",
        "    runtimes = []\n",
        "    \n",
        "    for result in results:\n",
        "        func_list.append(result['1st est func'])\n",
        "        accuracies.append(result['accuracy'])\n",
        "        runtimes.append(result['runtime'])\n",
        "    \n",
        "    plt.plot([runtimes[0]], [accuracies[0]], 'ro', label=\"elu\")\n",
        "    plt.plot([runtimes[1]], [accuracies[1]], 'bo', label=\"relu\")\n",
        "    plt.plot([runtimes[2]], [accuracies[2]], 'go', label=\"tanh\")\n",
        "    \n",
        "    plt.title('1st Estimation Function to Accuracy and Runtime')\n",
        "    plt.xlabel('Runtime')\n",
        "    plt.ylabel('Accuracy')\n",
        "    plt.annotate('Maximum Accuracy: 0.2313', xy=(runtimes[0], accuracies[0]), xytext=(44.6, 0.21),\n",
        "                 arrowprops=dict(facecolor='black', shrink=0.05, width=0.5, headwidth=8))\n",
        "    plt.legend(bbox_to_anchor=(1.05, 1), loc=\"upper left\")\n",
        "    plt.show()"
      ],
      "execution_count": null,
      "outputs": [
        {
          "output_type": "display_data",
          "data": {
            "image/png": "[encoded data removed]",
            "text/plain": [
              "<Figure size 432x288 with 1 Axes>"
            ]
          },
          "metadata": {
            "tags": [],
            "needs_background": "light"
          }
        }
      ]
    },
    {
      "cell_type": "code",
      "metadata": {
        "id": "H0AwD0KpA6Fr",
        "outputId": "021f6e1b-e0b4-4e05-937e-f0625dcb5213"
      },
      "source": [
        "with open('test_results/mlp_second_activation_function.csv') as csv_file:\n",
        "    csv_reader = csv.reader(csv_file, delimiter=',')\n",
        "    line_count = 0\n",
        "    results = []\n",
        "    for row in csv_reader:\n",
        "        if line_count != 0:\n",
        "            results.append({\n",
        "                '1st est func' : row[0],\n",
        "                '2nd est func' : row[1],\n",
        "                'loss func' : row[2],\n",
        "                'learning rate' : float(row[3]),\n",
        "                'optimiser' : row[4],\n",
        "                'momentum' : float(row[5]),\n",
        "                'decay' : float(row[6]),\n",
        "                'epochs' : int(row[7]),\n",
        "                'hidden units' : int(row[8]),\n",
        "                'accuracy' : float(row[9]),\n",
        "                'runtime' : float(row[10])\n",
        "            })\n",
        "        line_count += 1\n",
        "    \n",
        "    func_list = []\n",
        "    accuracies = []\n",
        "    runtimes = []\n",
        "    \n",
        "    for result in results:\n",
        "        func_list.append(result['2nd est func'])\n",
        "        accuracies.append(result['accuracy'])\n",
        "        runtimes.append(result['runtime'])\n",
        "    \n",
        "    plt.plot([runtimes[0]], [accuracies[0]], 'ro', label=\"tanh\")\n",
        "    plt.plot([runtimes[1]], [accuracies[1]], 'bo', label=\"softmax\")\n",
        "    \n",
        "    plt.title('2nd Estimation Function to Accuracy and Runtime')\n",
        "    plt.xlabel('Runtime')\n",
        "    plt.ylabel('Accuracy')\n",
        "    plt.annotate('Maximum Accuracy: 0.1106', xy=(runtimes[1], 0.1106), xytext=(runtimes[1] + 0.5, 0.10),\n",
        "                 arrowprops=dict(facecolor='black', shrink=0.05, width=0.5, headwidth=8))\n",
        "    plt.legend(bbox_to_anchor=(1.05, 1), loc=\"upper left\")\n",
        "    plt.show()"
      ],
      "execution_count": null,
      "outputs": [
        {
          "output_type": "display_data",
          "data": {
            "image/png": "[encoded data removed]",
            "text/plain": [
              "<Figure size 432x288 with 1 Axes>"
            ]
          },
          "metadata": {
            "tags": [],
            "needs_background": "light"
          }
        }
      ]
    },
    {
      "cell_type": "code",
      "metadata": {
        "id": "ZSTrBmN7A6Fr",
        "outputId": "d93798d5-008f-4721-d5c7-f7b06923ea9e"
      },
      "source": [
        "with open('test_results/mlp_hidden_units.csv') as csv_file:\n",
        "    csv_reader = csv.reader(csv_file, delimiter=',')\n",
        "    line_count = 0\n",
        "    results = []\n",
        "    for row in csv_reader:\n",
        "        if line_count != 0:\n",
        "            results.append({\n",
        "                '1st est func' : row[0],\n",
        "                '2nd est func' : row[1],\n",
        "                'loss func' : row[2],\n",
        "                'learning rate' : float(row[3]),\n",
        "                'optimiser' : row[4],\n",
        "                'momentum' : float(row[5]),\n",
        "                'decay' : float(row[6]),\n",
        "                'epochs' : int(row[7]),\n",
        "                'hidden units' : int(row[8]),\n",
        "                'accuracy' : float(row[9]),\n",
        "                'runtime' : float(row[10])\n",
        "            })\n",
        "        line_count += 1\n",
        "    \n",
        "    hidden_list = []\n",
        "    accuracies = []\n",
        "    runtimes = []\n",
        "    \n",
        "    for result in results:\n",
        "        hidden_list.append(result['hidden units'])\n",
        "        accuracies.append(result['accuracy'])\n",
        "        runtimes.append(result['runtime'])\n",
        "    \n",
        "    plt.plot(hidden_list, accuracies, 'ro')\n",
        "    \n",
        "    plt.title('Number of Hidden Units to Accuracy')\n",
        "    plt.xlabel('Hidden Units')\n",
        "    plt.ylabel('Accuracy')\n",
        "    plt.annotate('Maximum Accuracy: 0.1453', xy=(hidden_list[2], accuracies[2]), xytext=(250, 0.13),\n",
        "                 arrowprops=dict(facecolor='black', shrink=0.05, width=0.5, headwidth=8))\n",
        "    plt.show()\n",
        "    \n",
        "    plt.plot(hidden_list, runtimes, 'bo')\n",
        "    \n",
        "    plt.title('Number of Hidden Units to Runtime')\n",
        "    plt.xlabel('Hidden Units')\n",
        "    plt.ylabel('Runtime')\n",
        "    plt.show()"
      ],
      "execution_count": null,
      "outputs": [
        {
          "output_type": "display_data",
          "data": {
            "image/png": "[encoded data removed]",
            "text/plain": [
              "<Figure size 432x288 with 1 Axes>"
            ]
          },
          "metadata": {
            "tags": [],
            "needs_background": "light"
          }
        },
        {
          "output_type": "display_data",
          "data": {
            "image/png": "[encoded data removed]",
            "text/plain": [
              "<Figure size 432x288 with 1 Axes>"
            ]
          },
          "metadata": {
            "tags": [],
            "needs_background": "light"
          }
        }
      ]
    },
    {
      "cell_type": "code",
      "metadata": {
        "id": "0C0pfOR4A6Fr",
        "outputId": "706d9140-f5b1-434c-a24b-a56062a5278d"
      },
      "source": [
        "with open('test_results/mlp_learning_rates.csv') as csv_file:\n",
        "    csv_reader = csv.reader(csv_file, delimiter=',')\n",
        "    line_count = 0\n",
        "    results = []\n",
        "    for row in csv_reader:\n",
        "        if line_count != 0:\n",
        "            results.append({\n",
        "                '1st est func' : row[0],\n",
        "                '2nd est func' : row[1],\n",
        "                'loss func' : row[2],\n",
        "                'learning rate' : float(row[3]),\n",
        "                'optimiser' : row[4],\n",
        "                'momentum' : float(row[5]),\n",
        "                'decay' : float(row[6]),\n",
        "                'epochs' : int(row[7]),\n",
        "                'hidden units' : int(row[8]),\n",
        "                'accuracy' : float(row[9]),\n",
        "                'runtime' : float(row[10])\n",
        "            })\n",
        "        line_count += 1\n",
        "    \n",
        "    learning_list = []\n",
        "    accuracies = []\n",
        "    runtimes = []\n",
        "    \n",
        "    for result in results:\n",
        "        learning_list.append(result['learning rate'])\n",
        "        accuracies.append(result['accuracy'])\n",
        "        runtimes.append(result['runtime'])\n",
        "    \n",
        "    plt.plot(learning_list, accuracies, 'ro')\n",
        "    \n",
        "    plt.title('Learning Rate to Accuracy')\n",
        "    plt.xlabel('Learning Rate')\n",
        "    plt.ylabel('Accuracy')\n",
        "    plt.annotate('Maximum Accuracy: 0.081', xy=(learning_list[2], accuracies[2]), xytext=(0.007, 0.075),\n",
        "                 arrowprops=dict(facecolor='black', shrink=0.05, width=0.5, headwidth=8))\n",
        "    plt.show()\n",
        "    \n",
        "    plt.plot(learning_list, runtimes, 'bo')\n",
        "    \n",
        "    plt.title('Learning Rate to Runtime')\n",
        "    plt.xlabel('Learning Rate')\n",
        "    plt.ylabel('Runtime')\n",
        "    plt.show()"
      ],
      "execution_count": null,
      "outputs": [
        {
          "output_type": "display_data",
          "data": {
            "image/png": "[encoded data removed]",
            "text/plain": [
              "<Figure size 432x288 with 1 Axes>"
            ]
          },
          "metadata": {
            "tags": [],
            "needs_background": "light"
          }
        },
        {
          "output_type": "display_data",
          "data": {
            "image/png": "[encoded data removed]",
            "text/plain": [
              "<Figure size 432x288 with 1 Axes>"
            ]
          },
          "metadata": {
            "tags": [],
            "needs_background": "light"
          }
        }
      ]
    },
    {
      "cell_type": "code",
      "metadata": {
        "id": "f1f0XO-yA6Fs",
        "outputId": "9b59cad6-a383-434d-8634-bda4b6e62513"
      },
      "source": [
        "with open('test_results/mlp_momentums.csv') as csv_file:\n",
        "    csv_reader = csv.reader(csv_file, delimiter=',')\n",
        "    line_count = 0\n",
        "    results = []\n",
        "    for row in csv_reader:\n",
        "        if line_count != 0:\n",
        "            results.append({\n",
        "                '1st est func' : row[0],\n",
        "                '2nd est func' : row[1],\n",
        "                'loss func' : row[2],\n",
        "                'learning rate' : float(row[3]),\n",
        "                'optimiser' : row[4],\n",
        "                'momentum' : float(row[5]),\n",
        "                'decay' : float(row[6]),\n",
        "                'epochs' : int(row[7]),\n",
        "                'hidden units' : int(row[8]),\n",
        "                'accuracy' : float(row[9]),\n",
        "                'runtime' : float(row[10])\n",
        "            })\n",
        "        line_count += 1\n",
        "    \n",
        "    momentum_list = []\n",
        "    accuracies = []\n",
        "    runtimes = []\n",
        "    \n",
        "    for result in results:\n",
        "        momentum_list.append(result['momentum'])\n",
        "        accuracies.append(result['accuracy'])\n",
        "        runtimes.append(result['runtime'])\n",
        "    \n",
        "    plt.plot(momentum_list, accuracies, 'ro')\n",
        "    \n",
        "    plt.title('Momentum to Accuracy')\n",
        "    plt.xlabel('Momentum')\n",
        "    plt.ylabel('Accuracy')\n",
        "    plt.annotate('Maximum Accuracy: 0.2832', xy=(momentum_list[2], accuracies[2]), xytext=(0.715, 0.279),\n",
        "                 arrowprops=dict(facecolor='black', shrink=0.05, width=0.5, headwidth=8))\n",
        "    plt.show()\n",
        "    \n",
        "    plt.plot(momentum_list, runtimes, 'bo')\n",
        "    \n",
        "    plt.title('Momentum to Runtime')\n",
        "    plt.xlabel('Momentum')\n",
        "    plt.ylabel('Runtime')\n",
        "    plt.show()"
      ],
      "execution_count": null,
      "outputs": [
        {
          "output_type": "display_data",
          "data": {
            "image/png": "[encoded data removed]",
            "text/plain": [
              "<Figure size 432x288 with 1 Axes>"
            ]
          },
          "metadata": {
            "tags": [],
            "needs_background": "light"
          }
        },
        {
          "output_type": "display_data",
          "data": {
            "image/png": "[encoded data removed]",
            "text/plain": [
              "<Figure size 432x288 with 1 Axes>"
            ]
          },
          "metadata": {
            "tags": [],
            "needs_background": "light"
          }
        }
      ]
    },
    {
      "cell_type": "code",
      "metadata": {
        "id": "u-fXWKtkA6Fs",
        "outputId": "5a8ce9a6-de52-481d-8c2b-e6e896adf9a5"
      },
      "source": [
        "with open('test_results/mlp_optimisers.csv') as csv_file:\n",
        "    csv_reader = csv.reader(csv_file, delimiter=',')\n",
        "    line_count = 0\n",
        "    results = []\n",
        "    for row in csv_reader:\n",
        "        if line_count != 0:\n",
        "            results.append({\n",
        "                '1st est func' : row[0],\n",
        "                '2nd est func' : row[1],\n",
        "                'loss func' : row[2],\n",
        "                'learning rate' : float(row[3]),\n",
        "                'optimiser' : row[4],\n",
        "                'momentum' : float(row[5]),\n",
        "                'decay' : float(row[6]),\n",
        "                'epochs' : int(row[7]),\n",
        "                'hidden units' : int(row[8]),\n",
        "                'accuracy' : float(row[9]),\n",
        "                'runtime' : float(row[10])\n",
        "            })\n",
        "        line_count += 1\n",
        "    \n",
        "    opt_list = []\n",
        "    accuracies = []\n",
        "    runtimes = []\n",
        "    \n",
        "    for result in results:\n",
        "        opt_list.append(result['optimiser'])\n",
        "        accuracies.append(result['accuracy'])\n",
        "        runtimes.append(result['runtime'])\n",
        "    \n",
        "    plt.plot([runtimes[0]], [accuracies[0]], 'ro', label=\"Adam\")\n",
        "    plt.plot([runtimes[1]], [accuracies[1]], 'bo', label=\"SGD\")\n",
        "    \n",
        "    plt.title('Optimiser to Accuracy and Runtime')\n",
        "    plt.xlabel('Runtime')\n",
        "    plt.ylabel('Accuracy')\n",
        "    plt.annotate('Maximum Accuracy: 0.2841', xy=(runtimes[1], accuracies[1]), xytext=(runtimes[1] + 0.5, 0.25),\n",
        "                 arrowprops=dict(facecolor='black', shrink=0.05, width=0.5, headwidth=8))\n",
        "    plt.legend(bbox_to_anchor=(1.05, 1), loc=\"upper left\")\n",
        "    plt.show()"
      ],
      "execution_count": null,
      "outputs": [
        {
          "output_type": "display_data",
          "data": {
            "image/png": "[encoded data removed]",
            "text/plain": [
              "<Figure size 432x288 with 1 Axes>"
            ]
          },
          "metadata": {
            "tags": [],
            "needs_background": "light"
          }
        }
      ]
    },
    {
      "cell_type": "markdown",
      "metadata": {
        "id": "wxDf9uJEA6Fs"
      },
      "source": [
        "#### Support Vector Machine"
      ]
    },
    {
      "cell_type": "code",
      "metadata": {
        "id": "9_xJc2xIA6Fs",
        "outputId": "ff9858b2-c34e-479d-f7d1-45eba5a92059"
      },
      "source": [
        "with open('test_results/svm_batch_size.csv') as csv_file:\n",
        "    csv_reader = csv.reader(csv_file, delimiter=',')\n",
        "    line_count = 0\n",
        "    results = []\n",
        "\n",
        "    for row in csv_reader:\n",
        "        if line_count != 0:\n",
        "            results.append({\n",
        "              'weights' : row[0],\n",
        "              'learning_rate' : row[1],\n",
        "              'reg_param' : row[2],\n",
        "              'iterations' : row[3],\n",
        "              'batch_size' : float(row[4]),\n",
        "              'accuracy' : float(row[5]),\n",
        "              'runtime' : float(row[6])\n",
        "              })\n",
        "        line_count += 1\n",
        "\n",
        "    n_estimators_list = []\n",
        "    accuracies = []\n",
        "    runtimes = []\n",
        "\n",
        "    for result in results:\n",
        "        n_estimators_list.append(result['batch_size'])\n",
        "        accuracies.append(result['accuracy'])\n",
        "        runtimes.append(result['runtime'])\n",
        "\n",
        "    plt.plot(n_estimators_list, accuracies, 'ro')\n",
        "\n",
        "    plt.title('Value of Batch Sizes to Accuracy')\n",
        "    plt.xlabel('Batch Size')\n",
        "    plt.ylabel('Accuracy')\n",
        "    plt.annotate('Maximum Accuracy: 21.887', xy=(n_estimators_list[1], accuracies[1]), xytext=(400, 21.845),\n",
        "                arrowprops=dict(facecolor='black', shrink=0.05, width=0.5, headwidth=8))\n",
        "    plt.show()"
      ],
      "execution_count": null,
      "outputs": [
        {
          "output_type": "display_data",
          "data": {
            "image/png": "[encoded data removed]",
            "text/plain": [
              "<Figure size 432x288 with 1 Axes>"
            ]
          },
          "metadata": {
            "tags": [],
            "needs_background": "light"
          }
        }
      ]
    },
    {
      "cell_type": "code",
      "metadata": {
        "id": "YeLkdX3oA6Fs",
        "outputId": "a28c66e7-aab3-421f-e75d-ba5405848e03"
      },
      "source": [
        "with open('test_results/svm_pca.csv') as csv_file:\n",
        "    csv_reader = csv.reader(csv_file, delimiter=',')\n",
        "    line_count = 0\n",
        "    results = []\n",
        "\n",
        "    for row in csv_reader:\n",
        "        if line_count != 0:\n",
        "            results.append({\n",
        "              'variance' : float(row[0]),\n",
        "              'accuracy' : float(row[1]),\n",
        "            })\n",
        "        line_count += 1\n",
        "\n",
        "    n_estimators_list = []\n",
        "    accuracies = []\n",
        "\n",
        "    variances= [0.6, 0.7, 0.8, 0.9] \n",
        "\n",
        "    for result in results:\n",
        "        n_estimators_list.append(result['variance'])\n",
        "        accuracies.append(result['accuracy'])\n",
        "\n",
        "    plt.plot(n_estimators_list, accuracies, 'ro')\n",
        "\n",
        "    plt.title('Value of Variance for PCA to Accuracy')\n",
        "    plt.xlabel('Explained Variance')\n",
        "    plt.ylabel('Accuracy')\n",
        "    plt.show()"
      ],
      "execution_count": null,
      "outputs": [
        {
          "output_type": "display_data",
          "data": {
            "image/png": "[encoded data removed]",
            "text/plain": [
              "<Figure size 432x288 with 1 Axes>"
            ]
          },
          "metadata": {
            "tags": [],
            "needs_background": "light"
          }
        }
      ]
    },
    {
      "cell_type": "code",
      "metadata": {
        "id": "umtwC9kGA6Fs",
        "outputId": "fa124983-a80b-47db-ad84-cffb86e73464"
      },
      "source": [
        "with open('test_results/svm_reg_param.csv') as csv_file:\n",
        "    csv_reader = csv.reader(csv_file, delimiter=',')\n",
        "    line_count = 0\n",
        "    results = []\n",
        "\n",
        "    for row in csv_reader:\n",
        "        if line_count != 0:\n",
        "            results.append({\n",
        "              'weights' : row[0],\n",
        "              'learning_rate' : row[1],\n",
        "              'reg_param' : row[2],\n",
        "              'iterations' : row[3],\n",
        "              'batch_size' : float(row[4]),\n",
        "              'accuracy' : float(row[5]),\n",
        "              'runtime' : float(row[6])\n",
        "            })\n",
        "        line_count += 1\n",
        "\n",
        "    n_estimators_list = []\n",
        "    accuracies = []\n",
        "    runtimes = []\n",
        "\n",
        "    for result in results:\n",
        "        n_estimators_list.append(result['reg_param'])\n",
        "        accuracies.append(result['accuracy'])\n",
        "        runtimes.append(result['runtime'])\n",
        "\n",
        "    plt.plot(n_estimators_list, accuracies, 'ro')\n",
        "\n",
        "    plt.title('Number of Regularisation Parameters to Accuracy')\n",
        "    plt.xlabel('Number of Regularisation Parameters')\n",
        "    plt.ylabel('Accuracy')\n",
        "    plt.show()"
      ],
      "execution_count": null,
      "outputs": [
        {
          "output_type": "display_data",
          "data": {
            "image/png": "[encoded data removed]",
            "text/plain": [
              "<Figure size 432x288 with 1 Axes>"
            ]
          },
          "metadata": {
            "tags": [],
            "needs_background": "light"
          }
        }
      ]
    },
    {
      "cell_type": "code",
      "metadata": {
        "id": "cdBU8aKeA6Fs",
        "outputId": "1588ac38-40ce-4c42-9237-83cd19cabaf3"
      },
      "source": [
        "with open('test_results/svm_learning_rates.csv') as csv_file:\n",
        "    csv_reader = csv.reader(csv_file, delimiter=',')\n",
        "    line_count = 0\n",
        "    results = []\n",
        "\n",
        "    for row in csv_reader:\n",
        "        if line_count != 0:\n",
        "            results.append({\n",
        "              'weights' : row[0],\n",
        "              'learning_rate' : row[1],\n",
        "              'reg_param' : row[2],\n",
        "              'iterations' : row[3],\n",
        "              'batch_size' : float(row[4]),\n",
        "              'accuracy' : float(row[5]),\n",
        "              'runtime' : float(row[6])\n",
        "              })\n",
        "        line_count += 1\n",
        "\n",
        "    n_estimators_list = []\n",
        "    accuracies = []\n",
        "    runtimes = []\n",
        "\n",
        "    for result in results:\n",
        "        n_estimators_list.append(result['learning_rate'])\n",
        "        accuracies.append(result['accuracy'])\n",
        "        runtimes.append(result['runtime'])\n",
        "\n",
        "    plt.plot(n_estimators_list, accuracies, 'ro')\n",
        "\n",
        "    plt.title('Value of Learning Rate to Accuracy')\n",
        "    plt.xlabel('Value of Learning Rate')\n",
        "    plt.ylabel('Accuracy')\n",
        "    plt.show()"
      ],
      "execution_count": null,
      "outputs": [
        {
          "output_type": "display_data",
          "data": {
            "image/png": "[encoded data removed]",
            "text/plain": [
              "<Figure size 432x288 with 1 Axes>"
            ]
          },
          "metadata": {
            "tags": [],
            "needs_background": "light"
          }
        }
      ]
    },
    {
      "cell_type": "code",
      "metadata": {
        "id": "K3X_HHe7A6Fs",
        "outputId": "20d7576d-ed65-4e98-9c1c-58ad05c954f5"
      },
      "source": [
        "with open('test_results/svm_preprocessing.csv') as csv_file:\n",
        "    csv_reader = csv.reader(csv_file, delimiter=',')\n",
        "    line_count = 0\n",
        "    results = []\n",
        "\n",
        "    for row in csv_reader:\n",
        "        if line_count != 0:\n",
        "            results.append({\n",
        "              'technique' : row[0],\n",
        "              'accuracy' : float(row[1]),\n",
        "            })\n",
        "        line_count += 1\n",
        "\n",
        "    n_estimators_list = []\n",
        "    accuracies = []\n",
        "    runtimes = []\n",
        "\n",
        "    for result in results:\n",
        "        n_estimators_list.append(result['technique'])\n",
        "        accuracies.append(result['accuracy'])\n",
        "\n",
        "    plt.plot(n_estimators_list, accuracies, 'ro')\n",
        "\n",
        "    plt.title('Preprocessing Techniques to Accuracy to Accuracy')\n",
        "    plt.xlabel('Preprocessing Techniques')\n",
        "    plt.ylabel('Accuracy')\n",
        "    plt.show()"
      ],
      "execution_count": null,
      "outputs": [
        {
          "output_type": "display_data",
          "data": {
            "image/png": "[encoded data removed]",
            "text/plain": [
              "<Figure size 432x288 with 1 Axes>"
            ]
          },
          "metadata": {
            "tags": [],
            "needs_background": "light"
          }
        }
      ]
    }
  ]
}