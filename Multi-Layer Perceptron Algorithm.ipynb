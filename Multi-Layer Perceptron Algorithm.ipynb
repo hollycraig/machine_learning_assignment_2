{
 "cells": [
  {
   "cell_type": "code",
   "execution_count": 6,
   "metadata": {},
   "outputs": [],
   "source": [
    "from keras.models import Sequential\n",
    "from keras.layers import Dense, Activation\n",
    "from keras.optimizers import Adam, SGD\n",
    "from keras.utils.np_utils import to_categorical  \n",
    "from keras.datasets import cifar100\n",
    "import numpy as np\n",
    "\n",
    "# (training_data, training_labels), (testing_data, testing_labels) = (cifar100.load_data(\"coarse\"))\n",
    "\n",
    "# centre the data\n",
    "def centre_data(train, test):\n",
    "    \n",
    "    # calculate the means for each attribute of the training data\n",
    "    column_means = np.mean(train, axis=0) \n",
    "    \n",
    "    # centre training data by subtracting training data attribute means\n",
    "    for i in range(len(train)):\n",
    "        train[i] = train[i] - column_means\n",
    "    \n",
    "    # centre testing data by subtracting training data attribute means\n",
    "    for x in range(len(test)):\n",
    "        test[x] = test[x] - column_means\n",
    "        \n",
    "    return train, test\n",
    "\n",
    "# apply PCA on the data \n",
    "def PCA(variance_target, training_data, testing_data):\n",
    "\n",
    "    U, sigma, Vt = np.linalg.svd(training_data, full_matrices=False)\n",
    "    \n",
    "    sum_square_singular = np.sum(sigma**2)\n",
    "    \n",
    "    ratios = sigma**2/sum_square_singular\n",
    "    \n",
    "                \n",
    "    n_components = 0\n",
    "    explained_variance = 0\n",
    "    \n",
    "    # determine how many principle components must be retained to maintain the target level of explained variance\n",
    "    for i in range(len(ratios)):\n",
    "        if explained_variance >= variance_target:\n",
    "            break\n",
    "        else: \n",
    "            n_components += 1\n",
    "            explained_variance += ratios[i]\n",
    "    \n",
    "    return training_data.dot(Vt.T[:, :n_components]), testing_data.dot(Vt.T[:, :n_components])\n",
    "\n",
    "def load_in_dataset_and_preprocess(explained_variance):\n",
    "    (training_data, training_labels), (testing_data, testing_labels) = (cifar100.load_data(\"coarse\"))\n",
    "    \n",
    "    # reshape the data \n",
    "    training_data = training_data.reshape(50000, 3072)\n",
    "    testing_data = testing_data.reshape(10000, 3072)\n",
    "\n",
    "    # preprocess data\n",
    "    validation_data = training_data[49000:, :]\n",
    "    validation_labels = np.squeeze(training_labels[49000:, :])\n",
    "    training_data = training_data[:49000, :]\n",
    "    training_labels = np.squeeze(training_labels[:49000, :])\n",
    "    \n",
    "    training_data = training_data.astype('float32')\n",
    "    testing_data = testing_data.astype('float32')\n",
    "    validation_data = validation_data.astype('float32')\n",
    "\n",
    "    # Centre data\n",
    "    training_data, testing_data = centre_data(training_data, testing_data)\n",
    "\n",
    "    # Apply PCA\n",
    "    training_data, testing_data = PCA(explained_variance, training_data, testing_data)\n",
    "    \n",
    "    return training_data, training_labels, testing_data, testing_labels\n",
    "\n",
    "training_data, training_labels, testing_data, testing_labels, validation_data, validation_labels = load_in_dataset_and_preprocess(0.8)\n"
   ]
  },
  {
   "cell_type": "code",
   "execution_count": 7,
   "metadata": {},
   "outputs": [],
   "source": [
    "\n",
    "\n",
    "# training_labels = to_categorical(training_labels, 20)\n",
    "# testing_labels = to_categorical(testing_labels, 20)\n",
    "\n",
    "# Normalization of pixel values (to [0-1] range)\n",
    "training_data = training_data / 255\n",
    "testing_data = testing_data / 255"
   ]
  },
  {
   "cell_type": "code",
   "execution_count": 22,
   "metadata": {},
   "outputs": [],
   "source": [
    "from keras.optimizers import Adam\n",
    "from keras.layers import Dense, Activation, Dropout\n",
    "\n",
    "def run_MLP_model(training_data, training_labels, testing_data, testing_labels, first_activation_function, second_activation_function, num_hidden_layers, learning_rate, optimiser, decay_level, momentum, epochs, loss):\n",
    "\n",
    "    training_data = training_data.reshape(50000, 3072)\n",
    "    testing_data = testing_data.reshape(10000, 3072)\n",
    "    \n",
    "    training_data = training_data.astype('float32')\n",
    "    testing_data = testing_data.astype('float32')\n",
    "    \n",
    "    # Centre data\n",
    "    training_data, testing_data = centre_data(training_data, testing_data)\n",
    "\n",
    "    # Apply PCA\n",
    "    training_data, testing_data = PCA(explained_variance, training_data, testing_data)\n",
    "    \n",
    "    model = Sequential()\n",
    "\n",
    "    model.add(Dense(num_hidden_layers, activation='relu', input_dim=training_data.shape[1]))\n",
    "    model.add(Dropout(0.5))\n",
    "    model.add(Dense(num_hidden_layers, activation='relu'))\n",
    "    model.add(Dropout(0.5))\n",
    "    model.add(Dense(20, activation='softmax'))\n",
    "    \n",
    "    if optimiser == 'SGD':\n",
    "        optimiser = SGD(lr=learning_rate, decay=decay_level, momentum=momentum, nesterov=True)\n",
    "    else:\n",
    "        optimiser = Adam(lr=0.001, decay=1e-6)\n",
    "\n",
    "    # can also use loss function categorical_crossentropy\n",
    "    # sparse_categorical_crossentropy\n",
    "    # or optimiser SGD\n",
    "    # try with different optimisers and loss functions\n",
    "    model.compile(optimizer=optimiser,\n",
    "                  loss='sparse_categorical_crossentropy',\n",
    "                  metrics=['accuracy'])\n",
    "\n",
    "\n",
    "    history = model.fit(training_data, training_labels, epochs=epochs, batch_size=32, verbose=0, validation_split=0.2)\n",
    "    score = model.evaluate(testing_data, testing_labels, batch_size=128, verbose=0)\n",
    "\n",
    "    print(score)\n",
    "    return score "
   ]
  },
  {
   "cell_type": "code",
   "execution_count": 23,
   "metadata": {},
   "outputs": [
    {
     "name": "stdout",
     "output_type": "stream",
     "text": [
      "['loss', 'accuracy']\n",
      "[2.9958221912384033, 0.05000000074505806]\n"
     ]
    }
   ],
   "source": [
    "(training_data, training_labels), (testing_data, testing_labels) = (cifar100.load_data(\"coarse\"))\n",
    "\n",
    "run_model(training_data, training_labels, testing_data, testing_labels, 'relu', 'softmax', 256, 0.001, 'Adam', 1e-6, 0.9, 20, 'sparse_categorical_crossentropy')\n"
   ]
  },
  {
   "cell_type": "code",
   "execution_count": null,
   "metadata": {},
   "outputs": [],
   "source": [
    "### Converting images to grayscale"
   ]
  },
  {
   "cell_type": "code",
   "execution_count": null,
   "metadata": {},
   "outputs": [],
   "source": [
    "def convert_to_grayscale(train, test):\n",
    "    rgb_weights = [0.2989, 0.5870, 0.1140]\n",
    "    gray_train = np.dot(train[:][...,:3], rgb_weights)\n",
    "    gray_test = np.dot(test[:][...,:3], rgb_weights)\n",
    "    return gray_train.astype(int), gray_test.astype(int)"
   ]
  },
  {
   "cell_type": "code",
   "execution_count": null,
   "metadata": {},
   "outputs": [],
   "source": [
    "### Increasing image contrast"
   ]
  },
  {
   "cell_type": "code",
   "execution_count": null,
   "metadata": {},
   "outputs": [],
   "source": [
    "def increase_image_contrast(image, strength):\n",
    "    p_low, p_high = np.percentile(image, (strength, 100 - strength))\n",
    "    return (exposure.rescale_intensity(image, in_range=(p_low, p_high))).astype(int)\n",
    "\n",
    "def increase_all_contrast(train, test, strength=10):\n",
    "    new_train = np.copy(train)\n",
    "    new_test = np.copy(test)\n",
    "    for i in range(len(train)):\n",
    "        new_train[i] = increase_image_contrast(train[i], strength)\n",
    "    for i in range(len(test)):\n",
    "        new_test[i] = increase_image_contrast(test[i], strength)\n",
    "    return new_train, new_test"
   ]
  },
  {
   "cell_type": "code",
   "execution_count": null,
   "metadata": {},
   "outputs": [],
   "source": [
    "### Image equalisation"
   ]
  },
  {
   "cell_type": "code",
   "execution_count": null,
   "metadata": {},
   "outputs": [],
   "source": [
    "def equalize_hist(image):\n",
    "    return (exposure.equalize_hist(image) * 255).astype(int)\n",
    "\n",
    "def equalize_hist_all(train, test):\n",
    "    new_train = np.copy(train)\n",
    "    new_test = np.copy(test)\n",
    "    for i in range(len(train)):\n",
    "        new_train[i] = equalize_hist(train[i])\n",
    "    for i in range(len(test)):\n",
    "        new_test[i] = equalize_hist(test[i])\n",
    "    return new_train, new_test\n",
    "\n"
   ]
  },
  {
   "cell_type": "code",
   "execution_count": null,
   "metadata": {},
   "outputs": [],
   "source": [
    "def equalize_adapthist(image, clip_lim):\n",
    "    return (exposure.equalize_adapthist(image, clip_limit=clip_lim) * 255).astype(int)\n",
    "\n",
    "def equalize_adapthist_all(train, test, clip_limit=0.03):\n",
    "    new_train = np.copy(train)\n",
    "    new_test = np.copy(test)\n",
    "    for i in range(len(train)):\n",
    "        new_train[i] = equalize_adapthist(train[i], clip_limit)\n",
    "    for i in range(len(test)):\n",
    "        new_test[i] = equalize_adapthist(test[i], clip_limit)\n",
    "    return new_train, new_test"
   ]
  },
  {
   "cell_type": "code",
   "execution_count": null,
   "metadata": {},
   "outputs": [],
   "source": [
    "### Edge detection"
   ]
  },
  {
   "cell_type": "code",
   "execution_count": null,
   "metadata": {},
   "outputs": [],
   "source": [
    "def canny_edge_filter_all(train, test, sig=1):\n",
    "    if (len(train.shape) > 3):\n",
    "        train, test = convert_to_grayscale(train, test)\n",
    "    new_train = np.copy(train)\n",
    "    new_test = np.copy(test)\n",
    "    for i in range(len(train)):\n",
    "        new_train[i] = feature.canny(train[i].astype(float), sigma=sig)\n",
    "    for i in range(len(test)):\n",
    "        new_test[i] = feature.canny(test[i].astype(float), sigma=sig)\n",
    "    return new_train, new_test"
   ]
  },
  {
   "cell_type": "code",
   "execution_count": null,
   "metadata": {},
   "outputs": [],
   "source": [
    "### flattening the images"
   ]
  },
  {
   "cell_type": "code",
   "execution_count": null,
   "metadata": {},
   "outputs": [],
   "source": [
    "def flatten_data(x_train, y_train, x_test, y_test):\n",
    "    new_image_shape = 1\n",
    "    for dim in range(1, len(x_train.shape)):\n",
    "        new_image_shape *= x_train.shape[dim]\n",
    "        \n",
    "    flat_x_train = x_train.reshape((x_train.shape[0], new_image_shape))\n",
    "    flat_y_train = np.ravel(y_train)\n",
    "    \n",
    "    flat_x_test = x_test.reshape((x_test.shape[0], new_image_shape))\n",
    "    flat_y_test = np.ravel(y_test)\n",
    "    return flat_x_train, flat_y_train, flat_x_test, flat_y_test"
   ]
  },
  {
   "cell_type": "code",
   "execution_count": null,
   "metadata": {},
   "outputs": [],
   "source": [
    "### Testing"
   ]
  },
  {
   "cell_type": "code",
   "execution_count": null,
   "metadata": {},
   "outputs": [],
   "source": [
    "def import_data() -> ((np.ndarray, np.ndarray), (np.ndarray, np.ndarray)):\n",
    "    return tf.keras.datasets.cifar100.load_data(label_mode=\"coarse\")"
   ]
  },
  {
   "cell_type": "code",
   "execution_count": null,
   "metadata": {},
   "outputs": [],
   "source": [
    "import time\n",
    "import csv"
   ]
  },
  {
   "cell_type": "code",
   "execution_count": null,
   "metadata": {},
   "outputs": [],
   "source": [
    "def nano_to_seconds(nanoseconds):\n",
    "    \"\"\"Converts nanoseconds to seconds rounded to the nearest 5 decimal places.\n",
    "    \n",
    "    Parameters\n",
    "    ----------\n",
    "    nanoseconds : int\n",
    "        The nanoseconds to convert\n",
    "    \"\"\"\n",
    "\n",
    "    return np.round((nanoseconds / 1e+9), 5)"
   ]
  },
  {
   "cell_type": "code",
   "execution_count": null,
   "metadata": {},
   "outputs": [],
   "source": [
    "## test preprocessing"
   ]
  },
  {
   "cell_type": "code",
   "execution_count": null,
   "metadata": {},
   "outputs": [],
   "source": [
    "## test optimiser "
   ]
  },
  {
   "cell_type": "code",
   "execution_count": null,
   "metadata": {},
   "outputs": [],
   "source": [
    "## test second activation functions"
   ]
  },
  {
   "cell_type": "code",
   "execution_count": null,
   "metadata": {},
   "outputs": [],
   "source": [
    "def test_MLP_second_activation_functions():\n",
    "    activation_functions = ['logistic', 'tanh', 'softmax']\n",
    "    (raw_x_train, raw_y_train), (raw_x_test, raw_y_test) = import_data()\n",
    "    with open('rf_estimators.csv', mode='w', newline='') as csv_file:\n",
    "        result_writer = csv.writer(csv_file, delimiter=',', quotechar='\"', quoting=csv.QUOTE_MINIMAL)\n",
    "        result_writer.writerow(['1st Activation Function', '2nd Activation Function', 'Loss Function', 'Learning Rate', 'Optimiser', 'Momentum', 'Decay', 'Epochs', 'Number Hidden Layers', 'Average Runtime'])\n",
    "        momentum = 0.9\n",
    "        decay=1e-6\n",
    "        learning_rate = 0.001\n",
    "        first_activation_function = 'relu'\n",
    "        second_activation_function = 'softmax'\n",
    "        loss = 'sparse_categorical_crossentropy'\n",
    "        optimiser = 'Adam'\n",
    "        epochs = 50\n",
    "        num_hidden_layers = 256\n",
    "        for activation_function in activation_functions:\n",
    "            num_tests = 0\n",
    "            total_accuracy = 0\n",
    "            total_runtime = 0\n",
    "            for i in range(2):\n",
    "                start_time = time.time_ns()\n",
    "                total_accuracy += run_MLP_model(training_data, training_labels, testing_data, testing_labels, 'relu', activation_function, 256, 0.001, 'Adam', 1e-6, 0.9, 20, 'sparse_categorical_crossentropy')\n",
    "                end_time = time.time_ns()\n",
    "                total_runtime += nano_to_seconds(end_time - start_time)\n",
    "                num_tests += 1\n",
    "            avg_accuracy = np.round(total_accuracy / float(num_tests), 5)\n",
    "            avg_runtime = np.round(total_runtime / float(num_tests), 5)\n",
    "            result_writer.writerow([first_activation_function, second_activation_function, loss, learning_rate, optimiser, momentum, decay, epochs, avg_accuracy, avg_runtime])\n",
    "            print(\"Finished n_estimators: {}\".format(n_estimators))"
   ]
  },
  {
   "cell_type": "code",
   "execution_count": null,
   "metadata": {},
   "outputs": [],
   "source": [
    "## test first activation functions"
   ]
  },
  {
   "cell_type": "code",
   "execution_count": null,
   "metadata": {},
   "outputs": [],
   "source": [
    "def test_MLP_second_activation_functions():\n",
    "    activation_functions = []\n",
    "    (raw_x_train, raw_y_train), (raw_x_test, raw_y_test) = import_data()\n",
    "    with open('rf_estimators.csv', mode='w', newline='') as csv_file:\n",
    "        result_writer = csv.writer(csv_file, delimiter=',', quotechar='\"', quoting=csv.QUOTE_MINIMAL)\n",
    "        result_writer.writerow(['1st Activation Function', '2nd Activation Function', 'Loss Function', 'Learning Rate', 'Optimiser', 'Momentum', 'Decay', 'Epochs', 'Number Hidden Layers', 'Average Runtime'])\n",
    "        momentum = 0.9\n",
    "        decay=1e-6\n",
    "        learning_rate = 0.001\n",
    "        first_activation_function = 'relu'\n",
    "        second_activation_function = 'softmax'\n",
    "        loss = 'sparse_categorical_crossentropy'\n",
    "        optimiser = 'Adam'\n",
    "        epochs = 50\n",
    "        num_hidden_layers = 256\n",
    "        for activation_function in activation_functions:\n",
    "            num_tests = 0\n",
    "            total_accuracy = 0\n",
    "            total_runtime = 0\n",
    "            for i in range(2):\n",
    "                start_time = time.time_ns()\n",
    "                total_accuracy += run_MLP_model(training_data, training_labels, testing_data, testing_labels, 'relu', activation_function, 256, 0.001, 'Adam', 1e-6, 0.9, 20, 'sparse_categorical_crossentropy')\n",
    "                end_time = time.time_ns()\n",
    "                total_runtime += nano_to_seconds(end_time - start_time)\n",
    "                num_tests += 1\n",
    "            avg_accuracy = np.round(total_accuracy / float(num_tests), 5)\n",
    "            avg_runtime = np.round(total_runtime / float(num_tests), 5)\n",
    "            result_writer.writerow([first_activation_function, second_activation_function, loss, learning_rate, optimiser, momentum, decay, epochs, avg_accuracy, avg_runtime])\n",
    "            print(\"Finished n_estimators: {}\".format(n_estimators))"
   ]
  },
  {
   "cell_type": "code",
   "execution_count": null,
   "metadata": {},
   "outputs": [],
   "source": [
    "## test learning rates"
   ]
  },
  {
   "cell_type": "code",
   "execution_count": null,
   "metadata": {},
   "outputs": [],
   "source": [
    "## test number of hidden layers"
   ]
  },
  {
   "cell_type": "code",
   "execution_count": null,
   "metadata": {},
   "outputs": [],
   "source": [
    "## test decay"
   ]
  },
  {
   "cell_type": "code",
   "execution_count": null,
   "metadata": {},
   "outputs": [],
   "source": [
    "## test momentum "
   ]
  },
  {
   "cell_type": "code",
   "execution_count": null,
   "metadata": {},
   "outputs": [],
   "source": [
    "## test epochs"
   ]
  }
 ],
 "metadata": {
  "kernelspec": {
   "display_name": "Python 3",
   "language": "python",
   "name": "python3"
  },
  "language_info": {
   "codemirror_mode": {
    "name": "ipython",
    "version": 3
   },
   "file_extension": ".py",
   "mimetype": "text/x-python",
   "name": "python",
   "nbconvert_exporter": "python",
   "pygments_lexer": "ipython3",
   "version": "3.7.4"
  }
 },
 "nbformat": 4,
 "nbformat_minor": 2
}
