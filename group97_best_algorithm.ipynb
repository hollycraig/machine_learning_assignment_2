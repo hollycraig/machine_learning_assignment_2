{
 "cells": [
  {
   "cell_type": "markdown",
   "metadata": {},
   "source": [
    "# COMP5318 - Machine Learning and Data Mining: Assignment 2\n",
    "<div style=\"text-align: right\"> Due: Wed 18 Nov 2020 11:59PM </div>\n",
    "<div style=\"text-align: right\"> Group 97 </div>\n",
    "\n",
    "## Best Algorithm: Random Forest\n",
    "\n",
    "### Preprocessing:\n",
    "- Flatten data\n",
    "\n",
    "### Parameters:\n",
    "- `n_estimators = 400`\n",
    "- `bootstrap = False`\n",
    "- `max_features = 'sqrt'`\n",
    "- `criterion = 'gini'`"
   ]
  },
  {
   "cell_type": "markdown",
   "metadata": {},
   "source": [
    "#### Imports"
   ]
  },
  {
   "cell_type": "code",
   "execution_count": 1,
   "metadata": {},
   "outputs": [],
   "source": [
    "import tensorflow as tf\n",
    "import numpy as np\n",
    "from sklearn.ensemble import RandomForestClassifier\n",
    "from skimage import exposure\n",
    "from skimage import feature\n",
    "import matplotlib.pyplot as plt"
   ]
  },
  {
   "cell_type": "markdown",
   "metadata": {},
   "source": [
    "#### Helper Methods"
   ]
  },
  {
   "cell_type": "code",
   "execution_count": 2,
   "metadata": {},
   "outputs": [],
   "source": [
    "def import_data() -> ((np.ndarray, np.ndarray), (np.ndarray, np.ndarray)):\n",
    "    return tf.keras.datasets.cifar100.load_data(label_mode=\"coarse\")\n",
    "\n",
    "def flatten_data(x_train, y_train, x_test, y_test):\n",
    "    new_image_shape = 1\n",
    "    for dim in range(1, len(x_train.shape)):\n",
    "        new_image_shape *= x_train.shape[dim]\n",
    "        \n",
    "    flat_x_train = x_train.reshape((x_train.shape[0], new_image_shape))\n",
    "    flat_y_train = np.ravel(y_train)\n",
    "    \n",
    "    flat_x_test = x_test.reshape((x_test.shape[0], new_image_shape))\n",
    "    flat_y_test = np.ravel(y_test)\n",
    "    return flat_x_train, flat_y_train, flat_x_test, flat_y_test"
   ]
  },
  {
   "cell_type": "markdown",
   "metadata": {},
   "source": [
    "#### Running the Model"
   ]
  },
  {
   "cell_type": "code",
   "execution_count": 3,
   "metadata": {},
   "outputs": [
    {
     "name": "stderr",
     "output_type": "stream",
     "text": [
      "[Parallel(n_jobs=-1)]: Using backend ThreadingBackend with 12 concurrent workers.\n",
      "[Parallel(n_jobs=-1)]: Done  26 tasks      | elapsed:   15.2s\n",
      "[Parallel(n_jobs=-1)]: Done 176 tasks      | elapsed:  1.4min\n",
      "[Parallel(n_jobs=-1)]: Done 400 out of 400 | elapsed:  3.0min finished\n"
     ]
    },
    {
     "data": {
      "text/plain": [
       "RandomForestClassifier(bootstrap=False, max_features='sqrt', n_estimators=400,\n",
       "                       n_jobs=-1, verbose=1)"
      ]
     },
     "execution_count": 3,
     "metadata": {},
     "output_type": "execute_result"
    }
   ],
   "source": [
    "(x_train, y_train), (x_test, y_test) = import_data()\n",
    "x_train, y_train, x_test, y_test = flatten_data(x_train, y_train, x_test, y_test)\n",
    "model = RandomForestClassifier(\n",
    "    n_jobs=-1, \n",
    "    verbose=1,\n",
    "    n_estimators=400,\n",
    "    bootstrap=False, \n",
    "    max_features='sqrt', \n",
    "    criterion='gini')\n",
    "model.fit(x_train, y_train)"
   ]
  },
  {
   "cell_type": "markdown",
   "metadata": {},
   "source": [
    "#### Precision and Accuracy"
   ]
  },
  {
   "cell_type": "code",
   "execution_count": 4,
   "metadata": {},
   "outputs": [
    {
     "name": "stderr",
     "output_type": "stream",
     "text": [
      "[Parallel(n_jobs=12)]: Using backend ThreadingBackend with 12 concurrent workers.\n",
      "[Parallel(n_jobs=12)]: Done  26 tasks      | elapsed:    0.0s\n",
      "[Parallel(n_jobs=12)]: Done 176 tasks      | elapsed:    0.3s\n"
     ]
    },
    {
     "name": "stdout",
     "output_type": "stream",
     "text": [
      "Accuracy: 0.3707\n",
      "Confusion Matrix:\n",
      "[[170.  51.   2.  12.   1.  17.   6.  27.  25.  20.  18.  23.  30.  15.\n",
      "    9.  20.  24.  16.   7.   7.]\n",
      " [ 49. 186.  30.  11.  14.   6.  12.   9.  14.  26.  16.   4.  31.  12.\n",
      "   13.  13.  20.  19.   9.   6.]\n",
      " [  5.  14. 303.  25.  33.   7.  16.  17.  10.   9.   4.   3.   7.   6.\n",
      "   18.   2.   4.   8.   6.   3.]\n",
      " [ 20.  20.  21. 196.  23.  25.  26.  21.  17.  12.  11.  11.  14.  10.\n",
      "   28.   8.  16.  11.   3.   7.]\n",
      " [  1.  11.  84.  10. 225.   5.  21.  31.  26.   4.   4.  10.  16.   5.\n",
      "    8.   5.  10.  14.   3.   7.]\n",
      " [ 31.  15.  20.  44.  18. 147.  25.  12.  20.  13.  19.   5.  20.  10.\n",
      "   24.  16.  20.  14.  16.  11.]\n",
      " [  8.  11.  18.  14.  25.  25. 184.  10.  27.  23.  20.  17.  13.   6.\n",
      "   35.   4.  24.  18.  10.   8.]\n",
      " [ 16.  14.  41.   5.  10.   8.   8. 228.  28.   7.   2.  19.  26.  20.\n",
      "   11.  11.  21.  10.   6.   9.]\n",
      " [ 18.  11.   8.   8.  15.  15.  17.  30. 141.  11.   4.  46.  52.  13.\n",
      "   29.  19.  45.  13.   2.   3.]\n",
      " [ 17.   9.   5.   3.   4.   2.   3.   1.   7. 275.  57.  11.   4.   3.\n",
      "    6.   4.  11.  52.  16.  10.]\n",
      " [ 16.  25.   9.   4.   7.   3.   4.   5.  15.  55. 286.   4.   9.   7.\n",
      "    3.   4.  19.  17.   4.   4.]\n",
      " [ 15.   6.   7.  10.   6.   5.  13.  32.  31.  30.  12. 136.  49.   7.\n",
      "   16.  16.  31.  51.  18.   9.]\n",
      " [ 16.  12.  11.  13.   4.   8.  11.  30.  59.  12.   4.  26. 175.  15.\n",
      "   17.   9.  51.  11.   9.   7.]\n",
      " [ 29.  17.  35.  25.  27.  10.  28.  44.  29.  12.   9.  14.  44.  89.\n",
      "   11.  22.  35.  10.   5.   5.]\n",
      " [  7.  10.  29.  32.  14.  18.  17.  10.  33.  21.   3.  21.  25.  12.\n",
      "  194.   4.  22.  13.   9.   6.]\n",
      " [ 35.  41.   6.  19.   7.  14.  22.  37.  38.  20.   9.  29.  50.  27.\n",
      "   11.  64.  39.  13.  12.   7.]\n",
      " [ 17.  10.  14.  16.   9.   7.  22.  34.  48.   9.  10.  31.  47.  17.\n",
      "   37.  22. 128.  10.   9.   3.]\n",
      " [  9.   4.   8.   6.   4.   8.   7.  13.  11.  24.  13.  11.  12.   5.\n",
      "    4.   2.   7. 341.   6.   5.]\n",
      " [ 16.   9.  14.   6.  11.  18.   7.  15.  22.  84.  13.  17.  29.   4.\n",
      "   23.  11.  11.  50. 112.  28.]\n",
      " [ 19.   8.   4.   9.  15.   7.   9.   8.  17.  68.  28.  23.  34.   5.\n",
      "    5.  10.  13.  49.  42. 127.]]\n"
     ]
    },
    {
     "name": "stderr",
     "output_type": "stream",
     "text": [
      "[Parallel(n_jobs=12)]: Done 400 out of 400 | elapsed:    0.8s finished\n"
     ]
    }
   ],
   "source": [
    "conf_matrix = np.zeros((20, 20))\n",
    "predictions = model.predict(x_test)\n",
    "correct_predictions = 0\n",
    "for index, value in enumerate(predictions):\n",
    "    conf_matrix[y_test[index]][value] += 1\n",
    "    if y_test[index] == value:\n",
    "        correct_predictions += 1\n",
    "        \n",
    "print(\"Accuracy: {}\".format(correct_predictions / float(len(x_test))))\n",
    "print(\"Confusion Matrix:\")\n",
    "print(conf_matrix)"
   ]
  }
 ],
 "metadata": {
  "kernelspec": {
   "display_name": "Python 3",
   "language": "python",
   "name": "python3"
  },
  "language_info": {
   "codemirror_mode": {
    "name": "ipython",
    "version": 3
   },
   "file_extension": ".py",
   "mimetype": "text/x-python",
   "name": "python",
   "nbconvert_exporter": "python",
   "pygments_lexer": "ipython3",
   "version": "3.7.9"
  }
 },
 "nbformat": 4,
 "nbformat_minor": 4
}
