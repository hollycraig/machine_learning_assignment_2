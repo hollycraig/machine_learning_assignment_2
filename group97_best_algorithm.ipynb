{
  "nbformat": 4,
  "nbformat_minor": 0,
  "metadata": {
    "kernelspec": {
      "display_name": "Python 3",
      "language": "python",
      "name": "python3"
    },
    "language_info": {
      "codemirror_mode": {
        "name": "ipython",
        "version": 3
      },
      "file_extension": ".py",
      "mimetype": "text/x-python",
      "name": "python",
      "nbconvert_exporter": "python",
      "pygments_lexer": "ipython3",
      "version": "3.7.9"
    },
    "colab": {
      "name": "group97_best_algorithm.ipynb",
      "provenance": []
    }
  },
  "cells": [
    {
      "cell_type": "markdown",
      "metadata": {
        "id": "PERsMP27LS2_"
      },
      "source": [
        "# COMP5318 - Machine Learning and Data Mining: Assignment 2\n",
        "<div style=\"text-align: right\"> Due: Wed 18 Nov 2020 11:59PM </div>\n",
        "<div style=\"text-align: right\"> Group 97 </div>\n",
        "\n",
        "## Best Algorithm: Random Forest\n",
        "\n",
        "### Preprocessing:\n",
        "- Flatten data\n",
        "\n",
        "### Parameters:\n",
        "- `n_estimators = 400`\n",
        "- `bootstrap = False`\n",
        "- `max_features = 'sqrt'`\n",
        "- `criterion = 'gini'`"
      ]
    },
    {
      "cell_type": "markdown",
      "metadata": {
        "id": "6Jhy63EoLS2_"
      },
      "source": [
        "#### Imports"
      ]
    },
    {
      "cell_type": "code",
      "metadata": {
        "id": "U-3GLaiNLS3A"
      },
      "source": [
        "import tensorflow as tf\n",
        "import numpy as np\n",
        "from sklearn.ensemble import RandomForestClassifier\n",
        "from skimage import exposure\n",
        "from skimage import feature\n",
        "import matplotlib.pyplot as plt\n",
        "from keras.datasets import cifar100"
      ],
      "execution_count": 12,
      "outputs": []
    },
    {
      "cell_type": "markdown",
      "metadata": {
        "id": "usvuJWYVLS3A"
      },
      "source": [
        "#### Helper Methods"
      ]
    },
    {
      "cell_type": "code",
      "metadata": {
        "id": "NrYylldMLS3A"
      },
      "source": [
        "def import_data() -> ((np.ndarray, np.ndarray), (np.ndarray, np.ndarray)):\n",
        "    return cifar100.load_data(label_mode=\"coarse\")\n",
        "\n",
        "def flatten_data(x_train, y_train, x_test, y_test):\n",
        "    new_image_shape = 1\n",
        "    for dim in range(1, len(x_train.shape)):\n",
        "        new_image_shape *= x_train.shape[dim]\n",
        "        \n",
        "    flat_x_train = x_train.reshape((x_train.shape[0], new_image_shape))\n",
        "    flat_y_train = np.ravel(y_train)\n",
        "    \n",
        "    flat_x_test = x_test.reshape((x_test.shape[0], new_image_shape))\n",
        "    flat_y_test = np.ravel(y_test)\n",
        "    return flat_x_train, flat_y_train, flat_x_test, flat_y_test"
      ],
      "execution_count": 13,
      "outputs": []
    },
    {
      "cell_type": "markdown",
      "metadata": {
        "id": "512DFQHkLS3A"
      },
      "source": [
        "#### Running the Model"
      ]
    },
    {
      "cell_type": "code",
      "metadata": {
        "id": "kL27UGyiLS3A"
      },
      "source": [
        "(x_train, y_train), (x_test, y_test) = import_data()\n",
        "x_train, y_train, x_test, y_test = flatten_data(x_train, y_train, x_test, y_test)\n",
        "model = RandomForestClassifier(\n",
        "    n_jobs=-1, \n",
        "    verbose=1,\n",
        "    n_estimators=400,\n",
        "    bootstrap=False, \n",
        "    max_features='sqrt', \n",
        "    criterion='gini')\n",
        "model.fit(x_train, y_train)"
      ],
      "execution_count": null,
      "outputs": []
    },
    {
      "cell_type": "markdown",
      "metadata": {
        "id": "anlXeLGCLS3B"
      },
      "source": [
        "#### Precision and Accuracy"
      ]
    },
    {
      "cell_type": "code",
      "metadata": {
        "id": "TvbxwSe5LS3C",
        "colab": {
          "base_uri": "https://localhost:8080/",
          "height": 0
        },
        "outputId": "0466c48b-0b30-4dc2-8cf4-1d7a333d60a3"
      },
      "source": [
        "conf_matrix = np.zeros((20, 20))\n",
        "predictions = model.predict(x_test)\n",
        "\n",
        "print(predictions.shape)\n",
        "correct_predictions = 0\n",
        "for index, value in enumerate(predictions):\n",
        "    conf_matrix[y_test[index]][value] += 1\n",
        "    if y_test[index] == value:\n",
        "        correct_predictions += 1\n",
        "        \n",
        "print(\"Accuracy: {}\".format(correct_predictions / float(len(x_test))))\n",
        "print(\"Confusion Matrix:\")\n",
        "print(conf_matrix)"
      ],
      "execution_count": 15,
      "outputs": [
        {
          "output_type": "stream",
          "text": [
            "[Parallel(n_jobs=2)]: Using backend ThreadingBackend with 2 concurrent workers.\n",
            "[Parallel(n_jobs=2)]: Done  46 tasks      | elapsed:    1.0s\n",
            "[Parallel(n_jobs=2)]: Done 196 tasks      | elapsed:    2.4s\n"
          ],
          "name": "stderr"
        },
        {
          "output_type": "stream",
          "text": [
            "(10000,)\n",
            "Accuracy: 0.3695\n",
            "Confusion Matrix:\n",
            "[[166.  52.   2.  11.   1.  16.   6.  27.  25.  23.  21.  24.  35.  18.\n",
            "    6.  16.  20.  16.   6.   9.]\n",
            " [ 47. 180.  33.   8.  16.   7.  11.  12.  16.  27.  18.   9.  32.  17.\n",
            "   14.  11.  17.  18.   2.   5.]\n",
            " [  3.  13. 306.  22.  32.   7.  18.  16.  13.   9.   5.   6.   6.   7.\n",
            "   20.   2.   1.   9.   2.   3.]\n",
            " [ 13.  16.  17. 208.  19.  29.  23.  18.  19.  12.  14.  14.  20.   8.\n",
            "   24.  10.  15.   8.   5.   8.]\n",
            " [  3.   9.  93.  10. 220.   8.  17.  28.  26.   6.   4.   8.  19.   5.\n",
            "   10.   3.   8.  12.   8.   3.]\n",
            " [ 25.  19.  22.  45.  17. 150.  31.  14.  13.  17.  21.   9.  15.  11.\n",
            "   20.  17.  22.  15.   6.  11.]\n",
            " [  7.   6.  18.  16.  24.  20. 182.  14.  30.  20.  22.  20.  19.  12.\n",
            "   26.   9.  20.  17.  13.   5.]\n",
            " [ 17.  10.  36.   6.  11.   6.  11. 225.  32.   8.   4.  25.  25.  14.\n",
            "    9.  11.  24.  10.   7.   9.]\n",
            " [ 20.  11.  10.  11.  10.  10.  16.  34. 137.  10.   5.  46.  62.  11.\n",
            "   30.  18.  39.  14.   2.   4.]\n",
            " [ 13.  11.   5.   5.   4.   2.   4.   1.   5. 280.  59.   6.   6.   3.\n",
            "    6.   5.  10.  49.  16.  10.]\n",
            " [ 16.  20.   5.   5.  11.   3.   5.   7.  11.  58. 280.   7.   9.   6.\n",
            "    3.   8.  16.  19.   6.   5.]\n",
            " [ 13.   7.   7.   6.   7.   9.  22.  33.  29.  30.   8. 135.  46.   6.\n",
            "   16.  13.  31.  52.  17.  13.]\n",
            " [ 17.   9.  12.  14.   6.   8.  10.  26.  57.  12.   3.  32. 164.  11.\n",
            "   24.  18.  54.   8.  10.   5.]\n",
            " [ 18.  14.  33.  24.  24.  11.  30.  53.  39.  12.   6.  13.  46.  89.\n",
            "   13.  16.  36.  10.   8.   5.]\n",
            " [ 11.   6.  32.  33.  21.  16.  23.  10.  35.  18.   5.  22.  15.  14.\n",
            "  183.   3.  27.  13.   6.   7.]\n",
            " [ 36.  40.   7.  18.   8.  10.  25.  37.  39.  17.  10.  26.  49.  23.\n",
            "   12.  77.  37.  10.   9.  10.]\n",
            " [ 20.   7.  12.  14.   8.  11.  25.  34.  56.  10.   7.  25.  43.  16.\n",
            "   30.  30. 128.  15.   5.   4.]\n",
            " [ 11.   7.   8.   8.   3.   7.   8.  11.   8.  23.  15.   9.   6.   5.\n",
            "    5.   3.   9. 343.   4.   7.]\n",
            " [ 16.   9.  13.   5.  12.  21.  10.  13.  18.  84.  12.  23.  30.   6.\n",
            "   21.  11.  10.  53. 109.  24.]\n",
            " [ 20.   8.   7.   9.   6.   9.  11.   7.  16.  73.  26.  22.  37.   6.\n",
            "    7.  11.  15.  40.  37. 133.]]\n"
          ],
          "name": "stdout"
        },
        {
          "output_type": "stream",
          "text": [
            "[Parallel(n_jobs=2)]: Done 400 out of 400 | elapsed:    4.1s finished\n"
          ],
          "name": "stderr"
        }
      ]
    },
    {
      "cell_type": "markdown",
      "metadata": {
        "id": "Vq_WaRbkVCSs"
      },
      "source": [
        "###Precision and Recall"
      ]
    },
    {
      "cell_type": "code",
      "metadata": {
        "colab": {
          "base_uri": "https://localhost:8080/",
          "height": 0
        },
        "id": "bBjKLLVDVEgT",
        "outputId": "205900ec-7cbf-4af0-85d3-8d1aa41b5970"
      },
      "source": [
        "false_positive = conf_matrix.sum(axis=0) - np.diag(conf_matrix)  \n",
        "false_negative = conf_matrix.sum(axis=1) - np.diag(conf_matrix)\n",
        "true_positive = np.diag(conf_matrix)\n",
        "true_negative = conf_matrix.sum() - (false_positive + false_negative + true_positive)\n",
        "\n",
        "# recall\n",
        "recall = true_positive/(true_positive+false_negative)\n",
        "\n",
        "# precision\n",
        "precision = true_positive/(true_positive+false_positive)\n",
        "\n",
        "\n",
        "print(recall)\n",
        "print(precision)\n"
      ],
      "execution_count": 19,
      "outputs": [
        {
          "output_type": "stream",
          "text": [
            "[0.332 0.36  0.612 0.416 0.44  0.3   0.364 0.45  0.274 0.56  0.56  0.27\n",
            " 0.328 0.178 0.366 0.154 0.256 0.686 0.218 0.266]\n",
            "[0.33739837 0.39647577 0.45132743 0.43514644 0.47826087 0.41666667\n",
            " 0.37295082 0.36290323 0.21955128 0.37383178 0.51376147 0.28066528\n",
            " 0.23976608 0.30902778 0.38204593 0.26369863 0.23747681 0.46922025\n",
            " 0.39208633 0.475     ]\n"
          ],
          "name": "stdout"
        }
      ]
    }
  ]
}