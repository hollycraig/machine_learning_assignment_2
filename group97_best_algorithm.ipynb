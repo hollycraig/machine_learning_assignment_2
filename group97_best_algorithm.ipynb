{
 "cells": [
  {
   "cell_type": "markdown",
   "metadata": {},
   "source": [
    "# COMP5318 - Machine Learning and Data Mining: Assignment 2\n",
    "<div style=\"text-align: right\"> Due: Wed 18 Nov 2020 11:59PM </div>\n",
    "<div style=\"text-align: right\"> Group 97 </div>\n",
    "\n",
    "## Best Algorithm: Random Forest\n",
    "\n",
    "### Preprocessing:\n",
    "- Flatten data\n",
    "\n",
    "### Parameters:\n",
    "- `n_estimators = 400`\n",
    "- `bootstrap = False`\n",
    "- `max_features = 'sqrt'`\n",
    "- `criterion = 'gini'`"
   ]
  },
  {
   "cell_type": "markdown",
   "metadata": {},
   "source": [
    "#### Imports"
   ]
  },
  {
   "cell_type": "code",
   "execution_count": 23,
   "metadata": {},
   "outputs": [],
   "source": [
    "import tensorflow as tf\n",
    "import numpy as np\n",
    "from sklearn.ensemble import RandomForestClassifier\n",
    "from skimage import exposure\n",
    "from skimage import feature\n",
    "import matplotlib.pyplot as plt"
   ]
  },
  {
   "cell_type": "markdown",
   "metadata": {},
   "source": [
    "#### Helper Methods"
   ]
  },
  {
   "cell_type": "code",
   "execution_count": 24,
   "metadata": {},
   "outputs": [],
   "source": [
    "def import_data() -> ((np.ndarray, np.ndarray), (np.ndarray, np.ndarray)):\n",
    "    return tf.keras.datasets.cifar100.load_data(label_mode=\"coarse\")\n",
    "\n",
    "def flatten_data(x_train, y_train, x_test, y_test):\n",
    "    new_image_shape = 1\n",
    "    for dim in range(1, len(x_train.shape)):\n",
    "        new_image_shape *= x_train.shape[dim]\n",
    "        \n",
    "    flat_x_train = x_train.reshape((x_train.shape[0], new_image_shape))\n",
    "    flat_y_train = np.ravel(y_train)\n",
    "    \n",
    "    flat_x_test = x_test.reshape((x_test.shape[0], new_image_shape))\n",
    "    flat_y_test = np.ravel(y_test)\n",
    "    return flat_x_train, flat_y_train, flat_x_test, flat_y_test"
   ]
  },
  {
   "cell_type": "markdown",
   "metadata": {},
   "source": [
    "#### Running the Model"
   ]
  },
  {
   "cell_type": "code",
   "execution_count": 25,
   "metadata": {},
   "outputs": [
    {
     "name": "stderr",
     "output_type": "stream",
     "text": [
      "[Parallel(n_jobs=-1)]: Using backend ThreadingBackend with 12 concurrent workers.\n",
      "[Parallel(n_jobs=-1)]: Done  26 tasks      | elapsed:   14.7s\n",
      "[Parallel(n_jobs=-1)]: Done 176 tasks      | elapsed:  1.3min\n",
      "[Parallel(n_jobs=-1)]: Done 400 out of 400 | elapsed:  3.0min finished\n"
     ]
    },
    {
     "data": {
      "text/plain": [
       "RandomForestClassifier(bootstrap=False, max_features='sqrt', n_estimators=400,\n",
       "                       n_jobs=-1, verbose=1)"
      ]
     },
     "execution_count": 25,
     "metadata": {},
     "output_type": "execute_result"
    }
   ],
   "source": [
    "(x_train, y_train), (x_test, y_test) = import_data()\n",
    "x_train, y_train, x_test, y_test = flatten_data(x_train, y_train, x_test, y_test)\n",
    "model = RandomForestClassifier(\n",
    "    n_jobs=-1, \n",
    "    verbose=1,\n",
    "    n_estimators=400,\n",
    "    bootstrap=False, \n",
    "    max_features='sqrt', \n",
    "    criterion='gini')\n",
    "model.fit(x_train, y_train)"
   ]
  },
  {
   "cell_type": "markdown",
   "metadata": {},
   "source": [
    "#### Precision and Accuracy"
   ]
  },
  {
   "cell_type": "code",
   "execution_count": 26,
   "metadata": {},
   "outputs": [
    {
     "name": "stderr",
     "output_type": "stream",
     "text": [
      "[Parallel(n_jobs=12)]: Using backend ThreadingBackend with 12 concurrent workers.\n",
      "[Parallel(n_jobs=12)]: Done  26 tasks      | elapsed:    0.0s\n",
      "[Parallel(n_jobs=12)]: Done 176 tasks      | elapsed:    0.4s\n"
     ]
    },
    {
     "name": "stdout",
     "output_type": "stream",
     "text": [
      "Accuracy: 0.3683\n",
      "Confusion Matrix:\n",
      "[[175.  50.   1.   9.   2.  13.   7.  30.  25.  22.  19.  21.  28.  13.\n",
      "    7.  20.  28.  16.   6.   8.]\n",
      " [ 50. 186.  32.  10.  17.   7.  13.  10.  13.  23.  18.   8.  30.  14.\n",
      "   12.  12.  16.  19.   6.   4.]\n",
      " [  4.  11. 303.  22.  32.   8.  14.  17.  14.   8.   5.   5.   6.   7.\n",
      "   22.   2.   2.   9.   7.   2.]\n",
      " [ 15.  14.  22. 189.  25.  29.  22.  16.  14.  13.  15.  19.  15.   8.\n",
      "   32.  13.  18.   9.   3.   9.]\n",
      " [  1.   9.  87.   9. 221.   5.  20.  34.  22.   5.   1.  12.  19.   6.\n",
      "   14.   7.   7.   9.   7.   5.]\n",
      " [ 24.  14.  22.  48.  17. 149.  25.  10.  20.  18.  18.  13.  22.  11.\n",
      "   20.  19.  15.  15.  10.  10.]\n",
      " [ 11.   7.  18.  12.  24.  24. 186.  12.  33.  24.  18.  15.  14.  11.\n",
      "   26.   7.  25.  14.  14.   5.]\n",
      " [ 17.  11.  40.   6.  10.   7.   7. 228.  33.   6.   6.  19.  28.  15.\n",
      "    6.   9.  24.  10.   6.  12.]\n",
      " [ 15.  13.   6.   6.  12.  10.  18.  36. 136.  11.   7.  50.  57.  17.\n",
      "   24.  18.  38.  17.   5.   4.]\n",
      " [ 16.  12.   4.   3.   3.   4.   4.   2.   6. 277.  63.   7.   7.   5.\n",
      "    7.   5.   9.  45.  12.   9.]\n",
      " [ 17.  24.   8.   8.   6.   2.   5.   6.  12.  57. 281.   4.  11.   4.\n",
      "    2.   5.  19.  19.   5.   5.]\n",
      " [ 19.   5.   8.   7.   7.   7.  10.  26.  38.  31.  10. 128.  49.   6.\n",
      "   17.  16.  36.  52.  16.  12.]\n",
      " [ 17.   9.  12.  11.   4.   7.  12.  27.  49.  12.   2.  26. 169.  18.\n",
      "   21.  15.  60.  10.  13.   6.]\n",
      " [ 26.  14.  32.  22.  25.  14.  26.  50.  34.  10.  11.  18.  39.  87.\n",
      "   18.  20.  33.   9.   7.   5.]\n",
      " [  8.   5.  34.  39.  19.  12.  24.  16.  38.  21.   4.  14.  23.  12.\n",
      "  183.   6.  19.  11.   8.   4.]\n",
      " [ 41.  31.   5.  24.  11.  15.  21.  36.  41.  17.   9.  25.  49.  26.\n",
      "   14.  69.  40.   9.   8.   9.]\n",
      " [ 21.  11.  12.  14.   9.  10.  21.  35.  63.  11.   7.  29.  44.  13.\n",
      "   32.  21. 122.  12.   7.   6.]\n",
      " [ 10.   5.   5.   7.   5.   6.   8.  14.   9.  23.  16.  12.   9.   6.\n",
      "    5.   0.   7. 341.   5.   7.]\n",
      " [  9.   7.  15.   6.  11.  19.  11.  11.  18.  80.  15.  16.  39.   5.\n",
      "   16.  14.  18.  55. 118.  17.]\n",
      " [ 21.  10.   4.   7.  10.   9.   8.   5.  17.  69.  25.  21.  36.   4.\n",
      "   10.   7.  21.  40.  41. 135.]]\n"
     ]
    },
    {
     "name": "stderr",
     "output_type": "stream",
     "text": [
      "[Parallel(n_jobs=12)]: Done 400 out of 400 | elapsed:    1.0s finished\n"
     ]
    }
   ],
   "source": [
    "conf_matrix = np.zeros((20, 20))\n",
    "predictions = model.predict(x_test)\n",
    "correct_predictions = 0\n",
    "for index, value in enumerate(predictions):\n",
    "    conf_matrix[y_test[index]][value] += 1\n",
    "    if y_test[index] == value:\n",
    "        correct_predictions += 1\n",
    "        \n",
    "print(\"Accuracy: {}\".format(correct_predictions / float(len(x_test))))\n",
    "print(\"Confusion Matrix:\")\n",
    "print(conf_matrix)"
   ]
  }
 ],
 "metadata": {
  "kernelspec": {
   "display_name": "Python 3",
   "language": "python",
   "name": "python3"
  },
  "language_info": {
   "codemirror_mode": {
    "name": "ipython",
    "version": 3
   },
   "file_extension": ".py",
   "mimetype": "text/x-python",
   "name": "python",
   "nbconvert_exporter": "python",
   "pygments_lexer": "ipython3",
   "version": "3.7.9"
  }
 },
 "nbformat": 4,
 "nbformat_minor": 4
}
