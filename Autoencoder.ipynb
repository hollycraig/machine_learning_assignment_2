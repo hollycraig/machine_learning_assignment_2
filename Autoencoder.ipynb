{
  "nbformat": 4,
  "nbformat_minor": 0,
  "metadata": {
    "colab": {
      "name": "Autoencoder.ipynb",
      "provenance": [],
      "collapsed_sections": []
    },
    "kernelspec": {
      "name": "python3",
      "display_name": "Python 3"
    }
  },
  "cells": [
    {
      "cell_type": "markdown",
      "metadata": {
        "id": "m60acqkL1Tdo"
      },
      "source": [
        "**Feature Extraction with Autoencoders**"
      ]
    },
    {
      "cell_type": "code",
      "metadata": {
        "id": "QBm429cK1O1C"
      },
      "source": [
        "def autoencoder(training_data, testing_data):\n",
        "\n",
        "  from keras import layers\n",
        "\n",
        "  dimension = 32 \n",
        "  input_image = keras.Input(shape=(26,)) #3072\n",
        "\n",
        "  encoded = layers.Dense(dimension, activation='relu')(input_image)\n",
        "  decoded = layers.Dense(26, activation='sigmoid')(encoded)\n",
        "\n",
        "  autoencoder = keras.Model(input_image, decoded)\n",
        "  encoder = keras.Model(input_image, encoded)\n",
        "  input_encode = keras.Input(shape=(dimension,))\n",
        "  layers = autoencoder.layers[-1]\n",
        "\n",
        "  decoder = keras.Model(input_encode, layers(input_encode))\n",
        "  autoencoder.compile(optimizer='adam', loss='binary_crossentropy')\n",
        "\n",
        "  autoencoder.fit(training_data, training_data,\n",
        "                  epochs=50,\n",
        "                  batch_size=256,\n",
        "                  shuffle=True,\n",
        "                  validation_data=(testing_data, testing_data))\n",
        "\n",
        "  test_encoded = encoder.predict(testing_data)\n",
        "  train_encoded = encoder.predict(training_data)\n",
        "  decoded_test = decoder.predict(test_encoded)\n",
        "  decoded_train= decoder.predict(train_encoded)\n",
        "\n",
        "  return decoded_train, decoded_test"
      ],
      "execution_count": null,
      "outputs": []
    }
  ]
}