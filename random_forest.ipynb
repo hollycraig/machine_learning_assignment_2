{
 "cells": [
  {
   "cell_type": "code",
   "execution_count": 425,
   "metadata": {},
   "outputs": [],
   "source": [
    "import tensorflow as tf\n",
    "import numpy as np\n",
    "import matplotlib.pyplot as plt\n",
    "import cv2\n",
    "from skimage import exposure\n",
    "\n",
    "def import_data() -> ((np.ndarray, np.ndarray), (np.ndarray, np.ndarray)):\n",
    "    return tf.keras.datasets.cifar100.load_data(label_mode=\"coarse\")"
   ]
  },
  {
   "cell_type": "code",
   "execution_count": 426,
   "metadata": {},
   "outputs": [],
   "source": [
    "(x_train, y_train), (x_test, y_test) = import_data()"
   ]
  },
  {
   "cell_type": "markdown",
   "metadata": {},
   "source": [
    "#### Converting Images to Grayscale"
   ]
  },
  {
   "cell_type": "code",
   "execution_count": 427,
   "metadata": {},
   "outputs": [],
   "source": [
    "def convert_to_grayscale(train, test):\n",
    "    rgb_weights = [0.2989, 0.5870, 0.1140]\n",
    "    gray_train = np.dot(train[:][...,:3], rgb_weights)\n",
    "    gray_test = np.dot(test[:][...,:3], rgb_weights)\n",
    "    return gray_train, gray_test"
   ]
  },
  {
   "cell_type": "code",
   "execution_count": 428,
   "metadata": {},
   "outputs": [],
   "source": [
    "# x_train, x_test = convert_to_grayscale(x_train, x_test)"
   ]
  },
  {
   "cell_type": "markdown",
   "metadata": {},
   "source": [
    "#### Increasing Constrast"
   ]
  },
  {
   "cell_type": "code",
   "execution_count": 429,
   "metadata": {},
   "outputs": [],
   "source": [
    "def increase_image_contrast(image, strength):\n",
    "    p_low, p_high = np.percentile(image, (strength, 100 - strength))\n",
    "    return (exposure.rescale_intensity(image, in_range=(p_low, p_high)))\n",
    "\n",
    "def increase_all_contrast(train, test, strength):\n",
    "    new_train = np.zeros(train.shape)\n",
    "    new_test = np.zeros(test.shape)\n",
    "    for i in range(len(train)):\n",
    "        new_train[i] = increase_image_contrast(train[i], strength)\n",
    "    for i in range(len(test)):\n",
    "        new_test[i] = increase_image_contrast(test[i], strength)\n",
    "    return new_train, new_test"
   ]
  },
  {
   "cell_type": "code",
   "execution_count": null,
   "metadata": {},
   "outputs": [],
   "source": [
    "x_train, x_test = increase_all_contrast(x_train, x_test, 20)\n",
    "print(x_train[0])"
   ]
  },
  {
   "cell_type": "markdown",
   "metadata": {},
   "source": [
    "#### Image Equalization"
   ]
  },
  {
   "cell_type": "code",
   "execution_count": null,
   "metadata": {},
   "outputs": [],
   "source": [
    "def equalize_hist(image):\n",
    "    return (exposure.equalize_hist(image.astype(np.int32))).astype(np.int32)\n",
    "\n",
    "def equalize_hist_all(train, test):\n",
    "    new_train = np.zeros(len(train))\n",
    "    new_test = np.zeros(len(test))\n",
    "    for i in range(len(train)):\n",
    "        new_train[i] = equalize_hist(train[i])\n",
    "    for i in range(len(test)):\n",
    "        new_test[i] = equalize_hist(test[i])\n",
    "    return new_train, new_test"
   ]
  },
  {
   "cell_type": "code",
   "execution_count": null,
   "metadata": {},
   "outputs": [],
   "source": [
    "# x_train, x_test = equalize_hist_all(x_train, x_test)"
   ]
  },
  {
   "cell_type": "code",
   "execution_count": null,
   "metadata": {},
   "outputs": [],
   "source": [
    "def equalize_adapthist(image, clip_lim):\n",
    "    return (exposure.equalize_adapthist(image.astype(np.int32), clip_limit=clip_lim))\n",
    "\n",
    "def equalize_adapthist_all(train, test, clip_limit):\n",
    "    new_train = np.zeros(len(train))\n",
    "    new_test = np.zeros(len(test))\n",
    "    for i in range(len(train)):\n",
    "        new_train[i] = equalize_adapthist(train[i], clip_limit)\n",
    "    for i in range(len(test)):\n",
    "        new_test[i] = equalize_adapthist(test[i], clip_limit)\n",
    "    return new_train, new_test"
   ]
  },
  {
   "cell_type": "code",
   "execution_count": null,
   "metadata": {},
   "outputs": [],
   "source": [
    "# x_train, x_test = equalize_adapthist_all(x_train, x_test, 0.03)"
   ]
  },
  {
   "cell_type": "code",
   "execution_count": null,
   "metadata": {},
   "outputs": [],
   "source": [
    "img_rescale = increase_image_contrast(x_train[0], 20)\n",
    "print(img_rescale)\n",
    "hist_eq_image = equalize_hist(x_train[0])\n",
    "img_adapteq = equalize_adapthist(x_train[0], 0.02)"
   ]
  },
  {
   "cell_type": "code",
   "execution_count": 380,
   "metadata": {},
   "outputs": [
    {
     "name": "stderr",
     "output_type": "stream",
     "text": [
      "Clipping input data to the valid range for imshow with RGB data ([0..1] for floats or [0..255] for integers).\n"
     ]
    },
    {
     "data": {
      "image/png": "[encoded data removed]",
      "text/plain": [
       "<Figure size 576x576 with 4 Axes>"
      ]
     },
     "metadata": {
      "needs_background": "light"
     },
     "output_type": "display_data"
    }
   ],
   "source": [
    "w=10\n",
    "h=10\n",
    "fig=plt.figure(figsize=(8, 8))\n",
    "columns = 2 \n",
    "rows = 2\n",
    "images = [x_train[0], img_rescale, hist_eq_image, img_adapteq]\n",
    "for i in range(1, columns*rows +1):\n",
    "    img = np.random.randint(10, size=(h,w))\n",
    "    fig.add_subplot(rows, columns, i)\n",
    "    plt.imshow(images[i - 1])\n",
    "plt.show()"
   ]
  },
  {
   "cell_type": "markdown",
   "metadata": {},
   "source": [
    "#### Flattening the Images"
   ]
  },
  {
   "cell_type": "code",
   "execution_count": null,
   "metadata": {},
   "outputs": [],
   "source": [
    "def flatten_data(x_train, y_train, x_test, y_test):\n",
    "    new_image_shape = 1\n",
    "    for dim in range(1, len(x_train.shape)):\n",
    "        new_image_shape *= x_train.shape[dim]\n",
    "        \n",
    "    flat_x_train = x_train.reshape((x_train.shape[0], new_image_shape))\n",
    "    flat_y_train = np.ravel(y_train)\n",
    "    \n",
    "    flat_x_test = x_test.reshape((x_test.shape[0], new_image_shape))\n",
    "    flat_y_test = np.ravel(y_test)\n",
    "    return flat_x_train, flat_y_train, flat_x_test, flat_y_test"
   ]
  },
  {
   "cell_type": "code",
   "execution_count": null,
   "metadata": {},
   "outputs": [],
   "source": [
    "x_train, y_train, x_test, y_test = flatten_data(x_train, y_train, x_test, y_test)"
   ]
  },
  {
   "cell_type": "code",
   "execution_count": null,
   "metadata": {},
   "outputs": [],
   "source": [
    "from sklearn.ensemble import RandomForestClassifier\n",
    "\n",
    "model = RandomForestClassifier(n_jobs=-1, verbose=1, bootstrap=False, max_features='log2')\n",
    "model.fit(x_train, y_train)"
   ]
  },
  {
   "cell_type": "code",
   "execution_count": null,
   "metadata": {},
   "outputs": [],
   "source": [
    "model.score(x_test, y_test)"
   ]
  },
  {
   "cell_type": "code",
   "execution_count": null,
   "metadata": {},
   "outputs": [],
   "source": []
  }
 ],
 "metadata": {
  "kernelspec": {
   "display_name": "Python 3",
   "language": "python",
   "name": "python3"
  },
  "language_info": {
   "codemirror_mode": {
    "name": "ipython",
    "version": 3
   },
   "file_extension": ".py",
   "mimetype": "text/x-python",
   "name": "python",
   "nbconvert_exporter": "python",
   "pygments_lexer": "ipython3",
   "version": "3.7.9"
  }
 },
 "nbformat": 4,
 "nbformat_minor": 2
}
