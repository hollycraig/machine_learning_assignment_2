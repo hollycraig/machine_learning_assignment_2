{
 "cells": [
  {
   "cell_type": "code",
   "execution_count": 16,
   "metadata": {},
   "outputs": [],
   "source": [
    "import tensorflow as tf\n",
    "import numpy as np\n",
    "from sklearn.ensemble import RandomForestClassifier\n",
    "from skimage import exposure\n",
    "from skimage import feature\n",
    "import matplotlib.pyplot as plt\n",
    "\n",
    "def import_data() -> ((np.ndarray, np.ndarray), (np.ndarray, np.ndarray)):\n",
    "    return tf.keras.datasets.cifar100.load_data(label_mode=\"coarse\")"
   ]
  },
  {
   "cell_type": "code",
   "execution_count": 17,
   "metadata": {},
   "outputs": [],
   "source": [
    "(x_train, y_train), (x_test, y_test) = import_data()\n",
    "og_image = np.copy(x_train[0])"
   ]
  },
  {
   "cell_type": "markdown",
   "metadata": {},
   "source": [
    "#### Converting Images to Grayscale"
   ]
  },
  {
   "cell_type": "code",
   "execution_count": 18,
   "metadata": {},
   "outputs": [],
   "source": [
    "def convert_to_grayscale(train, test):\n",
    "    rgb_weights = [0.2989, 0.5870, 0.1140]\n",
    "    gray_train = np.dot(train[:][...,:3], rgb_weights)\n",
    "    gray_test = np.dot(test[:][...,:3], rgb_weights)\n",
    "    return gray_train.astype(int), gray_test.astype(int)"
   ]
  },
  {
   "cell_type": "markdown",
   "metadata": {},
   "source": [
    "#### Increasing Constrast"
   ]
  },
  {
   "cell_type": "code",
   "execution_count": 19,
   "metadata": {},
   "outputs": [],
   "source": [
    "def increase_image_contrast(image, strength):\n",
    "    p_low, p_high = np.percentile(image, (strength, 100 - strength))\n",
    "    return (exposure.rescale_intensity(image, in_range=(p_low, p_high))).astype(int)\n",
    "\n",
    "def increase_all_contrast(train, test, strength=10):\n",
    "    new_train = np.copy(train)\n",
    "    new_test = np.copy(test)\n",
    "    for i in range(len(train)):\n",
    "        new_train[i] = increase_image_contrast(train[i], strength)\n",
    "    for i in range(len(test)):\n",
    "        new_test[i] = increase_image_contrast(test[i], strength)\n",
    "    return new_train, new_test"
   ]
  },
  {
   "cell_type": "markdown",
   "metadata": {},
   "source": [
    "#### Image Equalization"
   ]
  },
  {
   "cell_type": "code",
   "execution_count": 20,
   "metadata": {},
   "outputs": [],
   "source": [
    "def equalize_hist(image):\n",
    "    return (exposure.equalize_hist(image) * 255).astype(int)\n",
    "\n",
    "def equalize_hist_all(train, test):\n",
    "    new_train = np.copy(train)\n",
    "    new_test = np.copy(test)\n",
    "    for i in range(len(train)):\n",
    "        new_train[i] = equalize_hist(train[i])\n",
    "    for i in range(len(test)):\n",
    "        new_test[i] = equalize_hist(test[i])\n",
    "    return new_train, new_test"
   ]
  },
  {
   "cell_type": "code",
   "execution_count": 21,
   "metadata": {},
   "outputs": [],
   "source": [
    "def equalize_adapthist(image, clip_lim):\n",
    "    return (exposure.equalize_adapthist(image, clip_limit=clip_lim) * 255).astype(int)\n",
    "\n",
    "def equalize_adapthist_all(train, test, clip_limit=0.03):\n",
    "    new_train = np.copy(train)\n",
    "    new_test = np.copy(test)\n",
    "    for i in range(len(train)):\n",
    "        new_train[i] = equalize_adapthist(train[i], clip_limit)\n",
    "    for i in range(len(test)):\n",
    "        new_test[i] = equalize_adapthist(test[i], clip_limit)\n",
    "    return new_train, new_test"
   ]
  },
  {
   "cell_type": "code",
   "execution_count": 22,
   "metadata": {},
   "outputs": [
    {
     "name": "stderr",
     "output_type": "stream",
     "text": [
      "C:\\tools\\Anaconda3\\envs\\tf-gpu\\lib\\site-packages\\skimage\\exposure\\exposure.py:181: UserWarning: This might be a color image. The histogram will be computed on the flattened image. You can instead apply this function to each color channel.\n",
      "  hist, bin_centers = histogram(image, nbins)\n"
     ]
    }
   ],
   "source": [
    "img_rescale = increase_image_contrast(og_image, 20)\n",
    "hist_eq_image = equalize_hist(og_image)\n",
    "img_adapteq = equalize_adapthist(og_image, 0.02)"
   ]
  },
  {
   "cell_type": "code",
   "execution_count": 23,
   "metadata": {},
   "outputs": [
    {
     "data": {
      "image/png": "[encoded data removed]",
      "text/plain": [
       "<Figure size 576x576 with 4 Axes>"
      ]
     },
     "metadata": {
      "needs_background": "light"
     },
     "output_type": "display_data"
    }
   ],
   "source": [
    "w=10\n",
    "h=10\n",
    "fig=plt.figure(figsize=(8, 8))\n",
    "columns = 2 \n",
    "rows = 2\n",
    "images = [og_image, img_rescale, hist_eq_image, img_adapteq]\n",
    "for i in range(1, columns*rows +1):\n",
    "    img = np.random.randint(10, size=(h,w))\n",
    "    fig.add_subplot(rows, columns, i)\n",
    "    plt.imshow(images[i - 1])\n",
    "plt.show()"
   ]
  },
  {
   "cell_type": "markdown",
   "metadata": {},
   "source": [
    "#### Edge Detection"
   ]
  },
  {
   "cell_type": "code",
   "execution_count": 24,
   "metadata": {},
   "outputs": [],
   "source": [
    "def canny_edge_filter_all(train, test, sig=1):\n",
    "    if (len(train.shape) > 3):\n",
    "        train, test = convert_to_grayscale(train, test)\n",
    "    new_train = np.copy(train)\n",
    "    new_test = np.copy(test)\n",
    "    for i in range(len(train)):\n",
    "        new_train[i] = feature.canny(train[i].astype(float), sigma=sig)\n",
    "    for i in range(len(test)):\n",
    "        new_test[i] = feature.canny(test[i].astype(float), sigma=sig)\n",
    "    return new_train, new_test"
   ]
  },
  {
   "cell_type": "markdown",
   "metadata": {},
   "source": [
    "#### Centering & PCA"
   ]
  },
  {
   "cell_type": "code",
   "execution_count": 25,
   "metadata": {},
   "outputs": [],
   "source": [
    "def centre_data(train, test):\n",
    "    column_means = np.mean(train, axis=0)\n",
    "    \n",
    "    for i in range(len(train)):\n",
    "        train[i] = train[i] - column_means\n",
    "    for x in range(len(test)):\n",
    "        test[x] = test[x] - column_means\n",
    "        \n",
    "    return train, test"
   ]
  },
  {
   "cell_type": "code",
   "execution_count": 26,
   "metadata": {},
   "outputs": [],
   "source": [
    "def pca(training_data, testing_data, variance_target=0.8):\n",
    "    U, sigma, Vt = np.linalg.svd(training_data, full_matrices=False)\n",
    "    sum_square_singular = np.sum(sigma**2)\n",
    "    \n",
    "    ratios = sigma**2/sum_square_singular       \n",
    "    n_components = 0\n",
    "    explained_variance = 0\n",
    "    \n",
    "    for i in range(len(ratios)):\n",
    "        if explained_variance >= variance_target:\n",
    "            break\n",
    "        else: \n",
    "            n_components += 1\n",
    "            explained_variance += ratios[i]\n",
    "    \n",
    "    return training_data.dot(Vt.T[:, :n_components]), testing_data.dot(Vt.T[:, :n_components])"
   ]
  },
  {
   "cell_type": "markdown",
   "metadata": {},
   "source": [
    "#### Flattening the Images"
   ]
  },
  {
   "cell_type": "code",
   "execution_count": 27,
   "metadata": {},
   "outputs": [],
   "source": [
    "def flatten_data(x_train, y_train, x_test, y_test):\n",
    "    new_image_shape = 1\n",
    "    for dim in range(1, len(x_train.shape)):\n",
    "        new_image_shape *= x_train.shape[dim]\n",
    "        \n",
    "    flat_x_train = x_train.reshape((x_train.shape[0], new_image_shape))\n",
    "    flat_y_train = np.ravel(y_train)\n",
    "    \n",
    "    flat_x_test = x_test.reshape((x_test.shape[0], new_image_shape))\n",
    "    flat_y_test = np.ravel(y_test)\n",
    "    return flat_x_train, flat_y_train, flat_x_test, flat_y_test"
   ]
  },
  {
   "cell_type": "markdown",
   "metadata": {},
   "source": [
    "### Training and Testing Model"
   ]
  },
  {
   "cell_type": "code",
   "execution_count": 28,
   "metadata": {},
   "outputs": [],
   "source": [
    "(x_train, y_train), (x_test, y_test) = import_data()\n",
    "\n",
    "# x_train, x_test = convert_to_grayscale(x_train, x_test)\n",
    "\n",
    "# x_train, x_test = increase_all_contrast(x_train, x_test, 10)\n",
    "\n",
    "# x_train, x_test = equalize_hist_all(x_train, x_test)\n",
    "\n",
    "# x_train, x_test = equalize_adapthist_all(x_train, x_test, 0.03)\n",
    "\n",
    "# x_train, x_test = canny_edge_filter_all(x_train, x_test, 0)\n",
    "\n",
    "x_train, y_train, x_test, y_test = flatten_data(x_train, y_train, x_test, y_test)\n",
    "\n",
    "# x_train, x_test = centre_data(x_train, x_test)\n",
    "\n",
    "# x_train, x_test = pca(x_train, x_test, 0.8)"
   ]
  },
  {
   "cell_type": "code",
   "execution_count": 29,
   "metadata": {},
   "outputs": [
    {
     "name": "stderr",
     "output_type": "stream",
     "text": [
      "[Parallel(n_jobs=-1)]: Using backend ThreadingBackend with 12 concurrent workers.\n",
      "[Parallel(n_jobs=-1)]: Done  26 tasks      | elapsed:    3.2s\n",
      "[Parallel(n_jobs=-1)]: Done 100 out of 100 | elapsed:    9.4s finished\n"
     ]
    },
    {
     "data": {
      "text/plain": [
       "RandomForestClassifier(bootstrap=False, max_features='log2', n_jobs=-1,\n",
       "                       verbose=1)"
      ]
     },
     "execution_count": 29,
     "metadata": {},
     "output_type": "execute_result"
    }
   ],
   "source": [
    "model = RandomForestClassifier(\n",
    "    n_jobs=-1, \n",
    "    verbose=1,\n",
    "    n_estimators=100,\n",
    "    bootstrap=False, \n",
    "    max_features='log2', \n",
    "    criterion='gini')\n",
    "model.fit(x_train, y_train)"
   ]
  },
  {
   "cell_type": "code",
   "execution_count": 30,
   "metadata": {},
   "outputs": [
    {
     "name": "stderr",
     "output_type": "stream",
     "text": [
      "[Parallel(n_jobs=12)]: Using backend ThreadingBackend with 12 concurrent workers.\n",
      "[Parallel(n_jobs=12)]: Done  26 tasks      | elapsed:    0.0s\n",
      "[Parallel(n_jobs=12)]: Done 100 out of 100 | elapsed:    0.2s finished\n"
     ]
    },
    {
     "data": {
      "text/plain": [
       "0.3366"
      ]
     },
     "execution_count": 30,
     "metadata": {},
     "output_type": "execute_result"
    }
   ],
   "source": [
    "model.score(x_test, y_test)"
   ]
  },
  {
   "cell_type": "markdown",
   "metadata": {},
   "source": [
    "### Testing"
   ]
  },
  {
   "cell_type": "code",
   "execution_count": 31,
   "metadata": {},
   "outputs": [],
   "source": [
    "import time\n",
    "import csv"
   ]
  },
  {
   "cell_type": "code",
   "execution_count": 32,
   "metadata": {},
   "outputs": [],
   "source": [
    "def nano_to_seconds(nanoseconds):\n",
    "    \"\"\"Converts nanoseconds to seconds rounded to the nearest 5 decimal places.\n",
    "    \n",
    "    Parameters\n",
    "    ----------\n",
    "    nanoseconds : int\n",
    "        The nanoseconds to convert\n",
    "    \"\"\"\n",
    "\n",
    "    return np.round((nanoseconds / 1e+9), 5)"
   ]
  },
  {
   "cell_type": "code",
   "execution_count": 33,
   "metadata": {},
   "outputs": [],
   "source": [
    "def test_random_forest_estimators():\n",
    "    num_estimators = list(range(100, 1001, 100)) + [1250, 1500, 1750, 2000]\n",
    "    (raw_x_train, raw_y_train), (raw_x_test, raw_y_test) = import_data()\n",
    "    with open('rf_estimators.csv', mode='w', newline='') as csv_file:\n",
    "        result_writer = csv.writer(csv_file, delimiter=',', quotechar='\"', quoting=csv.QUOTE_MINIMAL)\n",
    "        result_writer.writerow(['Number Estimators', 'Max Features', 'Criterion', 'Bootstrap', 'Average Accuracy', 'Average Runtime'])\n",
    "        max_features = 'log2'\n",
    "        criterion = 'gini'\n",
    "        bootstrap = False\n",
    "        for n_estimators in num_estimators:\n",
    "            num_tests = 0\n",
    "            total_accuracy = 0\n",
    "            total_runtime = 0\n",
    "            for i in range(2):\n",
    "                x_train, y_train, x_test, y_test = flatten_data(raw_x_train, raw_y_train, raw_x_test, raw_y_test)\n",
    "                model = RandomForestClassifier(\n",
    "                            n_jobs=-1, \n",
    "                            verbose=0,\n",
    "                            n_estimators=n_estimators,\n",
    "                            bootstrap=bootstrap, \n",
    "                            max_features=max_features, \n",
    "                            criterion=criterion)\n",
    "                start_time = time.time_ns()\n",
    "                model.fit(x_train, y_train)\n",
    "                total_accuracy += model.score(x_test, y_test)\n",
    "                end_time = time.time_ns()\n",
    "                total_runtime += nano_to_seconds(end_time - start_time)\n",
    "                num_tests += 1\n",
    "            avg_accuracy = np.round(total_accuracy / float(num_tests), 5)\n",
    "            avg_runtime = np.round(total_runtime / float(num_tests), 5)\n",
    "            result_writer.writerow([n_estimators, max_features, criterion, bootstrap, avg_accuracy, avg_runtime])\n",
    "            print(\"Finished n_estimators: {}\".format(n_estimators))"
   ]
  },
  {
   "cell_type": "code",
   "execution_count": 34,
   "metadata": {},
   "outputs": [],
   "source": [
    "# test_random_forest_estimators()"
   ]
  },
  {
   "cell_type": "code",
   "execution_count": 35,
   "metadata": {},
   "outputs": [],
   "source": [
    "def test_random_forest_max_features():\n",
    "    max_features_list = ['sqrt', 'log2', 0.1, 0.2, 0.3, 0.4, 0.5, 0.6, 0.7, 0.8, 0.9, 1.0]\n",
    "    (raw_x_train, raw_y_train), (raw_x_test, raw_y_test) = import_data()\n",
    "    with open('rf_features.csv', mode='w', newline='') as csv_file:\n",
    "        result_writer = csv.writer(csv_file, delimiter=',', quotechar='\"', quoting=csv.QUOTE_MINIMAL)\n",
    "        result_writer.writerow(['Number Estimators', 'Max Features', 'Criterion', 'Bootstrap', 'Average Accuracy', 'Average Runtime'])\n",
    "        n_estimators = 100\n",
    "        criterion = 'gini'\n",
    "        bootstrap = False\n",
    "        for max_features in max_features_list:\n",
    "            num_tests = 0\n",
    "            total_accuracy = 0\n",
    "            total_runtime = 0\n",
    "            iterations = 1\n",
    "            if max_features == \"sqrt\" or max_features == \"log2\":\n",
    "                iterations = 5\n",
    "            for i in range(iterations):\n",
    "                x_train, y_train, x_test, y_test = flatten_data(raw_x_train, raw_y_train, raw_x_test, raw_y_test)\n",
    "                model = RandomForestClassifier(\n",
    "                            n_jobs=-1, \n",
    "                            verbose=0,\n",
    "                            n_estimators=n_estimators,\n",
    "                            bootstrap=bootstrap, \n",
    "                            max_features=max_features, \n",
    "                            criterion=criterion)\n",
    "                start_time = time.time_ns()\n",
    "                model.fit(x_train, y_train)\n",
    "                total_accuracy += model.score(x_test, y_test)\n",
    "                end_time = time.time_ns()\n",
    "                total_runtime += nano_to_seconds(end_time - start_time)\n",
    "                num_tests += 1\n",
    "            avg_accuracy = np.round(total_accuracy / float(num_tests), 5)\n",
    "            avg_runtime = np.round(total_runtime / float(num_tests), 5)\n",
    "            result_writer.writerow([n_estimators, max_features, criterion, bootstrap, avg_accuracy, avg_runtime])\n",
    "            print(\"Finished max_features: {}\".format(max_features))"
   ]
  },
  {
   "cell_type": "code",
   "execution_count": 36,
   "metadata": {},
   "outputs": [],
   "source": [
    "# test_random_forest_max_features()"
   ]
  },
  {
   "cell_type": "code",
   "execution_count": 37,
   "metadata": {},
   "outputs": [],
   "source": [
    "def test_random_forest_criterion():\n",
    "    criterion_list = ['gini', 'entropy']\n",
    "    (raw_x_train, raw_y_train), (raw_x_test, raw_y_test) = import_data()\n",
    "    with open('rf_criterion.csv', mode='w', newline='') as csv_file:\n",
    "        result_writer = csv.writer(csv_file, delimiter=',', quotechar='\"', quoting=csv.QUOTE_MINIMAL)\n",
    "        result_writer.writerow(['Number Estimators', 'Max Features', 'Criterion', 'Bootstrap', 'Average Accuracy', 'Average Runtime'])\n",
    "        n_estimators = 100\n",
    "        max_features = 'log2'\n",
    "        bootstrap = False\n",
    "        for criterion in criterion_list:\n",
    "            num_tests = 0\n",
    "            total_accuracy = 0\n",
    "            total_runtime = 0\n",
    "            for i in range(5):\n",
    "                x_train, y_train, x_test, y_test = flatten_data(raw_x_train, raw_y_train, raw_x_test, raw_y_test)\n",
    "                model = RandomForestClassifier(\n",
    "                            n_jobs=-1, \n",
    "                            verbose=0,\n",
    "                            n_estimators=n_estimators,\n",
    "                            bootstrap=bootstrap, \n",
    "                            max_features=max_features, \n",
    "                            criterion=criterion)\n",
    "                start_time = time.time_ns()\n",
    "                model.fit(x_train, y_train)\n",
    "                total_accuracy += model.score(x_test, y_test)\n",
    "                end_time = time.time_ns()\n",
    "                total_runtime += nano_to_seconds(end_time - start_time)\n",
    "                num_tests += 1\n",
    "            avg_accuracy = np.round(total_accuracy / float(num_tests), 5)\n",
    "            avg_runtime = np.round(total_runtime / float(num_tests), 5)\n",
    "            result_writer.writerow([n_estimators, max_features, criterion, bootstrap, avg_accuracy, avg_runtime])\n",
    "            print(\"Finished criterion: {}\".format(criterion))"
   ]
  },
  {
   "cell_type": "code",
   "execution_count": 38,
   "metadata": {},
   "outputs": [],
   "source": [
    "# test_random_forest_criterion()"
   ]
  },
  {
   "cell_type": "code",
   "execution_count": 39,
   "metadata": {},
   "outputs": [],
   "source": [
    "def test_random_forest_bootstrap():\n",
    "    max_samples_list = [0.1, 0.2, 0.3, 0.4, 0.5, 0.6, 0.7, 0.8, 0.9, 0.99]\n",
    "    bootstrap_list = [False, True]\n",
    "    (raw_x_train, raw_y_train), (raw_x_test, raw_y_test) = import_data()\n",
    "    with open('rf_bootstrap.csv', mode='w', newline='') as csv_file:\n",
    "        result_writer = csv.writer(csv_file, delimiter=',', quotechar='\"', quoting=csv.QUOTE_MINIMAL)\n",
    "        result_writer.writerow(['Number Estimators', 'Max Features', 'Criterion', 'Bootstrap', 'Max Samples', 'Average Accuracy', 'Average Runtime'])\n",
    "        n_estimators = 100\n",
    "        criterion = 'gini'\n",
    "        max_features = 'log2'\n",
    "        max_samples = 1.0\n",
    "        for bootstrap in bootstrap_list:\n",
    "            if not bootstrap:\n",
    "                num_tests = 0\n",
    "                total_accuracy = 0\n",
    "                total_runtime = 0\n",
    "                for i in range(5):\n",
    "                    x_train, y_train, x_test, y_test = flatten_data(raw_x_train, raw_y_train, raw_x_test, raw_y_test)\n",
    "                    model = RandomForestClassifier(\n",
    "                                n_jobs=-1, \n",
    "                                verbose=0,\n",
    "                                n_estimators=n_estimators,\n",
    "                                bootstrap=bootstrap, \n",
    "                                max_features=max_features, \n",
    "                                criterion=criterion)\n",
    "                    start_time = time.time_ns()\n",
    "                    model.fit(x_train, y_train)\n",
    "                    total_accuracy += model.score(x_test, y_test)\n",
    "                    end_time = time.time_ns()\n",
    "                    total_runtime += nano_to_seconds(end_time - start_time)\n",
    "                    num_tests += 1\n",
    "                avg_accuracy = np.round(total_accuracy / float(num_tests), 5)\n",
    "                avg_runtime = np.round(total_runtime / float(num_tests), 5)\n",
    "                result_writer.writerow([n_estimators, max_features, criterion, bootstrap, max_samples, avg_accuracy, avg_runtime])\n",
    "                print(\"Finished bootstrap: {}\".format(bootstrap))\n",
    "            else:\n",
    "                for item in max_samples_list:\n",
    "                    max_samples = item\n",
    "                    num_tests = 0\n",
    "                    total_accuracy = 0\n",
    "                    total_runtime = 0\n",
    "                    for i in range(5):\n",
    "                        x_train, y_train, x_test, y_test = flatten_data(raw_x_train, raw_y_train, raw_x_test, raw_y_test)\n",
    "                        model = RandomForestClassifier(\n",
    "                                    n_jobs=-1, \n",
    "                                    verbose=0,\n",
    "                                    n_estimators=n_estimators,\n",
    "                                    bootstrap=bootstrap,\n",
    "                                    max_samples=max_samples,\n",
    "                                    max_features=max_features, \n",
    "                                    criterion=criterion)\n",
    "                        start_time = time.time_ns()\n",
    "                        model.fit(x_train, y_train)\n",
    "                        total_accuracy += model.score(x_test, y_test)\n",
    "                        end_time = time.time_ns()\n",
    "                        total_runtime += nano_to_seconds(end_time - start_time)\n",
    "                        num_tests += 1\n",
    "                    avg_accuracy = np.round(total_accuracy / float(num_tests), 5)\n",
    "                    avg_runtime = np.round(total_runtime / float(num_tests), 5)\n",
    "                    result_writer.writerow([n_estimators, max_features, criterion, bootstrap, max_samples, avg_accuracy, avg_runtime])\n",
    "                    print(\"Finished bootstrap - max_samples: {} - {}\".format(bootstrap, max_samples))"
   ]
  },
  {
   "cell_type": "code",
   "execution_count": 40,
   "metadata": {},
   "outputs": [],
   "source": [
    "# test_random_forest_bootstrap()"
   ]
  },
  {
   "cell_type": "code",
   "execution_count": 41,
   "metadata": {},
   "outputs": [],
   "source": [
    "def test_random_forest_image_filter():\n",
    "    techniques = ['none', 'grayscale', 'hist equalization', 'adaptive equalization', 'canny']\n",
    "    (raw_x_train, raw_y_train), (raw_x_test, raw_y_test) = import_data()\n",
    "    with open('rf_filter.csv', mode='w', newline='') as csv_file:\n",
    "        result_writer = csv.writer(csv_file, delimiter=',', quotechar='\"', quoting=csv.QUOTE_MINIMAL)\n",
    "        result_writer.writerow(['Number Estimators', 'Max Features', 'Criterion', 'Bootstrap', 'Technique', 'Average Accuracy', 'Average Runtime'])\n",
    "        n_estimators = 100\n",
    "        max_features = 'log2'\n",
    "        bootstrap = False\n",
    "        criterion = 'gini'\n",
    "        for technique in techniques:\n",
    "            num_tests = 0\n",
    "            total_accuracy = 0\n",
    "            total_runtime = 0\n",
    "            x_train = np.copy(raw_x_train)\n",
    "            y_train = np.copy(raw_y_train)\n",
    "            x_test = np.copy(raw_x_test)\n",
    "            y_test = np.copy(raw_y_test)\n",
    "            if technique == 'grayscale':\n",
    "                x_train, x_test = convert_to_grayscale(raw_x_train, raw_x_test)\n",
    "            elif technique == 'hist equalization':\n",
    "                x_train, x_test = equalize_hist_all(raw_x_train, raw_x_test)\n",
    "            elif technique == 'adaptive equalization':\n",
    "                x_train, x_test = equalize_adapthist_all(raw_x_train, raw_x_test)\n",
    "            elif technique == 'canny':\n",
    "                x_train, x_test = canny_edge_filter_all(raw_x_train, raw_x_test, 0)\n",
    "            x_train, y_train, x_test, y_test = flatten_data(x_train, y_train, x_test, y_test)\n",
    "            for i in range(5):\n",
    "                model = RandomForestClassifier(\n",
    "                            n_jobs=-1, \n",
    "                            verbose=0,\n",
    "                            n_estimators=n_estimators,\n",
    "                            bootstrap=bootstrap, \n",
    "                            max_features=max_features, \n",
    "                            criterion=criterion)\n",
    "                start_time = time.time_ns()\n",
    "                model.fit(x_train, y_train)\n",
    "                total_accuracy += model.score(x_test, y_test)\n",
    "                end_time = time.time_ns()\n",
    "                total_runtime += nano_to_seconds(end_time - start_time)\n",
    "                num_tests += 1\n",
    "            avg_accuracy = np.round(total_accuracy / float(num_tests), 5)\n",
    "            avg_runtime = np.round(total_runtime / float(num_tests), 5)\n",
    "            result_writer.writerow([n_estimators, max_features, criterion, bootstrap, technique, avg_accuracy, avg_runtime])\n",
    "            print(\"Finished technique: {}\".format(technique))"
   ]
  },
  {
   "cell_type": "code",
   "execution_count": 42,
   "metadata": {},
   "outputs": [],
   "source": [
    "# test_random_forest_image_filter()"
   ]
  },
  {
   "cell_type": "code",
   "execution_count": 43,
   "metadata": {},
   "outputs": [],
   "source": [
    "def test_random_forest_contrast_stretching():\n",
    "    stretch_factor = list(range(0, 46, 5))\n",
    "    (raw_x_train, raw_y_train), (raw_x_test, raw_y_test) = import_data()\n",
    "    with open('rf_contrast.csv', mode='w', newline='') as csv_file:\n",
    "        result_writer = csv.writer(csv_file, delimiter=',', quotechar='\"', quoting=csv.QUOTE_MINIMAL)\n",
    "        result_writer.writerow(['Number Estimators', 'Max Features', 'Criterion', 'Bootstrap', 'Contrast Strength', 'Average Accuracy', 'Average Runtime'])\n",
    "        n_estimators = 100\n",
    "        max_features = 'log2'\n",
    "        bootstrap = False\n",
    "        criterion = 'gini'\n",
    "        for strength in stretch_factor:\n",
    "            num_tests = 0\n",
    "            total_accuracy = 0\n",
    "            total_runtime = 0\n",
    "            x_train, x_test = increase_all_contrast(raw_x_train, raw_x_test, strength)\n",
    "            x_train, y_train, x_test, y_test = flatten_data(x_train, raw_y_train, x_test, raw_y_test)\n",
    "            for i in range(5):\n",
    "                model = RandomForestClassifier(\n",
    "                            n_jobs=-1, \n",
    "                            verbose=0,\n",
    "                            n_estimators=n_estimators,\n",
    "                            bootstrap=bootstrap, \n",
    "                            max_features=max_features, \n",
    "                            criterion=criterion)\n",
    "                start_time = time.time_ns()\n",
    "                model.fit(x_train, y_train)\n",
    "                total_accuracy += model.score(x_test, y_test)\n",
    "                end_time = time.time_ns()\n",
    "                total_runtime += nano_to_seconds(end_time - start_time)\n",
    "                num_tests += 1\n",
    "            avg_accuracy = np.round(total_accuracy / float(num_tests), 5)\n",
    "            avg_runtime = np.round(total_runtime / float(num_tests), 5)\n",
    "            result_writer.writerow([n_estimators, max_features, criterion, bootstrap, strength, avg_accuracy, avg_runtime])\n",
    "            print(\"Finished strength: {}\".format(strength))"
   ]
  },
  {
   "cell_type": "code",
   "execution_count": 44,
   "metadata": {},
   "outputs": [],
   "source": [
    "# test_random_forest_contrast_stretching()"
   ]
  },
  {
   "cell_type": "code",
   "execution_count": null,
   "metadata": {},
   "outputs": [],
   "source": []
  }
 ],
 "metadata": {
  "kernelspec": {
   "display_name": "Python 3",
   "language": "python",
   "name": "python3"
  },
  "language_info": {
   "codemirror_mode": {
    "name": "ipython",
    "version": 3
   },
   "file_extension": ".py",
   "mimetype": "text/x-python",
   "name": "python",
   "nbconvert_exporter": "python",
   "pygments_lexer": "ipython3",
   "version": "3.7.9"
  }
 },
 "nbformat": 4,
 "nbformat_minor": 2
}
